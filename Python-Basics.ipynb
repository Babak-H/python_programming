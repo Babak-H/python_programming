{
 "cells": [
  {
   "cell_type": "markdown",
   "id": "b12a6545",
   "metadata": {},
   "source": [
    "\n",
    "# *** working with String ***"
   ]
  },
  {
   "cell_type": "code",
   "execution_count": 3,
   "id": "21a6c1d0",
   "metadata": {},
   "outputs": [
    {
     "name": "stdout",
     "output_type": "stream",
     "text": [
      "Hello babak G! You just delved into python.\n"
     ]
    }
   ],
   "source": [
    "def print_full_name(a, b):\n",
    "    print(\"Hello \" + a + \" \" + b + \"! You just delved into python.\")\n",
    "    \n",
    "if __name__ == '__main__':\n",
    "    first_name = \"babak\"\n",
    "    last_name = \"G\"\n",
    "    print_full_name(first_name, last_name)"
   ]
  },
  {
   "cell_type": "code",
   "execution_count": 4,
   "id": "10f4c46b",
   "metadata": {},
   "outputs": [
    {
     "name": "stdout",
     "output_type": "stream",
     "text": [
      "I-like-BBQ\n"
     ]
    }
   ],
   "source": [
    "# string split() and join() methods:\n",
    "def split_and_join(line):\n",
    "    a = line.split(\" \")  # creates a list\n",
    "    return \"-\".join(a)\n",
    "\n",
    "line = \"I like BBQ\"\n",
    "result = split_and_join(line)\n",
    "print(result)"
   ]
  },
  {
   "cell_type": "code",
   "execution_count": 7,
   "id": "57ed9c41",
   "metadata": {},
   "outputs": [
    {
     "name": "stdout",
     "output_type": "stream",
     "text": [
      "True\n",
      "True\n",
      "False\n",
      "True\n",
      "True\n"
     ]
    }
   ],
   "source": [
    "# character methods\n",
    "# .isalnum(), isalpha(), isdigit(), islower(), isupper()  : all return true or false\n",
    "s = \"Apple\"\n",
    "x = [\"False\", \"False\", \"False\", \"False\", \"False\"]\n",
    "\n",
    "for i in range(len(s)):\n",
    "    char = s[i] # gets each character\n",
    "    if char.isalnum() and x[0] == \"False\":\n",
    "        x[0] = \"True\"\n",
    "        \n",
    "    if char.isalpha() and x[1] == \"False\":\n",
    "        x[1] = \"True\"\n",
    "\n",
    "    if char.isdigit() and x[2] == \"False\":\n",
    "        x[2] = \"True\"\n",
    "\n",
    "    if char.islower() and x[3] == \"False\":\n",
    "        x[3] = \"True\"\n",
    "\n",
    "    if char.isupper() and x[4] == \"False\":\n",
    "        x[4] = \"True\"\n",
    "        \n",
    "for val in x:\n",
    "    print(val)"
   ]
  },
  {
   "cell_type": "code",
   "execution_count": 9,
   "id": "a9ca4d4b",
   "metadata": {},
   "outputs": [
    {
     "name": "stdout",
     "output_type": "stream",
     "text": [
      "My Name Is Babak \n"
     ]
    }
   ],
   "source": [
    "# recieve an string and capitalize every word in it:\n",
    "def solve(s):\n",
    "    str_1 = \"\"\n",
    "    l = s.split(\" \")\n",
    "    for word in l:\n",
    "        str_1 += word.capitalize() + \" \"\n",
    "    return str_1\n",
    "\n",
    "s = \"my name is babak\"\n",
    "res = solve(s)\n",
    "print(res)        "
   ]
  },
  {
   "cell_type": "code",
   "execution_count": 11,
   "id": "8bb5f97e",
   "metadata": {},
   "outputs": [
    {
     "name": "stdout",
     "output_type": "stream",
     "text": [
      "5\n",
      "[5, 5, 6]\n"
     ]
    }
   ],
   "source": [
    "# sort all strings of a list based on their size\n",
    "X = [\"first\", \"Second\", \"Third\"]\n",
    "sorted_x = sorted(len(s) for s in X)\n",
    "# print mode from the sorted list to find avg length of list\n",
    "print(sorted_x[len(sorted_x) // 2]) \n",
    "print(sorted_x)"
   ]
  },
  {
   "cell_type": "code",
   "execution_count": 15,
   "id": "a8575846",
   "metadata": {},
   "outputs": [
    {
     "name": "stdout",
     "output_type": "stream",
     "text": [
      "[12, 14, 18, 18]\n",
      "18\n"
     ]
    }
   ],
   "source": [
    "# find mode\n",
    "l = [12, 14, 18, 18]\n",
    "l = sorted(l)\n",
    "print(l)\n",
    "mode = l[len(l) // 2]\n",
    "print(mode)"
   ]
  },
  {
   "cell_type": "code",
   "execution_count": 17,
   "id": "99d55809",
   "metadata": {},
   "outputs": [
    {
     "data": {
      "text/plain": [
       "'llo World!'"
      ]
     },
     "execution_count": 17,
     "metadata": {},
     "output_type": "execute_result"
    }
   ],
   "source": [
    "# How to substring a string in Python?\n",
    "x = \"Hello World!\"\n",
    "x[2:] # skip characters 0,1"
   ]
  },
  {
   "cell_type": "code",
   "execution_count": 18,
   "id": "d382d3cf",
   "metadata": {},
   "outputs": [
    {
     "data": {
      "text/plain": [
       "'ijkl'"
      ]
     },
     "execution_count": 18,
     "metadata": {},
     "output_type": "execute_result"
    }
   ],
   "source": [
    "# Get the last 4 characters of a string\n",
    "mystr = \"abcdefghijkl\"\n",
    "mystr[-4:]"
   ]
  },
  {
   "cell_type": "code",
   "execution_count": 22,
   "id": "46fe56d6",
   "metadata": {},
   "outputs": [
    {
     "name": "stdout",
     "output_type": "stream",
     "text": [
      "['a', 'b', 'c', 'd']\n",
      "['a,b,c', 'd']\n"
     ]
    }
   ],
   "source": [
    "# Splitting on delimiter in Python string\n",
    "s = \"a,b,c,d\"\n",
    "print(s.split(\",\"))\n",
    "# split only on last occurrence of ',' in string:\n",
    "print(s.rsplit(\",\", 1))"
   ]
  },
  {
   "cell_type": "code",
   "execution_count": 23,
   "id": "6e63088e",
   "metadata": {},
   "outputs": [
    {
     "data": {
      "text/plain": [
       "['w', 'o', 'r', 'd', ' ', 't', 'o', ' ', 's', 'p', 'l', 'i', 't']"
      ]
     },
     "execution_count": 23,
     "metadata": {},
     "output_type": "execute_result"
    }
   ],
   "source": [
    "# split a word into a list\n",
    "list(\"word to split\")"
   ]
  },
  {
   "cell_type": "code",
   "execution_count": 24,
   "id": "35286a35",
   "metadata": {},
   "outputs": [
    {
     "data": {
      "text/plain": [
       "'abcde'"
      ]
     },
     "execution_count": 24,
     "metadata": {},
     "output_type": "execute_result"
    }
   ],
   "source": [
    "# convert tuple to string\n",
    "tup = ('a', 'b', 'c', 'd', 'e')\n",
    "''.join(tup)"
   ]
  },
  {
   "cell_type": "code",
   "execution_count": 28,
   "id": "7a98953f",
   "metadata": {},
   "outputs": [
    {
     "name": "stdout",
     "output_type": "stream",
     "text": [
      "['E', 'N', 'O', 'V', 'W', 'Z']\n",
      "ENOVWZ\n",
      "E-N-O-V-W-Z\n",
      "['E', 'N', 'O', 'V', 'W', 'Z']\n"
     ]
    }
   ],
   "source": [
    "# How to sort the letters in a string alphabetically in Python\n",
    "a = 'ZENOVW'\n",
    "print(sorted(a))\n",
    "print(''.join(sorted(a)))\n",
    "b = '-'.join(sorted(a))\n",
    "print(b)\n",
    "print(b.split('-'))"
   ]
  },
  {
   "cell_type": "code",
   "execution_count": 30,
   "id": "4e8aec87",
   "metadata": {},
   "outputs": [
    {
     "name": "stdout",
     "output_type": "stream",
     "text": [
      "hello universe\n"
     ]
    }
   ],
   "source": [
    "# replace a string in text with another string\n",
    "str_0 = \"hello world\"\n",
    "str_1 = str_0.replace('world', 'universe')\n",
    "print(str_1)"
   ]
  },
  {
   "cell_type": "code",
   "execution_count": 34,
   "id": "c771c0a6",
   "metadata": {},
   "outputs": [
    {
     "name": "stdout",
     "output_type": "stream",
     "text": [
      "Hello, bob. Welcome!\n"
     ]
    }
   ],
   "source": [
    "# using .format() with strings\n",
    "name = 'bob'\n",
    "greeting = \"Hello\"\n",
    "\n",
    "message = '{}, {}. Welcome!'.format(greeting, name)\n",
    "print(message)"
   ]
  },
  {
   "cell_type": "code",
   "execution_count": 34,
   "id": "09093b97",
   "metadata": {},
   "outputs": [
    {
     "name": "stdout",
     "output_type": "stream",
     "text": [
      "hello my\n",
      "name is\n",
      "babak\n",
      "\n"
     ]
    }
   ],
   "source": [
    "import textwrap\n",
    "\n",
    "# will allow each line of text be of length 'max_width'\n",
    "def wrap(string, max_width):\n",
    "    wrapper = textwrap.TextWrapper(width=max_width)\n",
    "    word_list = wrapper.wrap(text=string)\n",
    "    s = \"\"\n",
    "    for word in word_list:\n",
    "        s += word + \"\\n\"\n",
    "    return s\n",
    "\n",
    "string, max_width = \"hello my name is babak\", 8\n",
    "result = wrap(string, max_width)\n",
    "print(result)"
   ]
  },
  {
   "cell_type": "code",
   "execution_count": 35,
   "id": "bb6cc170",
   "metadata": {},
   "outputs": [
    {
     "data": {
      "text/plain": [
       "'Hello world!'"
      ]
     },
     "execution_count": 35,
     "metadata": {},
     "output_type": "execute_result"
    }
   ],
   "source": [
    "textwrap.shorten(\"Hello           world!\", width=12)"
   ]
  },
  {
   "cell_type": "code",
   "execution_count": 36,
   "id": "704f0bde",
   "metadata": {},
   "outputs": [
    {
     "data": {
      "text/plain": [
       "'Returns the square of the argument x'"
      ]
     },
     "execution_count": 36,
     "metadata": {},
     "output_type": "execute_result"
    }
   ],
   "source": [
    "# doc string\n",
    "def square(x):\n",
    "    \"\"\"Returns the square of the argument x\"\"\"\n",
    "    return x*x\n",
    "\n",
    "square.__doc__  # => will return 'Returns the square of the argument x'"
   ]
  },
  {
   "cell_type": "code",
   "execution_count": 37,
   "id": "db904386",
   "metadata": {},
   "outputs": [
    {
     "data": {
      "text/plain": [
       "' fox'"
      ]
     },
     "execution_count": 37,
     "metadata": {},
     "output_type": "execute_result"
    }
   ],
   "source": [
    "s = \"fox\"\n",
    "s.rjust(4)  # adds one space to start of the string => ' fox'"
   ]
  },
  {
   "cell_type": "code",
   "execution_count": 39,
   "id": "e1c3ccb1",
   "metadata": {},
   "outputs": [
    {
     "data": {
      "text/plain": [
       "['HELLO', 'WORLD']"
      ]
     },
     "execution_count": 39,
     "metadata": {},
     "output_type": "execute_result"
    }
   ],
   "source": [
    "# ['hello', 'world'] ==> ['HELLO', 'WORLD']\n",
    "\n",
    "[s.upper() for s in ['hello', 'world']]"
   ]
  },
  {
   "cell_type": "code",
   "execution_count": 41,
   "id": "1d266894",
   "metadata": {},
   "outputs": [
    {
     "data": {
      "text/plain": [
       "' a '"
      ]
     },
     "execution_count": 41,
     "metadata": {},
     "output_type": "execute_result"
    }
   ],
   "source": [
    "# add space to both sides of a string\n",
    "s = \"a\"\n",
    "s.center(3)"
   ]
  },
  {
   "cell_type": "code",
   "execution_count": 44,
   "id": "ddc4bf3e",
   "metadata": {},
   "outputs": [
    {
     "name": "stdout",
     "output_type": "stream",
     "text": [
      "my_num is 5, and my_str is \"Hello\".\n"
     ]
    }
   ],
   "source": [
    "my_num = 5\n",
    "my_str = \"Hello\"\n",
    "f = \"my_num is {}, and my_str is \\\"{}\\\".\".format(my_num, my_str)\n",
    "\n",
    "print(f) "
   ]
  },
  {
   "cell_type": "code",
   "execution_count": 53,
   "id": "6df36841",
   "metadata": {},
   "outputs": [
    {
     "name": "stdout",
     "output_type": "stream",
     "text": [
      "tODAY wEATHER IS GOOd\n"
     ]
    }
   ],
   "source": [
    "# if a character in string is lower case make it upper and vice versa then return the string\n",
    "\n",
    "\n",
    "def swap_case(s):\n",
    "    l = list(s)\n",
    "    for i in range(len(l)):\n",
    "        if(l[i].isupper()):\n",
    "            l[i] = l[i].lower()\n",
    "        else:\n",
    "            l[i] = l[i].upper()\n",
    "    return \"\".join(l)\n",
    "\n",
    "\n",
    "s = \"Today Weather is gooD\"\n",
    "result = swap_case(s)\n",
    "print(result)"
   ]
  },
  {
   "cell_type": "code",
   "execution_count": 55,
   "id": "7e9d2d5b",
   "metadata": {},
   "outputs": [
    {
     "name": "stdout",
     "output_type": "stream",
     "text": [
      "0\n",
      "2\n"
     ]
    }
   ],
   "source": [
    "# how many times a string occurs in a substring:\n",
    "\n",
    "def count_substring(string, substring):\n",
    "    count = 0\n",
    "    num = 0\n",
    "    for i in range(len(string)):\n",
    "        if string[i] == substring[num]:\n",
    "            num = num+1\n",
    "        else:\n",
    "            num = 0\n",
    "        if num == len(substring):\n",
    "            count = count + 1\n",
    "            num = 0\n",
    "        return count\n",
    "\n",
    "\n",
    "string = \"bad fox jumped over good dog , bad fox\"\n",
    "sub_string = \"bad fox\"\n",
    "\n",
    "count = count_substring(string, sub_string)\n",
    "print(count)\n",
    "\n",
    "# easier way to do same thing:\n",
    "message = \"bad fox jumped over good dog , bad fox\"\n",
    "print(message.lower().count('bad fox'))"
   ]
  },
  {
   "cell_type": "markdown",
   "id": "fca6c4a5",
   "metadata": {},
   "source": [
    "\n",
    "# *** numerics ***"
   ]
  },
  {
   "cell_type": "code",
   "execution_count": 53,
   "id": "2d59a5cb",
   "metadata": {},
   "outputs": [
    {
     "name": "stdout",
     "output_type": "stream",
     "text": [
      "<class 'int'>\n",
      "<class 'float'>\n"
     ]
    }
   ],
   "source": [
    "import math\n",
    "\n",
    "num = 3\n",
    "num_1 = 3.14\n",
    "print(type(num))\n",
    "print(type(num_1))"
   ]
  },
  {
   "cell_type": "code",
   "execution_count": 54,
   "id": "e63a5815",
   "metadata": {},
   "outputs": [
    {
     "name": "stdout",
     "output_type": "stream",
     "text": [
      "7\n",
      "9\n"
     ]
    }
   ],
   "source": [
    "print(3 * 2 + 1)\n",
    "print(3 * (2 + 1))"
   ]
  },
  {
   "cell_type": "code",
   "execution_count": 55,
   "id": "d78749f6",
   "metadata": {},
   "outputs": [
    {
     "name": "stdout",
     "output_type": "stream",
     "text": [
      "3\n"
     ]
    }
   ],
   "source": [
    "# absolute value \n",
    "print(abs(-3))"
   ]
  },
  {
   "cell_type": "code",
   "execution_count": 56,
   "id": "e946be94",
   "metadata": {},
   "outputs": [
    {
     "name": "stdout",
     "output_type": "stream",
     "text": [
      "3.14\n"
     ]
    }
   ],
   "source": [
    "# rounding number\n",
    "print(round(3.14251, 2))"
   ]
  },
  {
   "cell_type": "code",
   "execution_count": 68,
   "id": "65fdf1e9",
   "metadata": {},
   "outputs": [
    {
     "name": "stdout",
     "output_type": "stream",
     "text": [
      "strange\n"
     ]
    }
   ],
   "source": [
    "# if else statement with integers:\n",
    "N = 25\n",
    "if (N >= 1 or N <= 100):\n",
    "    if (N % 2 != 0):\n",
    "        print(\"strange\")\n",
    "    elif (N >=2 and N < 5):\n",
    "        print(\"Not strange\")\n",
    "    elif(N >= 6 and N <= 20):\n",
    "        print(\"strange\")\n",
    "    else:\n",
    "        print(\"Not strange\")\n"
   ]
  },
  {
   "cell_type": "code",
   "execution_count": 72,
   "id": "33a44df0",
   "metadata": {},
   "outputs": [
    {
     "name": "stdout",
     "output_type": "stream",
     "text": [
      "25\n",
      "-1\n",
      "156\n",
      "0\n",
      "0.9230769230769231\n"
     ]
    }
   ],
   "source": [
    "if __name__ == \"__main__\":\n",
    "    a = 12\n",
    "    b = 13\n",
    "    \n",
    "print(a + b)\n",
    "print(a - b)\n",
    "print(a * b)\n",
    "print(a // b)  # floors to smaller int from float\n",
    "print(float(a) / b)"
   ]
  },
  {
   "cell_type": "code",
   "execution_count": 77,
   "id": "0da747ed",
   "metadata": {},
   "outputs": [
    {
     "name": "stdout",
     "output_type": "stream",
     "text": [
      "True\n"
     ]
    }
   ],
   "source": [
    "# calculate leap year\n",
    "def is_leap(year):\n",
    "    leap = False\n",
    "    if (year % 4 == 0 and year % 100 != 0):\n",
    "        leap = True\n",
    "    elif (year % 4 == 0 and year % 100 == 0 and year % 400 == 0):\n",
    "        leap = True\n",
    "    return leap\n",
    "\n",
    "year = 2024\n",
    "print(is_leap(year))"
   ]
  },
  {
   "cell_type": "code",
   "execution_count": 79,
   "id": "0a2e0225",
   "metadata": {},
   "outputs": [
    {
     "name": "stdout",
     "output_type": "stream",
     "text": [
      "[8743, 12083, 15]\n"
     ]
    }
   ],
   "source": [
    "# Efficient way to convert string from split function to int in Python\n",
    "test = \"8743-12083-15\"\n",
    "lst_int = [int(x) for x in test.split(\"-\")]\n",
    "print(lst_int)"
   ]
  },
  {
   "cell_type": "code",
   "execution_count": 205,
   "id": "45cfacfc",
   "metadata": {},
   "outputs": [
    {
     "name": "stdout",
     "output_type": "stream",
     "text": [
      "True\n",
      "False\n"
     ]
    }
   ],
   "source": [
    "#  reverse an integer, and tell if palindrome (same number on both sides)\n",
    "def palindrome(num):\n",
    "    return str(num) == str(num)[::-1]\n",
    "\n",
    "print(palindrome(121))\n",
    "print(palindrome(84))"
   ]
  },
  {
   "cell_type": "code",
   "execution_count": 43,
   "id": "9f6d0eb0",
   "metadata": {},
   "outputs": [
    {
     "name": "stdout",
     "output_type": "stream",
     "text": [
      "2.83\n"
     ]
    }
   ],
   "source": [
    "import math\n",
    "\n",
    "# for two given points calculate eucledian distance in python:\n",
    "x = [1, 2]\n",
    "y = [3, 4]\n",
    "\n",
    "\n",
    "def euclideanDistance(inst1, inst2):\n",
    "    dist = 0\n",
    "    for i in range(len(inst1)):\n",
    "        dist += pow((inst1[i] - inst2[i]), 2)\n",
    "    return round(math.sqrt(dist), 2)\n",
    "\n",
    "\n",
    "print(euclideanDistance(x, y))"
   ]
  },
  {
   "cell_type": "code",
   "execution_count": null,
   "id": "8b064164",
   "metadata": {},
   "outputs": [],
   "source": []
  },
  {
   "cell_type": "markdown",
   "id": "bf601db7",
   "metadata": {},
   "source": [
    "\n",
    "# *** Conditionals if else ***"
   ]
  },
  {
   "cell_type": "code",
   "execution_count": 83,
   "id": "9941830a",
   "metadata": {},
   "outputs": [
    {
     "name": "stdout",
     "output_type": "stream",
     "text": [
      "admin page\n"
     ]
    }
   ],
   "source": [
    "# There is no switch-case statement in python!!\n",
    "# use if-else instead\n",
    "\n",
    "# and | or | not\n",
    "user = \"admin\"\n",
    "logged_in = True\n",
    "\n",
    "if user == 'admin' and logged_in:\n",
    "    print('admin page')\n",
    "elif user == 'admin' or logged_in:\n",
    "    print('wrong page')\n",
    "elif not logged_in:  # logged_in = False\n",
    "    print('bad creds')\n",
    "else:\n",
    "    print('end')"
   ]
  },
  {
   "cell_type": "code",
   "execution_count": null,
   "id": "024ebfc1",
   "metadata": {},
   "outputs": [],
   "source": [
    "# How to exit an if clause\n",
    "# Wrap the code in its own function. Instead of break, use return\n",
    "\n",
    "def some_func():\n",
    "    if condition_a:\n",
    "        # do something and return early\n",
    "        return\n",
    "    if condition_b:\n",
    "        # do something else and return early\n",
    "        return\n",
    "    \n",
    "    # some other code here\n",
    "    return\n",
    "\n",
    "if outer_condition:\n",
    "    some_function()"
   ]
  },
  {
   "cell_type": "code",
   "execution_count": 90,
   "id": "f100082d",
   "metadata": {},
   "outputs": [],
   "source": [
    "# Simplify Chained Comparison\n",
    "\n",
    "x = 12\n",
    "start = 9\n",
    "end = 15\n",
    "if start <= x <= end:\n",
    "    pass\n",
    "\n",
    "r = range(start, end + 1) # (!) if integers\n",
    "if x in r:\n",
    "    pass"
   ]
  },
  {
   "cell_type": "code",
   "execution_count": 52,
   "id": "2c6bc8ec",
   "metadata": {},
   "outputs": [
    {
     "name": "stdout",
     "output_type": "stream",
     "text": [
      "1\n",
      "2\n",
      "Fizz\n",
      "4\n",
      "Buzz\n",
      "Fizz\n",
      "7\n",
      "8\n",
      "Fizz\n",
      "Buzz\n"
     ]
    }
   ],
   "source": [
    "# write a program that prints numbers from 1 to 10, for multiples of 3 print \"Fizz\", for mutilples of 5 print \"Buzz\"\n",
    "# for both print \"FizzBuzz\"\n",
    "\n",
    "for i in range(1, 11):\n",
    "    if(i % 3 == 0 and i % 5 == 0):\n",
    "        print(\"FizzBuzz\")\n",
    "    elif (i % 3 == 0):\n",
    "        print(\"Fizz\")\n",
    "    elif(i % 5 == 0):\n",
    "        print(\"Buzz\")\n",
    "    else:\n",
    "        print(i)"
   ]
  },
  {
   "cell_type": "markdown",
   "id": "caaf3e47",
   "metadata": {},
   "source": [
    "\n",
    "# *** List and Generators ***"
   ]
  },
  {
   "cell_type": "code",
   "execution_count": 143,
   "id": "ac21a8fa",
   "metadata": {},
   "outputs": [
    {
     "name": "stdout",
     "output_type": "stream",
     "text": [
      "[1, 2, 3, 1, 2, 3]\n",
      "3\n"
     ]
    }
   ],
   "source": [
    "a = [1, 2, 3]\n",
    "print(a + a)\n",
    "\n",
    "# length of list\n",
    "print(len(a))"
   ]
  },
  {
   "cell_type": "code",
   "execution_count": 165,
   "id": "5fc9230f",
   "metadata": {},
   "outputs": [
    {
     "name": "stdout",
     "output_type": "stream",
     "text": [
      "[1, 2, 3.5, 'apple', 'red', [1, 2, 3]]\n"
     ]
    },
    {
     "data": {
      "text/plain": [
       "list"
      ]
     },
     "execution_count": 165,
     "metadata": {},
     "output_type": "execute_result"
    }
   ],
   "source": [
    "# lists can have different types inside them\n",
    "print([1, 2, 3.5, \"apple\", \"red\", [1,2,3]])\n",
    "type([1, 2, 3.5, \"apple\", \"red\", [1,2,3]])"
   ]
  },
  {
   "cell_type": "code",
   "execution_count": 96,
   "id": "da29ed0f",
   "metadata": {},
   "outputs": [
    {
     "name": "stdout",
     "output_type": "stream",
     "text": [
      "True\n",
      "False\n"
     ]
    }
   ],
   "source": [
    "# How can I compare two ordered lists in python?\n",
    "print([0, 1, 2] == [0, 1, 2])\n",
    "print([0, 1, 2] == [0, 2, 1])"
   ]
  },
  {
   "cell_type": "code",
   "execution_count": 98,
   "id": "ee2a6cfb",
   "metadata": {},
   "outputs": [],
   "source": [
    "'''\n",
    "in python you can't create an empty list and then assign a value by index to it.\n",
    "j = []\n",
    "j[0] = 1 this will return error\n",
    "\n",
    "instead  => j.append(1)\n",
    "\n",
    "How to clone or copy a list?\n",
    "With \"new_list = my_list\", you don't actually have two lists. The assignment just copies the reference to\n",
    "the list, not the actual list, so both new_list and my_list refer to the same list after the assignment\n",
    "To actually copy the list, You can use the builtin list.copy() method (available since Python 3.3):\n",
    "'''\n",
    "old_l = [1, 2, 3]\n",
    "new_l = old_l.copy()\n",
    "# or\n",
    "new_l = old_l[:]"
   ]
  },
  {
   "cell_type": "code",
   "execution_count": 102,
   "id": "965bc32f",
   "metadata": {},
   "outputs": [
    {
     "name": "stdout",
     "output_type": "stream",
     "text": [
      "[0, 3, 2]\n",
      "[3, 2, 1]\n",
      "3\n"
     ]
    }
   ],
   "source": [
    "# Difference between del, remove and pop on lists:\n",
    "# 'remove' removes the first matching value, not a specific index\n",
    "a = [0, 2, 3, 2]\n",
    "a.remove(2)\n",
    "print(a)\n",
    "\n",
    "# del removes the item at a specific index\n",
    "a = [3, 2, 2, 1]\n",
    "del a[1]\n",
    "print(a)\n",
    "\n",
    "# and pop removes the item at a specific index and returns it\n",
    "a = [4, 3, 5]\n",
    "print(a.pop(1))"
   ]
  },
  {
   "cell_type": "code",
   "execution_count": 105,
   "id": "800cc03c",
   "metadata": {},
   "outputs": [
    {
     "name": "stdout",
     "output_type": "stream",
     "text": [
      "4\n",
      "2\n"
     ]
    }
   ],
   "source": [
    "# negative index\n",
    "x = [1, 2, 3, 4]\n",
    "print(x[-1]) # last element\n",
    "print(x[-3]) # third element from last"
   ]
  },
  {
   "cell_type": "code",
   "execution_count": 108,
   "id": "5e8ed8c1",
   "metadata": {},
   "outputs": [
    {
     "data": {
      "text/plain": [
       "[5, 1, 2, 3]"
      ]
     },
     "execution_count": 108,
     "metadata": {},
     "output_type": "execute_result"
    }
   ],
   "source": [
    "# Append integer to beginning of list in Python\n",
    "a = 5\n",
    "li = [1, 2, 3]\n",
    "[a] + li  # Don't use 'list' as variable name."
   ]
  },
  {
   "cell_type": "code",
   "execution_count": 113,
   "id": "52e8dcde",
   "metadata": {},
   "outputs": [
    {
     "name": "stdout",
     "output_type": "stream",
     "text": [
      "c\n",
      "['b', 'c', 'b']\n"
     ]
    }
   ],
   "source": [
    "# How to randomly select an item from a list?\n",
    "import random\n",
    "\n",
    "foo = [\"a\", \"b\", \"c\", \"d\", \"e\"]\n",
    "print(random.choice(foo))\n",
    "# choose 3 random elements of list (can be repeated)\n",
    "print(random.choices(foo, k=3))"
   ]
  },
  {
   "cell_type": "code",
   "execution_count": 115,
   "id": "d24a4440",
   "metadata": {},
   "outputs": [
    {
     "name": "stdout",
     "output_type": "stream",
     "text": [
      "[0, 0, 0, 0, 0] [None, None, None, None, None]\n"
     ]
    }
   ],
   "source": [
    "# how to get an empty list of any size in python\n",
    "a = [0] * 5\n",
    "b = [None] * 5\n",
    "print(a, b)"
   ]
  },
  {
   "cell_type": "code",
   "execution_count": 122,
   "id": "88e274f4",
   "metadata": {},
   "outputs": [
    {
     "name": "stdout",
     "output_type": "stream",
     "text": [
      "8\n",
      "2\n"
     ]
    }
   ],
   "source": [
    "# find biggest / smallest string in the list\n",
    "X = [\"biggest\", \"smallest\", \"list\", \"fr\"]\n",
    "\n",
    "print(max(len(s) for s in X))\n",
    "print(min(len(s) for s in X))"
   ]
  },
  {
   "cell_type": "code",
   "execution_count": 125,
   "id": "f64d368c",
   "metadata": {},
   "outputs": [
    {
     "name": "stdout",
     "output_type": "stream",
     "text": [
      "[2, 4, 5, 12]\n",
      "[8, 9, 12, 7, 5, 6, 4, 3]\n"
     ]
    }
   ],
   "source": [
    "# list[start : end : step]\n",
    "l = [1, 2, 3, 4, 6, 5, 7, 12, 9, 8]\n",
    "print(l[1:-2:2]) # from second to last 2nd element with step 2 (skip one element each time)\n",
    "print(l[-1:1:-1]) # iterating from last to second (-1 means going back)"
   ]
  },
  {
   "cell_type": "code",
   "execution_count": 126,
   "id": "2522488b",
   "metadata": {},
   "outputs": [
    {
     "data": {
      "text/plain": [
       "[8, 9, 12, 7, 5, 6, 4, 3, 2, 1]"
      ]
     },
     "execution_count": 126,
     "metadata": {},
     "output_type": "execute_result"
    }
   ],
   "source": [
    "# from last to first\n",
    "l[::-1]"
   ]
  },
  {
   "cell_type": "code",
   "execution_count": 142,
   "id": "f6b2ff3e",
   "metadata": {},
   "outputs": [
    {
     "name": "stdout",
     "output_type": "stream",
     "text": [
      "[3, 4, 5, 5]\n",
      "[4, 5, 5]\n",
      "[1, 2, 3, 4, 5, 5, 6]\n",
      "[0, 1, 2, 3, 4, 5, 5, 6]\n",
      "[0, 1, 2, 3, 4, 5, 5]\n",
      "[5, 5, 4, 3, 2, 1, 0] reversed\n",
      "[0, 1, 2, 3, 4, 5, 5]\n",
      "[0, 1, 2, 3, 4, 5, 5] sorted\n",
      "[5, 5, 4, 3, 2, 1, 0] reverse sorted\n",
      "[1, 2, 3] sort without changing the original\n",
      "0 index of value 5\n",
      "False\n"
     ]
    },
    {
     "data": {
      "text/plain": [
       "6"
      ]
     },
     "execution_count": 142,
     "metadata": {},
     "output_type": "execute_result"
    }
   ],
   "source": [
    "lst = [1, 2, 3, 4, 5, 5]\n",
    "\n",
    "# from third to last\n",
    "print(lst[2:])\n",
    "# from third last element to last\n",
    "print(lst[-3:])\n",
    "\n",
    "# append to list (adds at end)\n",
    "lst.append(6)  \n",
    "print(lst)\n",
    "# inset to string (index, value)\n",
    "lst.insert(0, 0)\n",
    "print(lst)\n",
    "# removes last value from list and return it\n",
    "lst.pop()\n",
    "print(lst)\n",
    "# reverse the list (changes current list)\n",
    "lst.reverse()\n",
    "print(lst, \"reversed\")\n",
    "print(lst[::-1]) # (does NOT change current list)\n",
    "\n",
    "# sort the list\n",
    "lst.sort()\n",
    "print(lst, \"sorted\")\n",
    "# reverse-sort a list (biggest to smallest)\n",
    "lst.sort(reverse=True)\n",
    "print(lst, \"reverse sorted\")\n",
    "# sort but do not change the list\n",
    "print(sorted([3,1,2]), \"sort without changing the original\")\n",
    "\n",
    "# find (first) index of a value inside list\n",
    "print(lst.index(5), \"index of value 5\")\n",
    "# check if a value is inside a list:\n",
    "print(7 in lst)\n",
    "\n",
    "# add up all values inside an int list\n",
    "numbers = [1, 2, 3]\n",
    "print(sum(numbers))"
   ]
  },
  {
   "cell_type": "code",
   "execution_count": 145,
   "id": "c637a83b",
   "metadata": {},
   "outputs": [
    {
     "data": {
      "text/plain": [
       "False"
      ]
     },
     "execution_count": 145,
     "metadata": {},
     "output_type": "execute_result"
    }
   ],
   "source": [
    "# check if all values in list are greater than a certain number\n",
    "my_lst = [29, 500, 43]\n",
    "all(i >= 300 for i in my_lst)"
   ]
  },
  {
   "cell_type": "code",
   "execution_count": 146,
   "id": "30e3b4a3",
   "metadata": {},
   "outputs": [
    {
     "name": "stdout",
     "output_type": "stream",
     "text": [
      "December 1\n",
      "Bread gloves\n"
     ]
    }
   ],
   "source": [
    "# List Unpacking\n",
    "date, name, price = ['December 1', 'Bread gloves', 8.50]\n",
    "print(date)\n",
    "print(name)"
   ]
  },
  {
   "cell_type": "code",
   "execution_count": 149,
   "id": "f4b5f7f6",
   "metadata": {},
   "outputs": [
    {
     "name": "stdout",
     "output_type": "stream",
     "text": [
      "77.0\n",
      "5.333333333333333\n"
     ]
    }
   ],
   "source": [
    "# get average of all items in a list but drop the first and last one.\n",
    "grades = [11, 44, 99, 88, 25]\n",
    "\n",
    "def drop_first_last(grades):\n",
    "    first, *middle, last = grades\n",
    "    # sum(list) = adds all items in a list.\n",
    "    # len(list) = gets the number of how many items in a list.\n",
    "    avg = sum(middle) / len(middle)\n",
    "    print(avg)\n",
    "    \n",
    "drop_first_last(grades)   \n",
    "drop_first_last([10, 5, 4, 7, 3])"
   ]
  },
  {
   "cell_type": "code",
   "execution_count": 150,
   "id": "824938ec",
   "metadata": {},
   "outputs": [
    {
     "name": "stdout",
     "output_type": "stream",
     "text": [
      "[1, 0, 0]\n"
     ]
    }
   ],
   "source": [
    "# if else inside a list\n",
    "y_raw = ['ham', 'spam', 'spam']\n",
    "y = [1 if i == 'ham' else 0 for i in y_raw]\n",
    "print(y)"
   ]
  },
  {
   "cell_type": "code",
   "execution_count": 151,
   "id": "c890856f",
   "metadata": {},
   "outputs": [
    {
     "name": "stdout",
     "output_type": "stream",
     "text": [
      "0 3\n"
     ]
    }
   ],
   "source": [
    "# Getting the index of the returned max or min item using max()/min() on a list\n",
    "values = [1, 2, 3, 4]\n",
    "min_idx = values.index(min(values))\n",
    "max_idx = values.index(max(values))\n",
    "print(min_idx, max_idx)"
   ]
  },
  {
   "cell_type": "code",
   "execution_count": 38,
   "id": "32309261",
   "metadata": {},
   "outputs": [
    {
     "name": "stdout",
     "output_type": "stream",
     "text": [
      "[21, 219, 262, 105, 13, 123, 167, 718, 173, 272]\n",
      "[21, 105, 167, 272]\n",
      "[219, 13, 718]\n",
      "[262, 123, 173]\n",
      "[[21, 105, 167, 272], [219, 13, 718], [262, 123, 173]]\n"
     ]
    }
   ],
   "source": [
    "# How do you slice a list (indefinite length) randomly into 3 subgroups\n",
    "l = [105, 167, 262, 173, 123, 718, 219, 272, 13, 21]\n",
    "# random.shuffle() changes order of list randomly\n",
    "random.shuffle(l)\n",
    "print(l)\n",
    "\n",
    "# l[0::3] => 105, 173, 718, 21 => get position 0, jump 3 steps ahead and get that position, repeat until end of list\n",
    "print(l[::3])\n",
    "print(l[1::3])\n",
    "print(l[2::3])\n",
    "\n",
    "var = [l[x::3] for x in range(3)]  # 0,1 ,2\n",
    "print(var)"
   ]
  },
  {
   "cell_type": "code",
   "execution_count": 152,
   "id": "3a1e3afb",
   "metadata": {},
   "outputs": [
    {
     "name": "stdout",
     "output_type": "stream",
     "text": [
      "1\n",
      "4\n",
      "9\n",
      "16\n",
      "25\n"
     ]
    }
   ],
   "source": [
    "# generators\n",
    "'''\n",
    "generators have better performance than lists. because they don't put all the data into memory at once, instead they \n",
    "loop through data one by one.\n",
    "generators are useful when the data includes hundreds of thousands or millions of records.\n",
    "'''\n",
    "def square_numbers(nums):\n",
    "    for i in nums:\n",
    "        yield i * i  # this yield keyword is what makes this function a generator\n",
    "\n",
    "# when we call a generator it \"doesn't\" process anything, we have to call it to get the results\n",
    "my_nums = square_numbers([1, 2, 3, 4, 5])\n",
    "\n",
    "# here next() method calls each result from generator\n",
    "print(next(my_nums))  # 1\n",
    "print(next(my_nums))  # 2\n",
    "print(next(my_nums))  # 3\n",
    "\n",
    "for num in my_nums:\n",
    "    print(num)"
   ]
  },
  {
   "cell_type": "code",
   "execution_count": 157,
   "id": "435ba563",
   "metadata": {},
   "outputs": [
    {
     "name": "stdout",
     "output_type": "stream",
     "text": [
      "<generator object <genexpr> at 0x0000020FC916C450>\n"
     ]
    }
   ],
   "source": [
    "# generator comprehension (similar to list comprehension)\n",
    "my_nums_1 = (x*x for x in [1, 2, 3, 4, 6])\n",
    "print(my_nums_1)"
   ]
  },
  {
   "cell_type": "code",
   "execution_count": 158,
   "id": "ece38e29",
   "metadata": {},
   "outputs": [
    {
     "name": "stdout",
     "output_type": "stream",
     "text": [
      "1\n",
      "4\n",
      "9\n",
      "16\n",
      "36\n"
     ]
    }
   ],
   "source": [
    "for num in my_nums_1:\n",
    "    print(num)"
   ]
  },
  {
   "cell_type": "code",
   "execution_count": 159,
   "id": "e0145850",
   "metadata": {},
   "outputs": [
    {
     "name": "stdout",
     "output_type": "stream",
     "text": [
      "{'id': 0, 'name': 'corey', 'major': 'Arts'}\n",
      "{'id': 1, 'name': 'steve', 'major': 'Engineering'}\n",
      "{'id': 2, 'name': 'Thomas', 'major': 'Arts'}\n",
      "{'id': 3, 'name': 'adam', 'major': 'Compsci'}\n",
      "{'id': 4, 'name': 'corey', 'major': 'Arts'}\n",
      "{'id': 5, 'name': 'corey', 'major': 'Arts'}\n",
      "{'id': 6, 'name': 'steve', 'major': 'Arts'}\n",
      "{'id': 7, 'name': 'steve', 'major': 'Arts'}\n",
      "{'id': 8, 'name': 'adam', 'major': 'Engineering'}\n",
      "{'id': 9, 'name': 'Thomas', 'major': 'Compsci'}\n"
     ]
    }
   ],
   "source": [
    "names = ['john', 'corey', 'adam', 'steve', 'Thomas']\n",
    "majors = ['Math', 'Engineering', 'Compsci', 'Arts']\n",
    "\n",
    "def people_generator(num_people):\n",
    "    for i in range(num_people):\n",
    "        person = {\n",
    "            'id': i,\n",
    "            'name': random.choice(names),\n",
    "            'major': random.choice(majors)\n",
    "        }\n",
    "        yield person\n",
    "# here we create generator but since we haven't looped through it, we don't have to process anything\n",
    "people = people_generator(10)\n",
    "# here we process data\n",
    "for peep in people:\n",
    "    print(peep)"
   ]
  },
  {
   "cell_type": "code",
   "execution_count": 50,
   "id": "cf7f0ae2",
   "metadata": {},
   "outputs": [
    {
     "name": "stdout",
     "output_type": "stream",
     "text": [
      "[['bacon, banana', 5], ['ham, salami, cheese', -1]]\n"
     ]
    }
   ],
   "source": [
    "# Iterating through 2 dimensional lists in 1 line\n",
    "\n",
    "sandwiches = [[\"bacon\", \"banana\"], [\"ham\", \"salami\", \"cheese\"]]\n",
    "prefs = {\"bacon\": 5, \"ham\": -2, \"salami\": 1}\n",
    "\n",
    "scores = [[\", \".join(i), sum(prefs[j] for j in i if j in prefs)]\n",
    "          for i in sandwiches]\n",
    "print(scores)"
   ]
  },
  {
   "cell_type": "code",
   "execution_count": null,
   "id": "c326921d",
   "metadata": {},
   "outputs": [],
   "source": [
    "# find second smallest number in a inner list\n",
    "\n",
    "# create inner list from user input\n",
    "p_list = []\n",
    "for _ in range(0, int(input())):\n",
    "    p_list.append([input(), float(input())])\n",
    "\n",
    "\n",
    "# for name, marks in marksheet : this is how we iterate inner lists with two array\n",
    "# then we select mark\n",
    "# and use set to remove duplicates\n",
    "second_low = sorted(list(set([marks for name, marks in p_list])))[1]"
   ]
  },
  {
   "cell_type": "code",
   "execution_count": null,
   "id": "f59a32f7",
   "metadata": {},
   "outputs": [],
   "source": []
  },
  {
   "cell_type": "code",
   "execution_count": 47,
   "id": "b3c07ce3",
   "metadata": {},
   "outputs": [
    {
     "name": "stdout",
     "output_type": "stream",
     "text": [
      "0 33\n",
      "19Jul1B\n"
     ]
    }
   ],
   "source": [
    "import re\n",
    "import calendar\n",
    "'''\n",
    "*** interview question ***\n",
    "given a timestamp date \"2019-07-01 12:42:33\" return string of \"19Jul1B\"\n",
    "hours : 0-7 A 7-14 B 14-21 C 21-24 D  it should be the shown after start of the hour (7:00:01 accepted)\n",
    "'''\n",
    "def DateChecker(timestamp):\n",
    "    date = re.match(\n",
    "        r'(\\d{4})\\-(\\d{2})\\-(\\d{2}) (\\d{2})\\:(\\d{2})\\:(\\d{2})', timestamp)\n",
    "    year = date.group(1)[2:]\n",
    "    month = int(date.group(2))\n",
    "    day = int(date.group(3))\n",
    "    hour = int(date.group(4))\n",
    "    mint = int(date.group(5))\n",
    "    sec = int(date.group(6))\n",
    "    string = \"\"\n",
    "    string += year\n",
    "    string += calendar.month_abbr[month]\n",
    "    string += str(day)\n",
    "\n",
    "    if ((hour >= 0 and hour < 7) and (mint > 0 or sec > 0)):\n",
    "        string += \"A\"\n",
    "    elif ((hour >= 7 and hour < 14) and (mint > 0 or sec > 0)):\n",
    "        print(mint, sec)\n",
    "        string += \"B\"\n",
    "    elif ((hour >= 14 and hour < 24) and (mint > 0 or sec > 0)):\n",
    "        string += \"C\"\n",
    "    return string\n",
    "\n",
    "\n",
    "print(DateChecker(\"2019-07-01 12:00:33\"))"
   ]
  },
  {
   "cell_type": "markdown",
   "id": "eb92e077",
   "metadata": {},
   "source": [
    "\n",
    "# *** Dictionary ***"
   ]
  },
  {
   "cell_type": "code",
   "execution_count": 172,
   "id": "63d00840",
   "metadata": {},
   "outputs": [
    {
     "name": "stdout",
     "output_type": "stream",
     "text": [
      "john john\n",
      "{'name': 'john', 'age': 25, 'courses': ['Math', 'CompSci']}\n",
      "2\n",
      "dict_keys(['name', 'courses'])\n",
      "dict_values(['john', ['Math', 'CompSci']])\n"
     ]
    }
   ],
   "source": [
    "import random\n",
    "\n",
    "student = {'name': 'john', 'age': 25, 'courses': [\"Math\", \"CompSci\"]}\n",
    "\n",
    "# both methods return the value for key, but when using get() it won't return error if key doesn't exist\n",
    "print(student['name'], student.get('name'))\n",
    "# delete key value pair from the dictionary\n",
    "# del student['age']\n",
    "print(student)\n",
    "# another way (will return the deleted value)\n",
    "student.pop('age')\n",
    "# length of dictionary\n",
    "print(len(student))\n",
    "# keys and values\n",
    "print(student.keys())\n",
    "print(student.values())"
   ]
  },
  {
   "cell_type": "code",
   "execution_count": 174,
   "id": "4c59f6a2",
   "metadata": {},
   "outputs": [
    {
     "name": "stdout",
     "output_type": "stream",
     "text": [
      "{0: 5, 1: 5, 2: 5, 3: 5, 4: 5, 5: 5, 6: 5, 7: 5, 8: 5, 9: 5}\n"
     ]
    }
   ],
   "source": [
    "# Check if a given key already exists in a dictionary\n",
    "# this is the intended way to test for the existence of a key in a dict.\n",
    "d = dict()\n",
    "\n",
    "for i in range(50):\n",
    "    key = i % 10\n",
    "    if key in d:\n",
    "        d[key] += 1\n",
    "    else:\n",
    "        d[key] = 1\n",
    "        \n",
    "print(d)"
   ]
  },
  {
   "cell_type": "code",
   "execution_count": 175,
   "id": "eec8cbdf",
   "metadata": {},
   "outputs": [
    {
     "data": {
      "text/plain": [
       "'foo'"
      ]
     },
     "execution_count": 175,
     "metadata": {},
     "output_type": "execute_result"
    }
   ],
   "source": [
    "# How do you find the first key in a dictionary?\n",
    "my_dict = {'foo': 'bar', 'too': 'char'}\n",
    "next(iter(my_dict))  # only shows first key"
   ]
  },
  {
   "cell_type": "code",
   "execution_count": 177,
   "id": "fb2d5e8e",
   "metadata": {},
   "outputs": [
    {
     "name": "stdout",
     "output_type": "stream",
     "text": [
      "{'dict1': {'inner_key': 'value'}, 32: 'red', 'dict2': {'one': 'two'}}\n"
     ]
    }
   ],
   "source": [
    "# How do you create nested dict in Python?\n",
    "d = {}\n",
    "d['dict1'] = {}\n",
    "d['dict1']['inner_key'] = 'value'\n",
    "d[32] = 'red'\n",
    "d['dict2'] = {'one': 'two'}\n",
    "print(d)"
   ]
  },
  {
   "cell_type": "code",
   "execution_count": 184,
   "id": "8a38af0b",
   "metadata": {},
   "outputs": [
    {
     "data": {
      "text/plain": [
       "'CANADA'"
      ]
     },
     "execution_count": 184,
     "metadata": {},
     "output_type": "execute_result"
    }
   ],
   "source": [
    "# How to get a random value in python dictionary\n",
    "d = {'VENEZUELA': 'CARACAS', 'CANADA': 'OTTAWA'}\n",
    "random.choice(list(d.keys()))"
   ]
  },
  {
   "cell_type": "code",
   "execution_count": 185,
   "id": "7769cd3c",
   "metadata": {},
   "outputs": [
    {
     "data": {
      "text/plain": [
       "(dict_items([('VENEZUELA', 'CARACAS'), ('CANADA', 'OTTAWA')]),\n",
       " dict_keys(['VENEZUELA', 'CANADA']))"
      ]
     },
     "execution_count": 185,
     "metadata": {},
     "output_type": "execute_result"
    }
   ],
   "source": [
    "# iteration through dictionary in python 2 vs python 3\n",
    "# python 2  :  dict.iteritems() , dict.iterkeys()\n",
    "# python 3\n",
    "d.items(), d.keys()"
   ]
  },
  {
   "cell_type": "code",
   "execution_count": 189,
   "id": "a81fde14",
   "metadata": {},
   "outputs": [
    {
     "name": "stdout",
     "output_type": "stream",
     "text": [
      "[[1, 1], [2, 2], [3, 3]]\n"
     ]
    }
   ],
   "source": [
    "# Converting Python Dictionary to List (with inner list)\n",
    "my_dict = {1: 1, 2: 2, 3: 3}\n",
    "dictlist = []\n",
    "\n",
    "for key, value in my_dict.items():\n",
    "    temp = [key, value]\n",
    "    dictlist.append(temp)\n",
    "    \n",
    "print(dictlist)"
   ]
  },
  {
   "cell_type": "code",
   "execution_count": 195,
   "id": "7b469a45",
   "metadata": {},
   "outputs": [
    {
     "name": "stdout",
     "output_type": "stream",
     "text": [
      "[{'name': 'Ned', 'join_date': '2016-01-29', 'age': 35}, {'name': 'Anthony', 'join_date': '2017-03-09', 'age': 29}, {'name': 'Britney', 'join_date': '2019-05-11', 'age': 21}]\n",
      "[{'name': 'Ned', 'join_date': '2016-01-29', 'age': 35}, {'name': 'Anthony', 'join_date': '2017-03-09', 'age': 29}, {'name': 'Britney', 'join_date': '2019-05-11', 'age': 21}]\n"
     ]
    }
   ],
   "source": [
    "# Sorting List of Dictionaries\n",
    "# itemgetter (easier to use than lambda, but slower)\n",
    "from operator import itemgetter\n",
    "\n",
    "users = [\n",
    "    {'name': 'Anthony', 'join_date': '2017-03-09', 'age': 29},\n",
    "    {'name': 'Britney', 'join_date': '2019-05-11', 'age': 21},\n",
    "    {'name': 'Ned',     'join_date': '2016-01-29', 'age': 35}\n",
    "]\n",
    "\n",
    "users.sort(key=itemgetter('join_date'))\n",
    "print(users)\n",
    "users.sort(key=itemgetter('age'), reverse=True)\n",
    "print(users)"
   ]
  },
  {
   "cell_type": "code",
   "execution_count": 196,
   "id": "e3579dc6",
   "metadata": {},
   "outputs": [
    {
     "name": "stdout",
     "output_type": "stream",
     "text": [
      "this will execute\n"
     ]
    }
   ],
   "source": [
    "# Check if a given key already exists in a dictionary\n",
    "d = {\"key1\": 10, \"key2\": 23}\n",
    "\n",
    "if \"key1\" in d:\n",
    "    print(\"this will execute\")\n",
    "if \"nonexistent key\" in d:\n",
    "    print(\"this will not\")"
   ]
  },
  {
   "cell_type": "code",
   "execution_count": 197,
   "id": "73271b1b",
   "metadata": {},
   "outputs": [
    {
     "name": "stdout",
     "output_type": "stream",
     "text": [
      "12 14\n"
     ]
    }
   ],
   "source": [
    "# MUTABLE : can change it => list, dict, set, byteArray\n",
    "# IMMUTABLE : can't change it => tuple, frozen set [note: immutable version of set], int, float, complex, string, bytes\n",
    "# a mutable object can change its state or contents and immutable objects cannot.\n",
    "a = 12\n",
    "b = a\n",
    "b = 14\n",
    "print(a, b)"
   ]
  },
  {
   "cell_type": "code",
   "execution_count": 48,
   "id": "26691c80",
   "metadata": {},
   "outputs": [
    {
     "name": "stdout",
     "output_type": "stream",
     "text": [
      "(39.28, 'YHOO') (520.54, 'GOOG')\n",
      "[(39.28, 'YHOO'), (76.45, 'FB'), (99.76, 'APPL'), (306.21, 'AMZN'), (520.54, 'GOOG')]\n",
      "[('AMZN', 306.21), ('APPL', 99.76), ('FB', 76.45), ('GOOG', 520.54), ('YHOO', 39.28)]\n"
     ]
    }
   ],
   "source": [
    "'''\n",
    "change a dictionary to two lists:\n",
    "    stocks.keys() = gives you a list of first items (keys) of the dictionary.\n",
    "    stocks.values() = gives you a list of second items (values) of the dictionary.\n",
    "you can't min/max a dictionary but you can min/max it if you change it to a zipped list.\n",
    "\n",
    "if you want to min/max a dictionary based on it's values give the zipped list the values or the other way around.\n",
    "zipped list sorts based on the first value in a (x, y).\n",
    "'''\n",
    "stocks = {\n",
    "    'GOOG': 520.54,\n",
    "    'FB': 76.45,\n",
    "    'YHOO': 39.28,\n",
    "    'AMZN': 306.21,\n",
    "    'APPL': 99.76\n",
    "}\n",
    "\n",
    "min = min(zip(stocks.values(), stocks.keys()))\n",
    "max = max(zip(stocks.values(), stocks.keys()))\n",
    "sorted_num = sorted(zip(stocks.values(), stocks.keys()))\n",
    "sorted_word = sorted(zip(stocks.keys(), stocks.values()))\n",
    "print(min, max)\n",
    "print(sorted_num)\n",
    "print(sorted_word)"
   ]
  },
  {
   "cell_type": "markdown",
   "id": "9e6c8820",
   "metadata": {},
   "source": [
    "\n",
    "# *** Tuples and Sets *** "
   ]
  },
  {
   "cell_type": "code",
   "execution_count": 199,
   "id": "03b266a8",
   "metadata": {},
   "outputs": [
    {
     "data": {
      "text/plain": [
       "(1, 2, 3)"
      ]
     },
     "execution_count": 199,
     "metadata": {},
     "output_type": "execute_result"
    }
   ],
   "source": [
    "# Convert list to tuple in Python\n",
    "l = [1, 2, 3]\n",
    "tuple(l)"
   ]
  },
  {
   "cell_type": "code",
   "execution_count": 200,
   "id": "e9f55c26",
   "metadata": {},
   "outputs": [],
   "source": [
    "# you can't add to tuple or remove from it when it is already created / Immutable\n",
    "tup = ('history', 'math', 'physics')"
   ]
  },
  {
   "cell_type": "code",
   "execution_count": 201,
   "id": "5df82075",
   "metadata": {},
   "outputs": [
    {
     "data": {
      "text/plain": [
       "[('abc', 121), ('abc', 148), ('abc', 221), ('abc', 231)]"
      ]
     },
     "execution_count": 201,
     "metadata": {},
     "output_type": "execute_result"
    }
   ],
   "source": [
    "# Sort a list of tuples by 2nd item (integer value)\n",
    "l = [('abc', 121), ('abc', 231), ('abc', 148), ('abc', 221)]\n",
    "'''\n",
    "Try using the \"key\" keyword with sorted()\n",
    "key should be a function that identifies how to retrieve the comparable element from your data structure. \n",
    "In your case, it is the second element of the tuple, so we access [1]\n",
    "'''\n",
    "sorted(l, key=lambda x: x[1])"
   ]
  },
  {
   "cell_type": "code",
   "execution_count": 204,
   "id": "6500cb9d",
   "metadata": {},
   "outputs": [
    {
     "name": "stdout",
     "output_type": "stream",
     "text": [
      "{'n', 'e', 'R', 'k', 's', 'a', 'H', 'r', 'c'}\n",
      "{1, 4, 5, 6, 12}\n",
      "{'Hacker', 'Rank'}\n"
     ]
    }
   ],
   "source": [
    "# set : sets are used for membership testing and eliminating duplicate entries.\n",
    "print(set('HackerRanks'))\n",
    "print(set([1, 1, 4, 5, 12, 1, 6, 6]))\n",
    "\n",
    "# dictionary to set\n",
    "print(set({'Hacker': 'DOSHI', 'Rank': 616}))"
   ]
  },
  {
   "cell_type": "code",
   "execution_count": 206,
   "id": "fdaafe54",
   "metadata": {},
   "outputs": [],
   "source": [
    "# this is mean not median\n",
    "def averge(array):\n",
    "    return sum(set(array)) / len(set(array))"
   ]
  },
  {
   "cell_type": "code",
   "execution_count": 207,
   "id": "84971e4d",
   "metadata": {},
   "outputs": [
    {
     "name": "stdout",
     "output_type": "stream",
     "text": [
      "{1, 2, 3, 4, 5, 6, 7, 8}\n"
     ]
    }
   ],
   "source": [
    "s1 = {1, 2, 3, 4, 5}\n",
    "s1.add(6)\n",
    "s1.update([6,7,8])\n",
    "print(s1)"
   ]
  },
  {
   "cell_type": "code",
   "execution_count": 208,
   "id": "5946a129",
   "metadata": {},
   "outputs": [
    {
     "name": "stdout",
     "output_type": "stream",
     "text": [
      "{1, 2, 3, 4, 5, 8}\n"
     ]
    }
   ],
   "source": [
    "# remove() and discard() both delete from set, but discard won't throw an error even when the value doesnt exist in\n",
    "# the set\n",
    "s1.remove(6)\n",
    "s1.discard(7)\n",
    "print(s1)"
   ]
  },
  {
   "cell_type": "code",
   "execution_count": 215,
   "id": "f4da0730",
   "metadata": {},
   "outputs": [
    {
     "name": "stdout",
     "output_type": "stream",
     "text": [
      "{'two', 'one', 'three'}\n",
      "True\n"
     ]
    }
   ],
   "source": [
    "# there is no order for values in sets, so each time you run it, it will show new values\n",
    "courses = {'one', 'two', 'three'}\n",
    "print(courses)\n",
    "# sets are optimized for membership sharing\n",
    "print('one' in courses)"
   ]
  },
  {
   "cell_type": "code",
   "execution_count": 218,
   "id": "b0506fec",
   "metadata": {},
   "outputs": [
    {
     "name": "stdout",
     "output_type": "stream",
     "text": [
      "{'three'} similarity of sets\n",
      "{'two', 'one'} differences of sets\n",
      "{'four', 'three', 'two', 'one', 'five'} mix two sets\n"
     ]
    }
   ],
   "source": [
    "courses_2 = {'four', 'five', 'three'}\n",
    "print(courses_2.intersection(courses), \"similarity of sets\")\n",
    "print(courses.difference(courses_2), \"differences of sets\")\n",
    "print(courses.union(courses_2), \"mix two sets\")"
   ]
  },
  {
   "cell_type": "code",
   "execution_count": 219,
   "id": "fed04157",
   "metadata": {},
   "outputs": [],
   "source": [
    "# generate empty list\n",
    "empty_list = []\n",
    "empty_list_2 = list()\n",
    "# generate empty tuple\n",
    "empty_tuple = ()\n",
    "empty_tuple_2 = tuple()\n",
    "# generate empty set\n",
    "empty_set = set()"
   ]
  },
  {
   "cell_type": "code",
   "execution_count": 222,
   "id": "c691b473",
   "metadata": {},
   "outputs": [
    {
     "name": "stdout",
     "output_type": "stream",
     "text": [
      "55\n",
      "255\n"
     ]
    }
   ],
   "source": [
    "# named tuple : named tuples are similar to dictionaries, but with easier syntax that needs less writing\n",
    "from collections import namedtuple\n",
    "Color = namedtuple('Color', ['red', 'green', 'blue'])\n",
    "color = Color(55, 155, 255)\n",
    "print(color.red)\n",
    "white = Color(255, 255, 255)\n",
    "print(color.blue)"
   ]
  },
  {
   "cell_type": "code",
   "execution_count": 49,
   "id": "5cac6100",
   "metadata": {},
   "outputs": [
    {
     "name": "stdout",
     "output_type": "stream",
     "text": [
      "{1, 2, 3}\n",
      "[('a', ['x', 'y']), ('b', [1, 2])]\n"
     ]
    }
   ],
   "source": [
    "x = (1, 2, 3)\n",
    "print(set(x))  \n",
    "\n",
    "list_keys = ['a', 'b']\n",
    "list_values = [['x', 'y'], [1, 2]]\n",
    "\n",
    "print(list(zip(list_keys, list_values)) )"
   ]
  },
  {
   "cell_type": "markdown",
   "id": "c83d92d9",
   "metadata": {},
   "source": [
    "\n",
    "# *** Variable Scope ***"
   ]
  },
  {
   "cell_type": "code",
   "execution_count": 224,
   "id": "e5d53ffe",
   "metadata": {},
   "outputs": [
    {
     "name": "stdout",
     "output_type": "stream",
     "text": [
      "variable y\n"
     ]
    }
   ],
   "source": [
    "# type of python variable scopes: 'Local', 'Enclosing', 'Global', 'Built-in'\n",
    "x = 'varialbe x' # global variable\n",
    "def test():\n",
    "    y = 'variable y' # local variable\n",
    "    print(y)\n",
    "    \n",
    "test()"
   ]
  },
  {
   "cell_type": "code",
   "execution_count": 226,
   "id": "0d1924d9",
   "metadata": {},
   "outputs": [
    {
     "name": "stdout",
     "output_type": "stream",
     "text": [
      "y_1\n",
      "5\n"
     ]
    }
   ],
   "source": [
    "# how to change global variable within a function\n",
    "y = \"global_y\"\n",
    "def test_1():\n",
    "    # we have to use keyword global to make sure python understands we want to use the global variable\n",
    "    global y  \n",
    "    y = \"y_1\"\n",
    "    global x_1  # we can even define global variables within a function\n",
    "    x_1 = 5\n",
    "    \n",
    "test_1()\n",
    "print(y)\n",
    "print(x_1)"
   ]
  },
  {
   "cell_type": "code",
   "execution_count": 227,
   "id": "a5dad704",
   "metadata": {},
   "outputs": [
    {
     "name": "stdout",
     "output_type": "stream",
     "text": [
      "['ArithmeticError', 'AssertionError', 'AttributeError', 'BaseException', 'BaseExceptionGroup', 'BlockingIOError', 'BrokenPipeError', 'BufferError', 'BytesWarning', 'ChildProcessError', 'ConnectionAbortedError', 'ConnectionError', 'ConnectionRefusedError', 'ConnectionResetError', 'DeprecationWarning', 'EOFError', 'Ellipsis', 'EncodingWarning', 'EnvironmentError', 'Exception', 'ExceptionGroup', 'False', 'FileExistsError', 'FileNotFoundError', 'FloatingPointError', 'FutureWarning', 'GeneratorExit', 'IOError', 'ImportError', 'ImportWarning', 'IndentationError', 'IndexError', 'InterruptedError', 'IsADirectoryError', 'KeyError', 'KeyboardInterrupt', 'LookupError', 'MemoryError', 'ModuleNotFoundError', 'NameError', 'None', 'NotADirectoryError', 'NotImplemented', 'NotImplementedError', 'OSError', 'OverflowError', 'PendingDeprecationWarning', 'PermissionError', 'ProcessLookupError', 'RecursionError', 'ReferenceError', 'ResourceWarning', 'RuntimeError', 'RuntimeWarning', 'StopAsyncIteration', 'StopIteration', 'SyntaxError', 'SyntaxWarning', 'SystemError', 'SystemExit', 'TabError', 'TimeoutError', 'True', 'TypeError', 'UnboundLocalError', 'UnicodeDecodeError', 'UnicodeEncodeError', 'UnicodeError', 'UnicodeTranslateError', 'UnicodeWarning', 'UserWarning', 'ValueError', 'Warning', 'WindowsError', 'ZeroDivisionError', '__IPYTHON__', '__build_class__', '__debug__', '__doc__', '__import__', '__loader__', '__name__', '__package__', '__spec__', 'abs', 'aiter', 'all', 'anext', 'any', 'ascii', 'bin', 'bool', 'breakpoint', 'bytearray', 'bytes', 'callable', 'chr', 'classmethod', 'compile', 'complex', 'copyright', 'credits', 'delattr', 'dict', 'dir', 'display', 'divmod', 'enumerate', 'eval', 'exec', 'execfile', 'filter', 'float', 'format', 'frozenset', 'get_ipython', 'getattr', 'globals', 'hasattr', 'hash', 'help', 'hex', 'id', 'input', 'int', 'isinstance', 'issubclass', 'iter', 'len', 'license', 'list', 'locals', 'map', 'max', 'memoryview', 'min', 'next', 'object', 'oct', 'open', 'ord', 'pow', 'print', 'property', 'range', 'repr', 'reversed', 'round', 'runfile', 'set', 'setattr', 'slice', 'sorted', 'staticmethod', 'str', 'sum', 'super', 'tuple', 'type', 'vars', 'zip']\n"
     ]
    }
   ],
   "source": [
    "import builtins\n",
    "print(dir(builtins))   # dir() function returns all attributes of given variable"
   ]
  },
  {
   "cell_type": "code",
   "execution_count": 228,
   "id": "33a2a673",
   "metadata": {},
   "outputs": [
    {
     "name": "stdout",
     "output_type": "stream",
     "text": [
      "inner x\n",
      "outer x\n"
     ]
    }
   ],
   "source": [
    "# Enclosing\n",
    "def outer():\n",
    "    x = 'outer x'\n",
    "\n",
    "    def inner():\n",
    "        x = 'inner x'\n",
    "        print(x) # here it checks if there is any local variables with name x, so it will print them\n",
    "    inner()\n",
    "    print(x)  # here it will check for local variable for this scope (inside outer function) to print\n",
    "\n",
    "outer()"
   ]
  },
  {
   "cell_type": "code",
   "execution_count": 229,
   "id": "d7f1828a",
   "metadata": {},
   "outputs": [
    {
     "name": "stdout",
     "output_type": "stream",
     "text": [
      "True\n"
     ]
    }
   ],
   "source": [
    "# SameValue  VS  Same Object\n",
    "a = [1, 2, 3]\n",
    "b = [1, 2, 3]\n",
    "print(a == b)  # checks if both objects have same value => True"
   ]
  },
  {
   "cell_type": "code",
   "execution_count": 230,
   "id": "ed7d2954",
   "metadata": {},
   "outputs": [
    {
     "name": "stdout",
     "output_type": "stream",
     "text": [
      "2266816950400\n",
      "2266818060288\n",
      "False\n"
     ]
    }
   ],
   "source": [
    "print(id(a))\n",
    "print(id(b))\n",
    "print(a is b)  # checks if both objects are one in memory => False"
   ]
  },
  {
   "cell_type": "markdown",
   "id": "48045871",
   "metadata": {},
   "source": [
    "\n",
    "# *** Random Module and range ***"
   ]
  },
  {
   "cell_type": "code",
   "execution_count": 2,
   "id": "9a0bfadf",
   "metadata": {},
   "outputs": [
    {
     "name": "stdout",
     "output_type": "stream",
     "text": [
      "0\n",
      "1\n",
      "4\n",
      "9\n"
     ]
    }
   ],
   "source": [
    "# range\n",
    "if __name__ == '__main__':\n",
    "    n = 4\n",
    "# n is NOT included in the range\n",
    "for i in range(n):\n",
    "    print(i * i)"
   ]
  },
  {
   "cell_type": "code",
   "execution_count": 9,
   "id": "53301797",
   "metadata": {},
   "outputs": [
    {
     "name": "stdout",
     "output_type": "stream",
     "text": [
      "1,2,3,"
     ]
    }
   ],
   "source": [
    "n = 3\n",
    "for i in range(1, n+1):\n",
    "    print(i, sep='', end=',', flush=True) # prints everything in one line"
   ]
  },
  {
   "cell_type": "code",
   "execution_count": 17,
   "id": "887faf5f",
   "metadata": {},
   "outputs": [
    {
     "name": "stdout",
     "output_type": "stream",
     "text": [
      "62\n",
      "69\n",
      "68\n",
      "47\n",
      "4\n"
     ]
    }
   ],
   "source": [
    "# How to Generate a Random Number in Python\n",
    "import random\n",
    "\n",
    "for x in range(5):\n",
    "    print(random.randint(1, 101))"
   ]
  },
  {
   "cell_type": "code",
   "execution_count": 23,
   "id": "1c9c7731",
   "metadata": {},
   "outputs": [
    {
     "data": {
      "text/plain": [
       "0.6912854792911396"
      ]
     },
     "execution_count": 23,
     "metadata": {},
     "output_type": "execute_result"
    }
   ],
   "source": [
    "'''\n",
    "range() and xrange()\n",
    "xrange() was renamed to range() in Python 3.\n",
    "\n",
    "In python, what is the difference between random.uniform() and random.random()?\n",
    "random.random() gives you a random floating point number in the range [0.0, 1.0) (so including 0.0, but not including 1.0 which is also known as a semi-open range). \n",
    "random.uniform(a, b) gives you a random floating point number in the range [a, b], (where rounding may end up giving you b).\n",
    "'''\n",
    "# this function returns value in range of [0, 1)\n",
    "random.random()"
   ]
  },
  {
   "cell_type": "code",
   "execution_count": 24,
   "id": "2df2672b",
   "metadata": {},
   "outputs": [
    {
     "name": "stdout",
     "output_type": "stream",
     "text": [
      "9.34258976228401\n",
      "15\n"
     ]
    }
   ],
   "source": [
    "def uniform(self, a, b):\n",
    "    \"\"\"Get a random number in the range [a, b) or [a, b] depending on rounding.\"\"\"\n",
    "    return a + (b - a) * self.random()  # self.random => between 0 and 1 (smaller than 1)\n",
    "\n",
    "print(random.uniform(1, 10))  # returns random float in a range\n",
    "print(random.randint(1, 100)) # returns random integer in a range"
   ]
  },
  {
   "cell_type": "markdown",
   "id": "b201aacd",
   "metadata": {},
   "source": [
    "\n",
    "# *** Loops and Iterators ***"
   ]
  },
  {
   "cell_type": "code",
   "execution_count": 40,
   "id": "1086c524",
   "metadata": {},
   "outputs": [
    {
     "name": "stdout",
     "output_type": "stream",
     "text": [
      "H\n",
      "e\n",
      "l\n",
      "l\n",
      "o\n"
     ]
    }
   ],
   "source": [
    "# loop over an string\n",
    "for letter in 'Hello':\n",
    "    print(letter)"
   ]
  },
  {
   "cell_type": "code",
   "execution_count": 41,
   "id": "8eaa99b8",
   "metadata": {},
   "outputs": [
    {
     "name": "stdout",
     "output_type": "stream",
     "text": [
      "2\n",
      "3\n"
     ]
    }
   ],
   "source": [
    "# Skip first entry in for loop in python\n",
    "cars = [1,2,3]\n",
    "iter_cars = iter(cars)\n",
    "next(iter_cars) # jump first element\n",
    "for car in iter_cars:\n",
    "    print(car)"
   ]
  },
  {
   "cell_type": "code",
   "execution_count": 43,
   "id": "8de90ee3",
   "metadata": {},
   "outputs": [
    {
     "name": "stdout",
     "output_type": "stream",
     "text": [
      "0\n",
      "1\n",
      "2\n"
     ]
    }
   ],
   "source": [
    "# while loop\n",
    "x = 0\n",
    "while True:\n",
    "    if x == 3:\n",
    "        break\n",
    "    print(x)\n",
    "    x += 1"
   ]
  },
  {
   "cell_type": "code",
   "execution_count": 44,
   "id": "6d944fd6",
   "metadata": {},
   "outputs": [
    {
     "name": "stdout",
     "output_type": "stream",
     "text": [
      "0\n",
      "1\n",
      "1\n",
      "2\n",
      "3\n",
      "5\n",
      "8\n",
      "13\n",
      "21\n",
      "34\n"
     ]
    }
   ],
   "source": [
    "# Fibonacci sequence\n",
    "a, b = 0, 1\n",
    "for _ in range(0, 10):\n",
    "    print(a)\n",
    "    a,b = b, a+b"
   ]
  },
  {
   "cell_type": "code",
   "execution_count": 46,
   "id": "f92a53f3",
   "metadata": {},
   "outputs": [
    {
     "name": "stdout",
     "output_type": "stream",
     "text": [
      "foo\n",
      "bar\n",
      "baz\n",
      "0 foo\n",
      "1 bar\n",
      "2 baz\n"
     ]
    }
   ],
   "source": [
    "'''\n",
    "The enumerate() function adds a counter to an iterable. So for each element in cursor, a tuple is \n",
    "produced with (counter, element). the for loop binds that to row_number and row, respectively.\n",
    "'''\n",
    "elements = ('foo', 'bar', 'baz')\n",
    "for elem in elements:\n",
    "    print(elem)\n",
    "    \n",
    "for count, elem in enumerate(elements):\n",
    "    print(count, elem)"
   ]
  },
  {
   "cell_type": "code",
   "execution_count": 49,
   "id": "171903f2",
   "metadata": {},
   "outputs": [
    {
     "name": "stdout",
     "output_type": "stream",
     "text": [
      "1\n",
      "2\n",
      "3\n",
      "this will be executed if we didn't have any breaks\n"
     ]
    }
   ],
   "source": [
    "# else clause after loop\n",
    "my_list = [1, 2, 3]\n",
    "\n",
    "for i in my_list:\n",
    "    print(i)\n",
    "    if i == 6:\n",
    "        break\n",
    "else:\n",
    "    print(\"this will be executed if we didn't have any breaks\")   "
   ]
  },
  {
   "cell_type": "code",
   "execution_count": 50,
   "id": "6d808717",
   "metadata": {},
   "outputs": [
    {
     "name": "stdout",
     "output_type": "stream",
     "text": [
      "0\n",
      "1\n",
      "2\n"
     ]
    }
   ],
   "source": [
    "j = 0\n",
    "while j < 5:\n",
    "    print(j)\n",
    "    j += 1\n",
    "    if j == 3:\n",
    "        break\n",
    "else:\n",
    "    print(\"this will be executed if we didn't have any breaks\")"
   ]
  },
  {
   "cell_type": "code",
   "execution_count": 52,
   "id": "e35d97c0",
   "metadata": {},
   "outputs": [
    {
     "name": "stdout",
     "output_type": "stream",
     "text": [
      "<list_iterator object at 0x000002C1D73A42E0>\n"
     ]
    }
   ],
   "source": [
    "# Iterable: something that can be looped over, all iterables have the iter() method\n",
    "# Iterators : know their next state (next value to loop over) and contain next() method.\n",
    "nums = [1, 2, 3]\n",
    "print(nums.__iter__())"
   ]
  },
  {
   "cell_type": "code",
   "execution_count": 55,
   "id": "7339ce0f",
   "metadata": {},
   "outputs": [
    {
     "name": "stdout",
     "output_type": "stream",
     "text": [
      "1\n",
      "2\n",
      "3\n"
     ]
    }
   ],
   "source": [
    "# iterating over the list gives us an Iterator, and it contains __next__() method\n",
    "i_nums = iter(nums)\n",
    "print(i_nums.__next__())\n",
    "print(i_nums.__next__())\n",
    "print(i_nums.__next__())"
   ]
  },
  {
   "cell_type": "code",
   "execution_count": 58,
   "id": "81e2c4ec",
   "metadata": {},
   "outputs": [
    {
     "name": "stdout",
     "output_type": "stream",
     "text": [
      "1\n",
      "2\n",
      "3\n",
      "4\n"
     ]
    }
   ],
   "source": [
    "# a class that works same as built-in range function\n",
    "class MyRange:\n",
    "    def __init__(self, start, end):\n",
    "        self.value = start\n",
    "        self.end = end\n",
    "        \n",
    "    def __iter__(self):\n",
    "        return self\n",
    "    \n",
    "    def __next__(self):\n",
    "        if self.value >= self.end:\n",
    "            raise StopIteration\n",
    "        current = self.value\n",
    "        self.value += 1\n",
    "        return current\n",
    "    \n",
    "nums = MyRange(1, 5)\n",
    "print(next(nums))\n",
    "\n",
    "for num in nums:\n",
    "    print(num)"
   ]
  },
  {
   "cell_type": "code",
   "execution_count": 83,
   "id": "1ad75641",
   "metadata": {},
   "outputs": [
    {
     "name": "stdout",
     "output_type": "stream",
     "text": [
      "True\n"
     ]
    }
   ],
   "source": [
    "# all() : if all values in this list have this condition\n",
    "# any() : if any value in this list has this condition\n",
    "\n",
    "N = 3\n",
    "list1 = [int(num) for num in \"1 2 3 4 5 6 7\".split(\" \")]\n",
    "\n",
    "if all(i > 0 for i in list1) and any(str(num)[::-1] == str(num) for num in list1):\n",
    "    print(\"True\")\n",
    "else:\n",
    "    print(\"False\")"
   ]
  },
  {
   "cell_type": "code",
   "execution_count": 61,
   "id": "4a0c6eed",
   "metadata": {},
   "outputs": [
    {
     "name": "stdout",
     "output_type": "stream",
     "text": [
      "<zip object at 0x000002C1D6CC2480>\n",
      "[('Peter parker', 'spiderMan'), ('Clark kent', 'superman'), ('Wade Wilson', 'deadpool'), ('Bruce Wayne', 'batman')]\n"
     ]
    }
   ],
   "source": [
    "# Exhausting Iterators : in python3 you need to cast zip object as list to see all its values at once\n",
    "names = ['Peter parker', 'Clark kent', 'Wade Wilson', 'Bruce Wayne']\n",
    "heroes = ['spiderMan', 'superman', 'deadpool', 'batman']\n",
    "\n",
    "identities = zip(names, heroes)  # creates a tuple with each elements from two lists\n",
    "print(identities)\n",
    "print(list(identities))"
   ]
  },
  {
   "cell_type": "code",
   "execution_count": 77,
   "id": "d759e481",
   "metadata": {},
   "outputs": [
    {
     "name": "stdout",
     "output_type": "stream",
     "text": [
      "0 100\n",
      "1 200\n",
      "2 300\n"
     ]
    }
   ],
   "source": [
    "data = [100, 200, 300]\n",
    "daily_data = zip(itertools.count(), data)\n",
    "\n",
    "for a, b in daily_data:\n",
    "    print(a, b)"
   ]
  },
  {
   "cell_type": "code",
   "execution_count": 84,
   "id": "c83609df",
   "metadata": {},
   "outputs": [
    {
     "name": "stdout",
     "output_type": "stream",
     "text": [
      "1.0\n",
      "0.5\n",
      "0.5\n"
     ]
    }
   ],
   "source": [
    "# using zip : zip will stop when shortest list stops\n",
    "x = [1, 2, 3, 4]\n",
    "y = [1, 4, 6]\n",
    "\n",
    "for i, j in zip(x, y):\n",
    "    print(i / j)"
   ]
  },
  {
   "cell_type": "code",
   "execution_count": 62,
   "id": "2a8387ae",
   "metadata": {},
   "outputs": [
    {
     "name": "stdout",
     "output_type": "stream",
     "text": [
      "0\n",
      "1\n",
      "2\n",
      "3\n",
      "4\n",
      "5\n",
      "6\n",
      "7\n",
      "8\n",
      "9\n",
      "zero\n",
      "one\n",
      "two\n",
      "three\n",
      "four\n",
      "five\n",
      "six\n",
      "seven\n",
      "eight\n",
      "nine\n",
      "a\n",
      "b\n",
      "c\n",
      "d\n",
      "e\n",
      "f\n",
      "g\n",
      "h\n",
      "i\n",
      "j\n"
     ]
    }
   ],
   "source": [
    "# itertools helps with iterating through sets of data\n",
    "from itertools import *\n",
    "import itertools\n",
    "\n",
    "a = [0, 1, 2, 3, 4, 5, 6, 7, 8, 9]\n",
    "b = ['zero', 'one', 'two', 'three', 'four', 'five', 'six', 'seven', 'eight', 'nine']\n",
    "c = ['a', 'b', 'c', 'd', 'e', 'f', 'g', 'h', 'i', 'j']\n",
    "\n",
    "# chain() function : group multiple lists together\n",
    "for i in chain(a, b, c):\n",
    "    print(i)"
   ]
  },
  {
   "cell_type": "code",
   "execution_count": 63,
   "id": "14739fd8",
   "metadata": {},
   "outputs": [
    {
     "name": "stdout",
     "output_type": "stream",
     "text": [
      "[0, 1, 2, 3, 4, 5, 6, 7, 8, 9, 'zero', 'one', 'two', 'three', 'four', 'five', 'six', 'seven', 'eight', 'nine', 'a', 'b', 'c', 'd', 'e', 'f', 'g', 'h', 'i', 'j']\n"
     ]
    }
   ],
   "source": [
    "print(list(chain(a, b, c)))"
   ]
  },
  {
   "cell_type": "code",
   "execution_count": 66,
   "id": "c216e860",
   "metadata": {},
   "outputs": [
    {
     "name": "stdout",
     "output_type": "stream",
     "text": [
      "[0, 1, 'zero', 'one', 'b', 'c']\n"
     ]
    }
   ],
   "source": [
    "print(list(chain(a[:2], b[:2], c[1:3])))"
   ]
  },
  {
   "cell_type": "code",
   "execution_count": 68,
   "id": "78c9fa88",
   "metadata": {},
   "outputs": [
    {
     "name": "stdout",
     "output_type": "stream",
     "text": [
      "0\n",
      "1\n",
      "2\n"
     ]
    }
   ],
   "source": [
    "counter = itertools.count()\n",
    "print(next(counter))\n",
    "print(next(counter))\n",
    "print(next(counter))"
   ]
  },
  {
   "cell_type": "code",
   "execution_count": 78,
   "id": "cb9e3803",
   "metadata": {},
   "outputs": [
    {
     "name": "stdout",
     "output_type": "stream",
     "text": [
      "5\n",
      "2.5\n",
      "0.0\n"
     ]
    }
   ],
   "source": [
    "counter = itertools.count(start=5, step=-2.5)\n",
    "print(next(counter))\n",
    "print(next(counter))\n",
    "print(next(counter))"
   ]
  },
  {
   "cell_type": "code",
   "execution_count": 69,
   "id": "95aebae7",
   "metadata": {},
   "outputs": [
    {
     "name": "stdout",
     "output_type": "stream",
     "text": [
      "Counter({'l': 2, 'g': 1, 'a': 1, 'e': 1, 'd': 1})\n",
      "1\n"
     ]
    }
   ],
   "source": [
    "from collections import Counter\n",
    "\n",
    "c = Counter('galled')\n",
    "print(c)\n",
    "print(c['a'])"
   ]
  },
  {
   "cell_type": "code",
   "execution_count": 71,
   "id": "4682a2e6",
   "metadata": {},
   "outputs": [
    {
     "name": "stdout",
     "output_type": "stream",
     "text": [
      "Counter({'a': 2, 'c': 2, 'b': 1})\n",
      "['a', 'a', 'b', 'c', 'c']\n"
     ]
    }
   ],
   "source": [
    "c = Counter(['a', 'b', 'a', 'c', 'c'])\n",
    "print(c)\n",
    "print(list(c.elements()))"
   ]
  },
  {
   "cell_type": "code",
   "execution_count": 74,
   "id": "3ae1cb78",
   "metadata": {},
   "outputs": [
    {
     "name": "stdout",
     "output_type": "stream",
     "text": [
      "Counter({'cats': 4, 'dogs': 3})\n"
     ]
    },
    {
     "data": {
      "text/plain": [
       "[('cats', 4), ('dogs', 3)]"
      ]
     },
     "execution_count": 74,
     "metadata": {},
     "output_type": "execute_result"
    }
   ],
   "source": [
    "c = Counter(dogs=3, cats=4)\n",
    "print(c)\n",
    "c.most_common(1)\n",
    "c.most_common(2)"
   ]
  },
  {
   "cell_type": "code",
   "execution_count": 76,
   "id": "1b567c7a",
   "metadata": {},
   "outputs": [
    {
     "name": "stdout",
     "output_type": "stream",
     "text": [
      "[('a', 'b'), ('a', 'c'), ('a', 'd'), ('b', 'c'), ('b', 'd'), ('c', 'd')]\n",
      "[('a', 'b'), ('a', 'c'), ('a', 'd'), ('b', 'a'), ('b', 'c'), ('b', 'd'), ('c', 'a'), ('c', 'b'), ('c', 'd'), ('d', 'a'), ('d', 'b'), ('d', 'c')]\n"
     ]
    }
   ],
   "source": [
    "# combinations : order of a combo does not matter, a,b = b,a\n",
    "# permutation : order does matter, a,b != b,a\n",
    "letters = ['a', 'b', 'c', 'd']\n",
    "numbers = [0, 1, 2, 3]\n",
    "names = ['Corey', 'Nicole']\n",
    "\n",
    "results = itertools.combinations(letters, 2)\n",
    "print(list(results))\n",
    "\n",
    "results_1 = itertools.permutations(letters, 2)\n",
    "print(list(results_1))"
   ]
  },
  {
   "cell_type": "markdown",
   "id": "4aeb44fa",
   "metadata": {},
   "source": [
    "\n",
    "# *** Functions ***"
   ]
  },
  {
   "cell_type": "code",
   "execution_count": 87,
   "id": "8b4be80f",
   "metadata": {},
   "outputs": [
    {
     "name": "stdout",
     "output_type": "stream",
     "text": [
      "None Bye\n"
     ]
    }
   ],
   "source": [
    "# function that does nothing!!\n",
    "def hello_func():\n",
    "    pass\n",
    "\n",
    "def bye_func():\n",
    "    return \"Bye\"\n",
    "\n",
    "print(hello_func(), bye_func())"
   ]
  },
  {
   "cell_type": "code",
   "execution_count": 88,
   "id": "57389a4f",
   "metadata": {},
   "outputs": [
    {
     "name": "stdout",
     "output_type": "stream",
     "text": [
      "Hi, Corey\n"
     ]
    }
   ],
   "source": [
    "# argument name has a default value (keyword argument)\n",
    "# argument with default value should come after normal arguments (positional argument)\n",
    "def func(greeting, name='Bob'):\n",
    "    return '{}, {}'.format(greeting, name)\n",
    "\n",
    "print(func('Hi', 'Corey'))"
   ]
  },
  {
   "cell_type": "code",
   "execution_count": 89,
   "id": "a0bbbe35",
   "metadata": {},
   "outputs": [
    {
     "name": "stdout",
     "output_type": "stream",
     "text": [
      "('Math', 'Art')\n",
      "{'name': 'John', 'age': 22}\n"
     ]
    }
   ],
   "source": [
    "# *args = you can send as many arguments to the function, we don't know how many\n",
    "# **kwargs = you can send list as arg and dictionaries as kwarg\n",
    "\n",
    "def student_info(*args, **kwargs):\n",
    "    print(args) # positional arguments\n",
    "    print(kwargs) # keyword argument\n",
    "    \n",
    "student_info('Math', 'Art', name='John', age=22)"
   ]
  },
  {
   "cell_type": "code",
   "execution_count": 91,
   "id": "09be61f0",
   "metadata": {},
   "outputs": [
    {
     "name": "stdout",
     "output_type": "stream",
     "text": [
      "('Math', 'Art')\n",
      "{'name': 'john', 'age': 22}\n"
     ]
    }
   ],
   "source": [
    "courses = ['Math', 'Art']\n",
    "info = {'name': 'john', 'age': 22}\n",
    "# putting * behind list and ** behind dictionary will unpack them to become arguments of the function\n",
    "student_info(*courses, **info)"
   ]
  },
  {
   "cell_type": "code",
   "execution_count": 95,
   "id": "6ed0b620",
   "metadata": {},
   "outputs": [
    {
     "name": "stdout",
     "output_type": "stream",
     "text": [
      "([],)\n"
     ]
    }
   ],
   "source": [
    "# Mutable Default function Argument problem\n",
    "def add_employee(emp, emp_list=[]):\n",
    "    emp_list.append(emp)\n",
    "    print(emp_list)\n",
    "    \n",
    "emps = ['John', 'Jane']\n",
    "\n",
    "# in above function we give an empty (mutable) object when the argument is empty, but here we see when\n",
    "# we use it several times, instead of creating new lists, it adds to the same list\n",
    "# this problem arises in lists because they are mutable, strings don't have such problems\n",
    "\n",
    "print(add_employee.__defaults__)  # ([],) each time it will add it to this default empty list"
   ]
  },
  {
   "cell_type": "code",
   "execution_count": 96,
   "id": "2a73eed8",
   "metadata": {},
   "outputs": [
    {
     "name": "stdout",
     "output_type": "stream",
     "text": [
      "['Corey']\n",
      "['Corey', 'John']\n",
      "['Corey', 'John', 'Jane']\n"
     ]
    }
   ],
   "source": [
    "add_employee('Corey')\n",
    "add_employee('John')\n",
    "add_employee('Jane')"
   ]
  },
  {
   "cell_type": "code",
   "execution_count": 97,
   "id": "f1e12565",
   "metadata": {},
   "outputs": [
    {
     "name": "stdout",
     "output_type": "stream",
     "text": [
      "(['Corey', 'John', 'Jane'],)\n"
     ]
    }
   ],
   "source": [
    "# you can see that all the values are added to default list and list is no longer empty\n",
    "print(add_employee.__defaults__)"
   ]
  },
  {
   "cell_type": "code",
   "execution_count": 99,
   "id": "9bccdc52",
   "metadata": {},
   "outputs": [],
   "source": [
    "def add_employee_fixed(emp, emp_list=None):\n",
    "    if emp_list is None:\n",
    "        emp_list = []\n",
    "    emp_list.append(emp)\n",
    "    print(emp_list)"
   ]
  },
  {
   "cell_type": "code",
   "execution_count": 100,
   "id": "a8baa353",
   "metadata": {},
   "outputs": [
    {
     "name": "stdout",
     "output_type": "stream",
     "text": [
      "(None,)\n"
     ]
    }
   ],
   "source": [
    "print(add_employee_fixed.__defaults__)"
   ]
  },
  {
   "cell_type": "code",
   "execution_count": 102,
   "id": "6537ed58",
   "metadata": {},
   "outputs": [
    {
     "name": "stdout",
     "output_type": "stream",
     "text": [
      "['Corey']\n",
      "['John']\n",
      "(None,)\n"
     ]
    }
   ],
   "source": [
    "add_employee_fixed('Corey')\n",
    "add_employee_fixed('John')\n",
    "\n",
    "# you can see when we set it to None it doesn't change its value after being called\n",
    "print(add_employee_fixed.__defaults__)"
   ]
  },
  {
   "cell_type": "code",
   "execution_count": 106,
   "id": "204e3302",
   "metadata": {},
   "outputs": [
    {
     "name": "stdout",
     "output_type": "stream",
     "text": [
      "{'name1': 'Bob', 'name2': 26, 'name3': 'Zedd'}\n"
     ]
    }
   ],
   "source": [
    "class Geeks:\n",
    "    def __init__(self, name1=\"Bob\", name2=26, name3=\"Zedd\"):\n",
    "        self.name1 = name1\n",
    "        self.name2 = name2\n",
    "        self.name3 = name3\n",
    "    \n",
    "'''\n",
    "vars : It takes an object as a parameter which can be a module, a class, an instance, or any object having  __dict__ \n",
    "attribute.\n",
    "The method returns the __dict__ attribute for a module, class, instance, or any other object if the same \n",
    "has a __dict__ attribute. If the object fails to match the attribute, it raises a TypeError exception.\n",
    "'''\n",
    "GeeksforGeeks = Geeks()\n",
    "print(vars(GeeksforGeeks))"
   ]
  },
  {
   "cell_type": "code",
   "execution_count": 107,
   "id": "38783547",
   "metadata": {},
   "outputs": [
    {
     "name": "stdout",
     "output_type": "stream",
     "text": [
      "foo bar\n"
     ]
    }
   ],
   "source": [
    "# Function Annotations\n",
    "# without annotation\n",
    "def foo(prefix, suffix):\n",
    "    return prefix + \" \" + suffix\n",
    "\n",
    "result = foo(\"foo\", \"bar\")\n",
    "print(result)"
   ]
  },
  {
   "cell_type": "code",
   "execution_count": 113,
   "id": "f8b6e878",
   "metadata": {},
   "outputs": [
    {
     "name": "stdout",
     "output_type": "stream",
     "text": [
      "foo and bar\n"
     ]
    }
   ],
   "source": [
    "# with annotation\n",
    "# annotations are the doc / info that gives information about the function and its variables\n",
    "def foo(prefix: \"The first word\", suffix: \"The last word\") -> \"the two words with and between them\":\n",
    "    return prefix + \" and \" + suffix\n",
    "\n",
    "result = foo(\"foo\", \"bar\")\n",
    "print(result)"
   ]
  },
  {
   "cell_type": "code",
   "execution_count": 111,
   "id": "5cc702d4",
   "metadata": {},
   "outputs": [
    {
     "name": "stdout",
     "output_type": "stream",
     "text": [
      "Help on function foo in module __main__:\n",
      "\n",
      "foo(prefix: 'The first word', suffix: 'The last word') -> 'the two words with and between them'\n",
      "    # with annotation\n",
      "    # annotations are the doc / info that gives information about the function and its variables\n",
      "\n",
      "None\n"
     ]
    }
   ],
   "source": [
    "print(help(foo))"
   ]
  },
  {
   "cell_type": "code",
   "execution_count": 114,
   "id": "95df961e",
   "metadata": {},
   "outputs": [
    {
     "name": "stdout",
     "output_type": "stream",
     "text": [
      "{'prefix': 'The first word', 'suffix': 'The last word', 'return': 'the two words with and between them'}\n"
     ]
    }
   ],
   "source": [
    "print(foo.__annotations__)"
   ]
  },
  {
   "cell_type": "code",
   "execution_count": 119,
   "id": "5d49edbe",
   "metadata": {},
   "outputs": [
    {
     "name": "stdout",
     "output_type": "stream",
     "text": [
      "Nov 16, 2023 14:03:59\n",
      "Nov 16, 2023 14:03:59\n",
      "Nov 16, 2023 14:03:59\n"
     ]
    }
   ],
   "source": [
    "# Mutable Default function Argument problem\n",
    "import time\n",
    "from datetime import datetime\n",
    "\n",
    "def display_time(time_to_print = datetime.now()):\n",
    "    print(time_to_print.strftime(\"%b %d, %Y %H:%M:%S\"))\n",
    "    \n",
    "# as it can be seen here instead of generating new timestamp each time, the function uses first default assigned value\n",
    "# for all the function calls!\n",
    "display_time()\n",
    "time.sleep(1)\n",
    "display_time()\n",
    "time.sleep(1)\n",
    "display_time()"
   ]
  },
  {
   "cell_type": "code",
   "execution_count": 120,
   "id": "69e5cd0e",
   "metadata": {},
   "outputs": [
    {
     "name": "stdout",
     "output_type": "stream",
     "text": [
      "Nov 16, 2023 14:05:20\n",
      "Nov 16, 2023 14:05:21\n"
     ]
    }
   ],
   "source": [
    "def display_time_fixed(time_to_print = None):\n",
    "    if time_to_print is None:\n",
    "        time_to_print = datetime.now()\n",
    "    print(time_to_print.strftime(\"%b %d, %Y %H:%M:%S\"))\n",
    "    \n",
    "display_time_fixed()\n",
    "time.sleep(1)\n",
    "display_time_fixed()"
   ]
  },
  {
   "cell_type": "markdown",
   "id": "2a0e8e36",
   "metadata": {},
   "source": [
    "\n",
    "# *** OS Module ***"
   ]
  },
  {
   "cell_type": "code",
   "execution_count": 123,
   "id": "d4fd11ca",
   "metadata": {},
   "outputs": [],
   "source": [
    "# how to import module or other python files\n",
    "from custom_module import find_index, test\n",
    "\n",
    "# another way (but imports EVERYTHING from that module!!)\n",
    "# using the \"from module import *\" is a really bad practice\n",
    "import custom_module as cm\n",
    "index = cm.find_index(courses, 'Math')"
   ]
  },
  {
   "cell_type": "code",
   "execution_count": 125,
   "id": "9948d3f6",
   "metadata": {},
   "outputs": [],
   "source": [
    "courses = ['History', 'Math', 'Physics']\n",
    "index = find_index(courses, 'Math')\n",
    "print(index)\n",
    "print(test)"
   ]
  },
  {
   "cell_type": "code",
   "execution_count": 126,
   "id": "6e9608c0",
   "metadata": {},
   "outputs": [
    {
     "name": "stdout",
     "output_type": "stream",
     "text": [
      "C:\\Users\\Babak\\Desktop\n"
     ]
    }
   ],
   "source": [
    "import os\n",
    "from datetime import datetime\n",
    "\n",
    "print(os.getcwd())  # current working directory"
   ]
  },
  {
   "cell_type": "code",
   "execution_count": 131,
   "id": "f8432560",
   "metadata": {},
   "outputs": [
    {
     "name": "stdout",
     "output_type": "stream",
     "text": [
      "C:\\Users\\Babak\\Desktop\\TF-EKS\n"
     ]
    }
   ],
   "source": [
    "os.chdir('C:/Users/Babak/Desktop/TF-EKS')  # change directory\n",
    "print(os.getcwd())"
   ]
  },
  {
   "cell_type": "code",
   "execution_count": 132,
   "id": "51519311",
   "metadata": {},
   "outputs": [
    {
     "name": "stdout",
     "output_type": "stream",
     "text": [
      "['ami-datasource.tf', 'bastion-variables.tf', 'ec2-bastion-instance.tf', 'eks-cluster.tf', 'eks-iam-nodegroup-role.tf', 'eks-iam-role.tf', 'eks-nodegroup-private.tf', 'eks-nodegroup-public.tf', 'eks-variables.tf', 'generic-variables.tf', 'local-values.tf', 'outputs.tf', 'private-key', 'readme.txt', 'versions.tf', 'vpc-variables.tf', 'vpc.tf']\n"
     ]
    }
   ],
   "source": [
    "print(os.listdir())  # show all files and folders in current dir"
   ]
  },
  {
   "cell_type": "code",
   "execution_count": 138,
   "id": "962ce17a",
   "metadata": {},
   "outputs": [],
   "source": [
    "os.mkdir('PythonMadeFolder')  # create new folder\n",
    "os.makedirs('outerFolder/innerFolder')  # create nested folders (better way!)"
   ]
  },
  {
   "cell_type": "code",
   "execution_count": 139,
   "id": "5781c2c5",
   "metadata": {},
   "outputs": [],
   "source": [
    "os.rmdir('PythonMadeFolder')  # delete directory\n",
    "os.removedirs('outerFolder/innerFolder')"
   ]
  },
  {
   "cell_type": "code",
   "execution_count": 140,
   "id": "842ab2e6",
   "metadata": {},
   "outputs": [],
   "source": [
    "os.rename('D3', 'D3.js')  # rename(original, new)"
   ]
  },
  {
   "cell_type": "code",
   "execution_count": 142,
   "id": "45b98c35",
   "metadata": {},
   "outputs": [
    {
     "name": "stdout",
     "output_type": "stream",
     "text": [
      "os.stat_result(st_mode=33206, st_ino=5629499534544371, st_dev=47799009, st_nlink=1, st_uid=0, st_gid=0, st_size=271, st_atime=1700067111, st_mtime=1700067111, st_ctime=1700063496)\n"
     ]
    }
   ],
   "source": [
    "print(os.stat('versions.tf'))  # get info about a file or folder"
   ]
  },
  {
   "cell_type": "code",
   "execution_count": 144,
   "id": "e3f5ebf8",
   "metadata": {},
   "outputs": [
    {
     "name": "stdout",
     "output_type": "stream",
     "text": [
      "2023-11-15 17:51:51.890602\n"
     ]
    }
   ],
   "source": [
    "mod_time = os.stat('versions.tf').st_atime  # find out last time a file/folder was modified\n",
    "print(datetime.fromtimestamp(mod_time))"
   ]
  },
  {
   "cell_type": "code",
   "execution_count": 148,
   "id": "0ca266c3",
   "metadata": {},
   "outputs": [
    {
     "name": "stdout",
     "output_type": "stream",
     "text": [
      "C:/Users/Babak/Desktop/TF-EKS\n",
      "['private-key']\n",
      "['ami-datasource.tf', 'bastion-variables.tf', 'ec2-bastion-instance.tf', 'eks-cluster.tf', 'eks-iam-nodegroup-role.tf', 'eks-iam-role.tf', 'eks-nodegroup-private.tf', 'eks-nodegroup-public.tf', 'eks-variables.tf', 'generic-variables.tf', 'local-values.tf', 'outputs.tf', 'readme.txt', 'versions.tf', 'vpc-variables.tf', 'vpc.tf']\n",
      "C:/Users/Babak/Desktop/TF-EKS\\private-key\n",
      "[]\n",
      "['eks-terraform-key.pem']\n"
     ]
    }
   ],
   "source": [
    "# os.walk() goes through all inner folder recursively\n",
    "os.chdir('C:/Users/Babak/Desktop/TF-EKS')\n",
    "for dirpath, dirnames, filenames in os.walk(\"C:/Users/Babak/Desktop/TF-EKS\"):\n",
    "    print(dirpath)\n",
    "    print(dirnames)\n",
    "    print(filenames)"
   ]
  },
  {
   "cell_type": "code",
   "execution_count": 149,
   "id": "60977af9",
   "metadata": {},
   "outputs": [
    {
     "name": "stdout",
     "output_type": "stream",
     "text": [
      "C:\\Users\\Babak\\Desktop\\TF-EKS\\test.txt\n"
     ]
    }
   ],
   "source": [
    "# we use path.join() instead of just concatenating two strings because we don't want to get // or missing / in the\n",
    "# path string\n",
    "file_path = os.path.join(os.getcwd(), \"test.txt\")\n",
    "print(file_path)"
   ]
  },
  {
   "cell_type": "code",
   "execution_count": 155,
   "id": "a58255c5",
   "metadata": {},
   "outputs": [
    {
     "name": "stdout",
     "output_type": "stream",
     "text": [
      "test.txt\n",
      "/tmp/txtfiles\n",
      "('/tmp', 'test.txt')\n",
      "False\n",
      "False\n"
     ]
    }
   ],
   "source": [
    "print(os.path.basename(\"/tmp/test.txt\"))  # gives back filename from path\n",
    "print(os.path.dirname(\"/tmp/txtfiles/test.txt\"))  # gives back folders name from path\n",
    "print(os.path.split(\"/tmp/test.txt\"))\n",
    "print(os.path.exists(\"/tmp/txtfiles/test.txt\"))  # check if the file actually exists\n",
    "print(os.path.isdir(\"/tmp/txtfiles/test.txt\"))  # if it is folder ? (or file)"
   ]
  },
  {
   "cell_type": "code",
   "execution_count": 158,
   "id": "6be0e993",
   "metadata": {},
   "outputs": [],
   "source": [
    "# Rename and Sort files/folders\n",
    "os.chdir('C:/Users/Bob/Desktop/SQL/Files/sorted')\n",
    "\n",
    "for f in os.listdir():\n",
    "    f_name, f_ext = os.path.splitext(f)\n",
    "    f_title, f_num = f_name.split(\"-\")\n",
    "\n",
    "    f_num = f_num.strip().zfill(2)\n",
    "    f_ext = f_ext.strip()\n",
    "    f_title = f_title.strip()\n",
    "    \n",
    "    new_name = '{}-{}{}'.format(f_num, f_title, f_ext)\n",
    "    os.rename(f, new_name)"
   ]
  },
  {
   "cell_type": "code",
   "execution_count": 160,
   "id": "92f6ccaa",
   "metadata": {},
   "outputs": [
    {
     "name": "stdout",
     "output_type": "stream",
     "text": [
      "New Text Document.txt\n"
     ]
    }
   ],
   "source": [
    "# fnmatch => unix filename pattern matching\n",
    "'''\n",
    "This module provides support for Unix shell-style wildcards, which are not the same as regular expressions (which are \n",
    "documented in the \"re\" module). The special characters used in shell-style wildcards are:\n",
    "\n",
    "Pattern     Meaning\n",
    "\n",
    "*  =>  matches everything\n",
    "?  => matches any single character\n",
    "[seq]  => matches any character in seq\n",
    "[!seq]  =>matches any character not in seq\n",
    "'''\n",
    "import fnmatch\n",
    "import os\n",
    "\n",
    "for file in os.listdir('.'):\n",
    "    if fnmatch.fnmatch(file, '*.txt'):\n",
    "        print(file)"
   ]
  },
  {
   "cell_type": "markdown",
   "id": "901416cb",
   "metadata": {},
   "source": [
    "\n",
    "# *** working with Files ***"
   ]
  },
  {
   "cell_type": "code",
   "execution_count": 177,
   "id": "7e52d909",
   "metadata": {},
   "outputs": [],
   "source": [
    "# writing and reading from text file\n",
    "fw = open('Files/sample.txt', 'w')\n",
    "fw.write('writing some stuff on my text file\\n')\n",
    "fw.write('i like bacon\\n and eggs')\n",
    "fw.close()"
   ]
  },
  {
   "cell_type": "code",
   "execution_count": 178,
   "id": "79f769c4",
   "metadata": {},
   "outputs": [
    {
     "name": "stdout",
     "output_type": "stream",
     "text": [
      "writing some stuff on my text file\n",
      "i like bacon\n",
      " and eggs\n"
     ]
    }
   ],
   "source": [
    "# read\n",
    "fr = open('Files/sample.txt', 'r')\n",
    "text = fr.read()\n",
    "print(text)\n",
    "fr.close()"
   ]
  },
  {
   "cell_type": "code",
   "execution_count": 180,
   "id": "6fc71ed0",
   "metadata": {},
   "outputs": [],
   "source": [
    "# How to read a text file into a list with Python\n",
    "lines = text_file.read().split(',')\n",
    "# or\n",
    "lines = text_file.read().split('\\n')"
   ]
  },
  {
   "cell_type": "code",
   "execution_count": 183,
   "id": "4297d9fe",
   "metadata": {},
   "outputs": [
    {
     "name": "stdout",
     "output_type": "stream",
     "text": [
      "True\n"
     ]
    }
   ],
   "source": [
    "# this is called context manager, and it automatically closes the file (it's yielded inside the with clause)\n",
    "with open('Files/sample.txt', 'r') as f:\n",
    "    pass\n",
    "print(f.closed)"
   ]
  },
  {
   "cell_type": "code",
   "execution_count": 184,
   "id": "7eb5c60f",
   "metadata": {},
   "outputs": [
    {
     "name": "stdout",
     "output_type": "stream",
     "text": [
      "a.txt b.txt\n"
     ]
    }
   ],
   "source": [
    "# How can I open multiple files using “with open” in Python?\n",
    "with open('a.txt', 'w') as a, open('b.txt', 'w') as b:\n",
    "    print(a.name, b.name)  # print name of both files"
   ]
  },
  {
   "cell_type": "code",
   "execution_count": 186,
   "id": "c0510550",
   "metadata": {},
   "outputs": [
    {
     "name": "stdout",
     "output_type": "stream",
     "text": [
      "writing some stuff on my text file\n",
      " i like bacon\n",
      "  and eggs\n",
      "  dsfsdf\n",
      " sdfsdfsd\n",
      " dsfsdf "
     ]
    }
   ],
   "source": [
    "with open(\"Files/sample.txt\", 'r') as f:\n",
    "    # print(f.read())   => reads the whole text (if files are too big do not do this!!)\n",
    "    # print(f.readline()) => reads one line of file\n",
    "    # print(f.readline()) => reads the next line\n",
    "    # print(f.readlines())  # reads all lines at once and puts them inside a list\n",
    "    \n",
    "    # this is the most efficient way, because it does not read all lines of file at once\n",
    "    for line in f:\n",
    "        print(line, end=' ')"
   ]
  },
  {
   "cell_type": "code",
   "execution_count": 187,
   "id": "b06a9fc2",
   "metadata": {},
   "outputs": [
    {
     "name": "stdout",
     "output_type": "stream",
     "text": [
      "writing some stuff on my text file\n",
      "i like bacon\n",
      " and eggs\n",
      " dsfsdf\n",
      "sdfsdfsd\n",
      "dsfsdf\n"
     ]
    }
   ],
   "source": [
    "with open(\"Files/sample.txt\", 'r') as f:\n",
    "    contents = f.read(100)  # reads first 100 characters of the file\n",
    "    print(contents)\n",
    "    size_to_read = 100\n",
    "    contents = f.read(size_to_read)  # this will read from characters 100 to 200\n",
    "    contents = f.read(size_to_read)  # reads the next 100 (or less remaining) characters\n"
   ]
  },
  {
   "cell_type": "code",
   "execution_count": 188,
   "id": "047d1c21",
   "metadata": {},
   "outputs": [
    {
     "name": "stdout",
     "output_type": "stream",
     "text": [
      "writing some stuff o\n",
      "41\n",
      "n my text file\n",
      "i lik\n",
      "63\n",
      "e bacon\n",
      " and eggs\n",
      " d\n",
      "85\n",
      "sfsdf\n",
      "sdfsdfsd\n",
      "dsfsd\n",
      "86\n",
      "f\n",
      "86\n"
     ]
    }
   ],
   "source": [
    "# optimized way for very large files:\n",
    "with open(\"Files/sample.txt\", 'r') as f:\n",
    "    size_to_read = 20\n",
    "    contents = f.read(size_to_read)\n",
    "    # continue until any unread characters are left in this file\n",
    "    while len(contents) > 0:\n",
    "        print(contents)\n",
    "        contents = f.read(size_to_read)  # go 20 characters ahead\n",
    "        print(f.tell())  # shows current position of reading"
   ]
  },
  {
   "cell_type": "code",
   "execution_count": 189,
   "id": "02f285d2",
   "metadata": {},
   "outputs": [],
   "source": [
    "# if file doesn't exist, it will create it, but if it does, this method overwrites the file!!\n",
    "# if file exists, use 'a' instead of 'w' to \"append\" to file\n",
    "with open('Files/test.txt', 'w') as f:\n",
    "    f.write(\"Test\")\n",
    "    f.write(\"Test\")\n",
    "    f.writelines(\"\\nHello this is a test\")"
   ]
  },
  {
   "cell_type": "code",
   "execution_count": 190,
   "id": "a0e0a16a",
   "metadata": {},
   "outputs": [],
   "source": [
    "# working with two files, read from one and write in the other (copy content):\n",
    "with open('Files/test.txt', 'r') as rf:\n",
    "    with open('Files/test_copy.txt', 'w') as wf:\n",
    "        for line in rf:\n",
    "            wf.write(line)"
   ]
  },
  {
   "cell_type": "code",
   "execution_count": null,
   "id": "8fe29f15",
   "metadata": {},
   "outputs": [],
   "source": [
    "# working with non-text files, we use binary instead of string, rb, wb instead of r, w\n",
    "with open('Files/apple.jpg', 'rb') as rf:\n",
    "    with open('Files/apple_copy.jpg', 'wb') as wf:\n",
    "        for line in rf:\n",
    "            wf.write(line)"
   ]
  },
  {
   "cell_type": "code",
   "execution_count": null,
   "id": "196062eb",
   "metadata": {},
   "outputs": [],
   "source": [
    "# writing to non-text files in chunks of bites\n",
    "with open('Files/apple.jpg', 'rb') as rf:\n",
    "    with open('Files/apple_copy_1.jpg', 'wb') as wf:\n",
    "        chunk_size = 4096\n",
    "        rf_chunk = rf.read(chunk_size)\n",
    "\n",
    "        while len(rf_chunk) > 0:\n",
    "            wf.write(rf_chunk)\n",
    "            rf_chunk = rf.read(chunk_size)  # go 4096 bytes ahead"
   ]
  },
  {
   "cell_type": "code",
   "execution_count": null,
   "id": "96de2691",
   "metadata": {},
   "outputs": [],
   "source": [
    "# How to get rid of double backslash in python Windows file path string?\n",
    "# I have dict:\n",
    "my_dictionary = {\"058498\": \"table\", \"064165\": \"pen\", \"055123\": \"pencil\"}\n",
    "\n",
    "def doIt(PDF):\n",
    "    part = MIMEBase('application', \"octet-stream\")\n",
    "    part.set_payload( open(PDF,\"rb\").read())\n",
    "\n",
    "# iterate over it:\n",
    "for item in my_dictionary:\n",
    "    PDF = r'C:\\Users\\user\\Desktop\\File_%s.pdf' % item\n",
    "    doIt(PDF)\n",
    "# get this error:\n",
    "# IOError: [Errno 2] No such file or directory: 'C:\\\\Users\\\\user\\\\Desktop\\\\File_055123.pdf'\n",
    "\n",
    "# SOLUTION:\n",
    "'''\n",
    "The double backslash is not wrong, python represents it way that to the user. In each double backslash \\\\, the first \n",
    "one escapes the second to imply an actual backslash. \n",
    "If a = r'raw s\\tring' and b = 'raw s\\\\tring' (no 'r' and explicit double slash) then they are both represented as \n",
    "'raw s\\\\tring'.\n",
    "'''\n",
    "# So in the PDF path+name:\n",
    "item = 'xyz'\n",
    "PDF = r'C:\\Users\\user\\Desktop\\File_%s.pdf' % item\n",
    "print(PDF)  # the representation of the string, also in error messages\n",
    "'C:\\\\Users\\\\user\\\\Desktop\\\\File_xyz.pdf'\n",
    "print(PDF)  # \"as used\"\n",
    "# C:\\Users\\user\\Desktop\\File_xyz.pdf"
   ]
  },
  {
   "cell_type": "code",
   "execution_count": 162,
   "id": "d840e773",
   "metadata": {},
   "outputs": [],
   "source": [
    "# context managers deal with opening and closing files in python\n",
    "# class context manager\n",
    "import os\n",
    "from contextlib import contextmanager\n",
    "from email.mime.base import MIMEBase"
   ]
  },
  {
   "cell_type": "code",
   "execution_count": 163,
   "id": "665d82fa",
   "metadata": {},
   "outputs": [
    {
     "name": "stdout",
     "output_type": "stream",
     "text": [
      "True\n"
     ]
    }
   ],
   "source": [
    "class Open_file:\n",
    "    def __init__(self, filename, mode):\n",
    "        self.filename = filename\n",
    "        self.mode = mode\n",
    "\n",
    "    # set up for context manger\n",
    "    def __enter__(self):\n",
    "        self.file = open(self.filename, self.mode)\n",
    "        return self.file\n",
    "\n",
    "    # tear down of context manger\n",
    "    def __exit__(self, exc_type, exc_val, traceback):\n",
    "        self.file.close()\n",
    "        \n",
    "# since we use WITH statement, it will call the __enter__() method\n",
    "with Open_file('sample.txt', 'w') as f:\n",
    "    f.write(\"Testing\")\n",
    "# # when we exit the block it will call the __exit__() method\n",
    "print(f.closed)"
   ]
  },
  {
   "cell_type": "code",
   "execution_count": 164,
   "id": "4a4772b2",
   "metadata": {},
   "outputs": [
    {
     "name": "stdout",
     "output_type": "stream",
     "text": [
      "True\n"
     ]
    }
   ],
   "source": [
    "# contextManger with function\n",
    "@contextmanager\n",
    "def open_file(file, mode):\n",
    "    global f\n",
    "    try:\n",
    "        f = open(file, mode)  # __init__\n",
    "        yield f # __enter__\n",
    "    finally:\n",
    "        f.close() # __exit__\n",
    "        \n",
    "with open_file('sample1.txt', 'w') as f:\n",
    "    f.write('Lorem Epsium')\n",
    "print(f.closed)    "
   ]
  },
  {
   "cell_type": "code",
   "execution_count": 191,
   "id": "f936e802",
   "metadata": {},
   "outputs": [
    {
     "name": "stdout",
     "output_type": "stream",
     "text": [
      "['New Text Document.txt', 'sample.txt', 'sample1.txt', 'test.txt', 'test_copy.txt']\n",
      "C:\\Users\\Babak\\Desktop\\devops_scripts\n"
     ]
    }
   ],
   "source": [
    "@contextmanager\n",
    "def change_dir(destination):\n",
    "    try:\n",
    "        cwd = os.getcwd()\n",
    "        os.chdir(destination)\n",
    "        yield  # since we aren't working with any object inside the block, we just yield empty\n",
    "    finally:\n",
    "        os.chdir(\"C:/Users/Babak/Desktop/devops_scripts\")\n",
    "        \n",
    "with change_dir('Files'):\n",
    "    print(os.listdir())\n",
    "print(os.getcwd())  # gets back to previous directory"
   ]
  },
  {
   "cell_type": "code",
   "execution_count": null,
   "id": "983e1c23",
   "metadata": {},
   "outputs": [],
   "source": [
    "# UnicodeDecodeError: 'utf-8' codec can't decode byte 0xe9 in position 2892: invalid continuation byte\n",
    "for line in open('u.item'):\n",
    "    # Read each line\n",
    "    pass\n",
    "\n",
    "# solution\n",
    "'''\n",
    "the right encoding for that problem. The encoding was \"ISO-8859-1\", so replacing open(\"u.item\", encoding=\"utf-8\") with \n",
    "open('u.item', encoding = \"ISO-8859-1\") will solve the problem.\n",
    "'''\n",
    "file = open('../Resources/' + filename, 'r', encoding=\"ISO-8859-1\");"
   ]
  },
  {
   "cell_type": "markdown",
   "id": "faab356c",
   "metadata": {},
   "source": [
    "\n",
    "# *** JSON and JSON Files ***"
   ]
  },
  {
   "cell_type": "code",
   "execution_count": 195,
   "id": "dd1b0e80",
   "metadata": {},
   "outputs": [],
   "source": [
    "# json = JavaScript object Notation\n",
    "import json\n",
    "from urllib.request import urlopen\n",
    "\n",
    "people_string = '''\n",
    "{\n",
    "    \"people\": [\n",
    "        {\n",
    "            \"name\" : \"john smith\",\n",
    "            \"phone\" : \"123-456-7890\",\n",
    "            \"email\" : [\"john@gmail.com\", \"smith@yahoo.com\"],\n",
    "            \"has_licence\" : false\n",
    "        },\n",
    "        {\n",
    "            \"name\" : \"Jane Doe\",\n",
    "            \"phone\" : \"560-555-5153\",\n",
    "            \"email\" : null,\n",
    "            \"has_licence\" : true\n",
    "        }\n",
    "    ]\n",
    "}\n",
    "'''\n",
    "\n",
    "# a json object will be converted to python dictionary\n",
    "data = json.loads(people_string)"
   ]
  },
  {
   "cell_type": "code",
   "execution_count": 196,
   "id": "f52d31b9",
   "metadata": {},
   "outputs": [
    {
     "name": "stdout",
     "output_type": "stream",
     "text": [
      "<class 'dict'>\n",
      "<class 'list'>\n"
     ]
    }
   ],
   "source": [
    "print(type(data))\n",
    "print(type(data['people']))"
   ]
  },
  {
   "cell_type": "code",
   "execution_count": 197,
   "id": "e6324c4c",
   "metadata": {},
   "outputs": [
    {
     "name": "stdout",
     "output_type": "stream",
     "text": [
      "john smith\n",
      "Jane Doe\n"
     ]
    }
   ],
   "source": [
    "for person in data['people']:\n",
    "    print(person['name'])"
   ]
  },
  {
   "cell_type": "code",
   "execution_count": 201,
   "id": "fe31ff4c",
   "metadata": {},
   "outputs": [],
   "source": [
    "# here we delete phone number from data and then turn it back into a json object\n",
    "for person in data['people']:\n",
    "    del person['phone']"
   ]
  },
  {
   "cell_type": "code",
   "execution_count": 203,
   "id": "eab71f40",
   "metadata": {},
   "outputs": [
    {
     "name": "stdout",
     "output_type": "stream",
     "text": [
      "{\n",
      "  \"people\": [\n",
      "    {\n",
      "      \"email\": [\n",
      "        \"john@gmail.com\",\n",
      "        \"smith@yahoo.com\"\n",
      "      ],\n",
      "      \"has_licence\": false,\n",
      "      \"name\": \"john smith\"\n",
      "    },\n",
      "    {\n",
      "      \"email\": null,\n",
      "      \"has_licence\": true,\n",
      "      \"name\": \"Jane Doe\"\n",
      "    }\n",
      "  ]\n",
      "}\n"
     ]
    }
   ],
   "source": [
    "# indent will make the json file more readable\n",
    "new_string = json.dumps(data, indent=2, sort_keys=True)\n",
    "print(new_string)"
   ]
  },
  {
   "cell_type": "code",
   "execution_count": null,
   "id": "71b36bb2",
   "metadata": {},
   "outputs": [],
   "source": [
    "# read json object from a file\n",
    "with open(\"Files/states.json\", \"r\") as f:\n",
    "    data = json.load(f)\n",
    "\n",
    "for state in data['states']:\n",
    "    print(state['name'], state['abbreviation'])\n",
    "    del state['abbreviation']\n",
    "    \n",
    "# write json object to a file\n",
    "with open(\"Files/new_states.json\", \"w\") as f:\n",
    "    json.dump(data, f, indent=2)"
   ]
  },
  {
   "cell_type": "code",
   "execution_count": 206,
   "id": "0310285a",
   "metadata": {},
   "outputs": [],
   "source": [
    "with urlopen(\"https://jsonplaceholder.typicode.com/todos\") as response:\n",
    "    source = response.read()\n",
    "    \n",
    "data = json.load(source)\n",
    "print(json.dump(data, indent=2))\n",
    "print(len(data))\n",
    "print(data[0])"
   ]
  },
  {
   "cell_type": "code",
   "execution_count": null,
   "id": "53cc52e5",
   "metadata": {},
   "outputs": [],
   "source": [
    "completed_dict = {}\n",
    "\n",
    "for dat in data:\n",
    "    _id = dat['id']\n",
    "    if dat['completed']:\n",
    "        completed_dict[_id] = dat['title']"
   ]
  },
  {
   "cell_type": "code",
   "execution_count": 208,
   "id": "68c45a24",
   "metadata": {},
   "outputs": [],
   "source": [
    "# to save/write as json file it would be better to save as list, then each row would be its own dict\n",
    "with open(\"Files/to_do.json\", \"w\") as f:\n",
    "    json.dump(completed_dict, f, indent=2)"
   ]
  },
  {
   "cell_type": "markdown",
   "id": "a88a717f",
   "metadata": {},
   "source": [
    "\n",
    "# *** Date and Time ***"
   ]
  },
  {
   "cell_type": "code",
   "execution_count": 210,
   "id": "8d7e7710",
   "metadata": {},
   "outputs": [
    {
     "name": "stdout",
     "output_type": "stream",
     "text": [
      "2019-05-15\n"
     ]
    }
   ],
   "source": [
    "import datetime\n",
    "import calendar\n",
    "\n",
    "d = datetime.date(2019, 5, 15) # create a date (don't write zero before single digit)\n",
    "print(d)"
   ]
  },
  {
   "cell_type": "code",
   "execution_count": 213,
   "id": "5d052aa9",
   "metadata": {},
   "outputs": [
    {
     "name": "stdout",
     "output_type": "stream",
     "text": [
      "2023-11-16\n",
      "16 11 2023 3\n"
     ]
    }
   ],
   "source": [
    "# today's date\n",
    "today = datetime.date.today()\n",
    "print(today)\n",
    "print(today.day, today.month, today.year, today.weekday()) # weekday()  : Monday 0  sunday 6"
   ]
  },
  {
   "cell_type": "code",
   "execution_count": 215,
   "id": "4d642331",
   "metadata": {},
   "outputs": [
    {
     "name": "stdout",
     "output_type": "stream",
     "text": [
      "2023-11-23\n",
      "3\n"
     ]
    }
   ],
   "source": [
    "# TimeDelta : find date of seven days from now in future\n",
    "tdelta = datetime.timedelta(days=7)\n",
    "print(today + tdelta) # date2 = date1 + timedelta\n",
    "\n",
    "# get what day of week it was 7 days ago\n",
    "print((today - tdelta).weekday())"
   ]
  },
  {
   "cell_type": "code",
   "execution_count": 217,
   "id": "5cbe29ab",
   "metadata": {},
   "outputs": [
    {
     "name": "stdout",
     "output_type": "stream",
     "text": [
      "268\n"
     ]
    }
   ],
   "source": [
    "bday = datetime.date(2019, 8, 10) # timedelta = date1 - date2\n",
    "till_bday = bday - today\n",
    "print(till_bday.days)"
   ]
  },
  {
   "cell_type": "code",
   "execution_count": 218,
   "id": "d73b9d9f",
   "metadata": {},
   "outputs": [
    {
     "name": "stdout",
     "output_type": "stream",
     "text": [
      "09:30:45\n"
     ]
    }
   ],
   "source": [
    "t = datetime.time(9, 30, 45) # hour - minute - second\n",
    "print(t)"
   ]
  },
  {
   "cell_type": "code",
   "execution_count": 219,
   "id": "ee072883",
   "metadata": {},
   "outputs": [
    {
     "name": "stdout",
     "output_type": "stream",
     "text": [
      "2019-05-18 14:51:30\n",
      "2019-05-18 |=====| 14:51:30\n"
     ]
    }
   ],
   "source": [
    "t = datetime.datetime(2019, 5, 18, 14, 51, 30)\n",
    "print(t)\n",
    "print(t.date(), \"|=====|\", t.time())"
   ]
  },
  {
   "cell_type": "code",
   "execution_count": 220,
   "id": "40e42888",
   "metadata": {},
   "outputs": [
    {
     "name": "stdout",
     "output_type": "stream",
     "text": [
      "2019-05-19 03:51:30\n"
     ]
    }
   ],
   "source": [
    "tdelta = datetime.timedelta(hours=13)\n",
    "print(t + tdelta)"
   ]
  },
  {
   "cell_type": "code",
   "execution_count": 222,
   "id": "6ed3ed8f",
   "metadata": {},
   "outputs": [
    {
     "name": "stdout",
     "output_type": "stream",
     "text": [
      "2023-11-16 16:30:19.978816\n"
     ]
    }
   ],
   "source": [
    "# this is current time without any timezone\n",
    "dt_today = datetime.datetime.today()\n",
    "print(dt_today)"
   ]
  },
  {
   "cell_type": "code",
   "execution_count": 223,
   "id": "75031e4e",
   "metadata": {},
   "outputs": [
    {
     "name": "stdout",
     "output_type": "stream",
     "text": [
      "2023-11-16 16:30:21.205607\n",
      "2023-11-16 15:30:21.205607\n"
     ]
    }
   ],
   "source": [
    "# this is same as dt_today, but we can give it timezones\n",
    "dt_now = datetime.datetime.now()\n",
    "print(dt_now)\n",
    "\n",
    "# current utc time\n",
    "dt_utcnow = datetime.datetime.utcnow()\n",
    "print(dt_utcnow)"
   ]
  },
  {
   "cell_type": "code",
   "execution_count": 225,
   "id": "4584581c",
   "metadata": {},
   "outputs": [
    {
     "name": "stdout",
     "output_type": "stream",
     "text": [
      "November 16 2023\n",
      "2019-05-18 00:00:00\n"
     ]
    }
   ],
   "source": [
    "# formatting time to custom mode for printing : strftime\n",
    "print(dt_today.strftime(\"%B %d %Y\"))\n",
    "\n",
    "# convert string to datetime : strptime\n",
    "dt_str = \"May 18, 2019\"\n",
    "dt = datetime.datetime.strptime(dt_str, \"%B %d, %Y\")\n",
    "print(dt)"
   ]
  },
  {
   "cell_type": "code",
   "execution_count": 227,
   "id": "b34fe298",
   "metadata": {},
   "outputs": [
    {
     "name": "stdout",
     "output_type": "stream",
     "text": [
      "THURSDAY\n"
     ]
    }
   ],
   "source": [
    "# dates and time in python : find day from the date\n",
    "date = \"9 18 1997\"\n",
    "month, day, year = date.split(\" \")\n",
    "l = list(calendar.day_name)\n",
    "print(l[calendar.weekday(int(year), int(month), int(day))].upper())"
   ]
  },
  {
   "cell_type": "code",
   "execution_count": 228,
   "id": "1134e36d",
   "metadata": {},
   "outputs": [
    {
     "name": "stdout",
     "output_type": "stream",
     "text": [
      "reach goals in 63 days\n"
     ]
    }
   ],
   "source": [
    "# weight loss planning via datetime\n",
    "current_weight = 79\n",
    "goal_weight = 70\n",
    "avg_loss_week = 1\n",
    "start_date = datetime.date.today()\n",
    "end_date = start_date\n",
    "\n",
    "while current_weight > goal_weight:\n",
    "    end_date += datetime.timedelta(days=7)\n",
    "    current_weight -= avg_loss_week\n",
    "print(f'reach goal in {(end_date - start_date).days} days')"
   ]
  },
  {
   "cell_type": "markdown",
   "id": "891317e1",
   "metadata": {},
   "source": [
    "\n",
    "# *** Exception Handeling ***"
   ]
  },
  {
   "cell_type": "code",
   "execution_count": null,
   "id": "554a5764",
   "metadata": {},
   "outputs": [],
   "source": [
    "# all errors : https://www.tutorialspoint.com/python/python_exceptions.html"
   ]
  },
  {
   "cell_type": "code",
   "execution_count": 2,
   "id": "200a26d9",
   "metadata": {},
   "outputs": [
    {
     "name": "stdout",
     "output_type": "stream",
     "text": [
      "[Errno 2] No such file or directory: './Files/xxx.txt'\n",
      "Final execution\n"
     ]
    }
   ],
   "source": [
    "try:\n",
    "    f = open('./Files/xxx.txt')\n",
    "    # raise a custom exception\n",
    "    if f.name == \"./Files/xxx.txt\":\n",
    "        raise Exception\n",
    "except FileNotFoundError as e:\n",
    "    print(e)\n",
    "except Exception as e: # Exception covers every error\n",
    "    print(\"Every Error\")\n",
    "else: # else clause only runs when we have NO exception\n",
    "    print(f.read()) # this can also be inside the try block\n",
    "    f.close()\n",
    "# finally caluse always runs\n",
    "finally:\n",
    "    print(\"Final execution\")"
   ]
  },
  {
   "cell_type": "code",
   "execution_count": 4,
   "id": "e5ed0b80",
   "metadata": {},
   "outputs": [
    {
     "name": "stdout",
     "output_type": "stream",
     "text": [
      "what is your favorite number? \n",
      "0\n",
      "don't enter zero.\n",
      "loop complete.\n",
      "what is your favorite number? \n",
      "eee\n",
      "only enter a number!\n",
      "loop complete.\n",
      "what is your favorite number? \n",
      "12\n",
      "1.5\n",
      "loop complete.\n"
     ]
    }
   ],
   "source": [
    "# Try - except - finally\n",
    "while True:\n",
    "    try:  # try to do this. if something goes wrong do the except.\n",
    "        number = int(input(\"what is your favorite number? \\n\"))\n",
    "        print(18 / number)\n",
    "        break  # when it breaks it means it ends the while loop.\n",
    "    except ValueError: # this won't break the loop, just re-iterate the while loop\n",
    "        print(\"only enter a number!\")\n",
    "    except ZeroDivisionError:\n",
    "        print(\"don't enter zero.\")\n",
    "    except: # this response to any kind of error.\n",
    "        break\n",
    "    # the code inside finally will be shown no matter what. (even after the break)\n",
    "    finally:\n",
    "        print(\"loop complete.\")"
   ]
  },
  {
   "cell_type": "code",
   "execution_count": 6,
   "id": "f4b07683",
   "metadata": {},
   "outputs": [],
   "source": [
    "# Catch multiple exceptions in one line (except block)\n",
    "except (IDontLikeYouException, YouAreBeingMeanException) as e:\n",
    "    pass"
   ]
  },
  {
   "cell_type": "code",
   "execution_count": null,
   "id": "aa0c72c9",
   "metadata": {},
   "outputs": [],
   "source": [
    "# How to make a variable inside a try/except block public?\n",
    "text = 'something'  # define it before the try-except or in else block\n",
    "try:\n",
    "    url = \"http://www.google.com\"\n",
    "    page = urllib.request.urlopen(url)\n",
    "    text = page.read().decode('utf8')\n",
    "except (ValueError, RuntimeError, TypeError, NameError):\n",
    "    print(\"Unable to process your request dude!!\")\n",
    "print(text)"
   ]
  },
  {
   "cell_type": "code",
   "execution_count": 7,
   "id": "a687a796",
   "metadata": {},
   "outputs": [],
   "source": [
    "# How to properly assert that an exception gets raised in pytest?\n",
    "import pytest\n",
    "\n",
    "def test_passes():\n",
    "    with pytest.raises(Exception) as e_info:\n",
    "        x = 1 / 0\n",
    "\n",
    "def test_passes_without_info():\n",
    "    with pytest.raises(Exception):\n",
    "        x = 1 / 0\n",
    "\n",
    "def test_fails():\n",
    "    with pytest.raises(Exception) as e_info:\n",
    "        x = 1 / 1\n",
    "\n",
    "def test_fails_without_info():\n",
    "    with pytest.raises(Exception):\n",
    "        x = 1 / 1"
   ]
  },
  {
   "cell_type": "code",
   "execution_count": 8,
   "id": "0c2b0430",
   "metadata": {},
   "outputs": [
    {
     "ename": "AssertionError",
     "evalue": "",
     "output_type": "error",
     "traceback": [
      "\u001b[1;31m---------------------------------------------------------------------------\u001b[0m",
      "\u001b[1;31mAssertionError\u001b[0m                            Traceback (most recent call last)",
      "Cell \u001b[1;32mIn[8], line 10\u001b[0m\n\u001b[0;32m      1\u001b[0m \u001b[38;5;66;03m# assert\u001b[39;00m\n\u001b[0;32m      2\u001b[0m \u001b[38;5;124;03m'''\u001b[39;00m\n\u001b[0;32m      3\u001b[0m \u001b[38;5;124;03mWhat is the use of “assert” in Python?\u001b[39;00m\n\u001b[0;32m      4\u001b[0m \u001b[38;5;124;03mThe assert statement exists in almost every programming language. It helps detect problems early in your program, \u001b[39;00m\n\u001b[1;32m   (...)\u001b[0m\n\u001b[0;32m      7\u001b[0m \u001b[38;5;124;03massert True # nothing happens\u001b[39;00m\n\u001b[0;32m      8\u001b[0m \u001b[38;5;124;03m'''\u001b[39;00m\n\u001b[1;32m---> 10\u001b[0m \u001b[38;5;28;01massert\u001b[39;00m \u001b[38;5;28;01mFalse\u001b[39;00m  \u001b[38;5;66;03m# AssertionError\u001b[39;00m\n\u001b[0;32m     11\u001b[0m \u001b[38;5;28;01massert\u001b[39;00m \u001b[38;5;241m2\u001b[39m \u001b[38;5;241m==\u001b[39m \u001b[38;5;241m2\u001b[39m\n",
      "\u001b[1;31mAssertionError\u001b[0m: "
     ]
    }
   ],
   "source": [
    "# assert\n",
    "'''\n",
    "What is the use of “assert” in Python?\n",
    "The assert statement exists in almost every programming language. It helps detect problems early in your program, \n",
    "where the cause is clear, rather than later as a side-effect of some other operation.\n",
    "if not condition: raise AssertionError()\n",
    "assert True # nothing happens\n",
    "'''\n",
    "\n",
    "assert False  # AssertionError\n",
    "assert 2 == 2  # nothing happens"
   ]
  },
  {
   "cell_type": "code",
   "execution_count": 9,
   "id": "dabe93e8",
   "metadata": {},
   "outputs": [],
   "source": [
    "# Don't do this. Assertions are caught as exceptions.\n",
    "def test_passes_but_should_not():\n",
    "    try:\n",
    "        x = 1 / 1\n",
    "        assert False\n",
    "    except Exception:\n",
    "        assert True\n",
    "        \n",
    "# Even if the appropriate exception is caught, it is bad style,\n",
    "# because the test result is less informative\n",
    "# than it would be with pytest.raises(e)\n",
    "# (it just says pass or fail.)\n",
    "def test_passes_but_bad_style():\n",
    "    try:\n",
    "        x = 1 / 0\n",
    "        assert False\n",
    "    except ZeroDivisionError:\n",
    "        assert True\n",
    "        \n",
    "def test_fails_but_bad_style():\n",
    "    try:\n",
    "        x = 1 / 1\n",
    "        assert False\n",
    "    except ZeroDivisionError:\n",
    "        assert True"
   ]
  },
  {
   "cell_type": "code",
   "execution_count": 61,
   "id": "fe273b01",
   "metadata": {},
   "outputs": [
    {
     "name": "stderr",
     "output_type": "stream",
     "text": [
      "INFO:__main__:[-] problem with data extraction division by zero\n",
      "Traceback (most recent call last):\n",
      "  File \"C:\\Users\\Babak\\AppData\\Local\\Temp\\ipykernel_26388\\1241251019.py\", line 3, in <module>\n",
      "    x = 1000/0\n",
      "        ~~~~^~\n",
      "ZeroDivisionError: division by zero\n"
     ]
    }
   ],
   "source": [
    "# log the exception error\n",
    "try:\n",
    "    x = 1000/0\n",
    "except Exception as e:\n",
    "    Error_message = \"problem with data extraction \"\n",
    "    logger.info('[-] %s', Error_message+str(e), exc_info=True)"
   ]
  },
  {
   "cell_type": "code",
   "execution_count": 62,
   "id": "2926eed3",
   "metadata": {},
   "outputs": [
    {
     "name": "stdout",
     "output_type": "stream",
     "text": [
      "0.16666666666666666\n",
      "Cannot divide by zero!\n",
      "None\n",
      "Index out of range!\n",
      "None\n"
     ]
    }
   ],
   "source": [
    "# MODIFY the function to catch exceptions\n",
    "\n",
    "def invert_at_index(x, ind):\n",
    "    try:\n",
    "        return 1/x[ind]\n",
    "    except ZeroDivisionError as e:\n",
    "        print(\"Cannot divide by zero!\")\n",
    "    except IndexError as e:\n",
    "        print(\"Index out of range!\")\n",
    "\n",
    "\n",
    "a = [5, 6, 0, 7]\n",
    "\n",
    "# Works okay\n",
    "print(invert_at_index(a, 1))\n",
    "\n",
    "# Potential ZeroDivisionError\n",
    "print(invert_at_index(a, 2))\n",
    "\n",
    "# Potential IndexError\n",
    "print(invert_at_index(a, 5))"
   ]
  },
  {
   "cell_type": "code",
   "execution_count": 64,
   "id": "2633ce64",
   "metadata": {},
   "outputs": [
    {
     "ename": "UnboundLocalError",
     "evalue": "cannot access local variable 'a' where it is not associated with a value",
     "output_type": "error",
     "traceback": [
      "\u001b[1;31m---------------------------------------------------------------------------\u001b[0m",
      "\u001b[1;31mUnboundLocalError\u001b[0m                         Traceback (most recent call last)",
      "Cell \u001b[1;32mIn[64], line 7\u001b[0m\n\u001b[0;32m      3\u001b[0m     a \u001b[38;5;241m=\u001b[39m \u001b[38;5;124m\"\u001b[39m\u001b[38;5;124mpython is cool\u001b[39m\u001b[38;5;124m\"\u001b[39m\n\u001b[0;32m      6\u001b[0m a \u001b[38;5;241m=\u001b[39m \u001b[38;5;124m\"\u001b[39m\u001b[38;5;124mdata analytics is good\u001b[39m\u001b[38;5;124m\"\u001b[39m\n\u001b[1;32m----> 7\u001b[0m func()\n",
      "Cell \u001b[1;32mIn[64], line 2\u001b[0m, in \u001b[0;36mfunc\u001b[1;34m()\u001b[0m\n\u001b[0;32m      1\u001b[0m \u001b[38;5;28;01mdef\u001b[39;00m \u001b[38;5;21mfunc\u001b[39m():\n\u001b[1;32m----> 2\u001b[0m     \u001b[38;5;28mprint\u001b[39m(a)\n\u001b[0;32m      3\u001b[0m     a \u001b[38;5;241m=\u001b[39m \u001b[38;5;124m\"\u001b[39m\u001b[38;5;124mpython is cool\u001b[39m\u001b[38;5;124m\"\u001b[39m\n",
      "\u001b[1;31mUnboundLocalError\u001b[0m: cannot access local variable 'a' where it is not associated with a value"
     ]
    }
   ],
   "source": [
    "def func():\n",
    "    print(a)\n",
    "    a = \"python is cool\"\n",
    "\n",
    "\n",
    "a = \"data analytics is good\"\n",
    "func()   # UnboundLocalError: local variable 'a' referenced before assignment"
   ]
  },
  {
   "cell_type": "code",
   "execution_count": 65,
   "id": "1e25f2d3",
   "metadata": {},
   "outputs": [
    {
     "name": "stdout",
     "output_type": "stream",
     "text": [
      "python is cool\n"
     ]
    }
   ],
   "source": [
    "def func_1():\n",
    "    a = \"python is cool\"\n",
    "    print(a)\n",
    "\n",
    "\n",
    "a = \"data analytics is good\"\n",
    "func_1()   # python is cool"
   ]
  },
  {
   "cell_type": "code",
   "execution_count": 70,
   "id": "41b038b2",
   "metadata": {},
   "outputs": [
    {
     "name": "stdout",
     "output_type": "stream",
     "text": [
      "5\n",
      "else clause executed\n",
      "4\n",
      "finally\n",
      "4\n"
     ]
    }
   ],
   "source": [
    "def catch_it(a):\n",
    "\n",
    "    try:\n",
    "        2 + 2\n",
    "        a = 5\n",
    "        print(a)  # this will return 5\n",
    "    # won't be executed since there is no error here\n",
    "    except:\n",
    "        print('exception raised')\n",
    "        print(a)\n",
    "\n",
    "    # will since there is no exception\n",
    "    else:\n",
    "        a -= 1\n",
    "        print('else clause executed')\n",
    "        print(a)  # this will return 4\n",
    "\n",
    "    # will run regardless (always)\n",
    "    finally:\n",
    "        print('finally')\n",
    "        print(a)  # this will return 4\n",
    "\n",
    "\n",
    "a = 1  # won't be used since we have local variables inside the method\n",
    "catch_it(a)"
   ]
  },
  {
   "cell_type": "code",
   "execution_count": 71,
   "id": "dcced364",
   "metadata": {},
   "outputs": [
    {
     "name": "stdout",
     "output_type": "stream",
     "text": [
      "TypeError raised\n",
      "that is all\n"
     ]
    }
   ],
   "source": [
    "def result_or_fail(a):\n",
    "\n",
    "    try:\n",
    "        a += 1\n",
    "\n",
    "    except ValueError:\n",
    "        print('ValueError raised')\n",
    "\n",
    "    # this will be printed, since the variable is string, yet we try to add it to an integer\n",
    "    except TypeError:\n",
    "        print('TypeError raised')\n",
    "\n",
    "    except:\n",
    "        print('error raised')\n",
    "\n",
    "    else:\n",
    "        print('else executed')\n",
    "\n",
    "    # this will be printed\n",
    "    finally:\n",
    "        print('that is all')\n",
    "\n",
    "\n",
    "a = '2'\n",
    "result_or_fail(a)"
   ]
  },
  {
   "cell_type": "code",
   "execution_count": 74,
   "id": "51874761",
   "metadata": {},
   "outputs": [
    {
     "ename": "IndexError",
     "evalue": "string index out of range",
     "output_type": "error",
     "traceback": [
      "\u001b[1;31m---------------------------------------------------------------------------\u001b[0m",
      "\u001b[1;31mIndexError\u001b[0m                                Traceback (most recent call last)",
      "Cell \u001b[1;32mIn[74], line 9\u001b[0m\n\u001b[0;32m      7\u001b[0m \u001b[38;5;28;01mwhile\u001b[39;00m(i \u001b[38;5;241m<\u001b[39m\u001b[38;5;241m=\u001b[39m \u001b[38;5;28mlen\u001b[39m(s)):    \u001b[38;5;66;03m# here is the error: Change while(i <= len(s): to while(i < len(s)):, or to while(i <= len(s)-1)\u001b[39;00m\n\u001b[0;32m      8\u001b[0m     prev_letter \u001b[38;5;241m=\u001b[39m s[\u001b[38;5;241m0\u001b[39m]\n\u001b[1;32m----> 9\u001b[0m     letter \u001b[38;5;241m=\u001b[39m s[i]\n\u001b[0;32m     11\u001b[0m     \u001b[38;5;28;01mif\u001b[39;00m letter \u001b[38;5;241m<\u001b[39m\u001b[38;5;241m=\u001b[39m prev_letter:\n\u001b[0;32m     12\u001b[0m         substring \u001b[38;5;241m+\u001b[39m\u001b[38;5;241m=\u001b[39m letter\n",
      "\u001b[1;31mIndexError\u001b[0m: string index out of range"
     ]
    }
   ],
   "source": [
    "# IndexError: string index out of range in Python\n",
    "s = 'aba'\n",
    "letter = ''\n",
    "substring = ''\n",
    "\n",
    "i = 0\n",
    "while(i <= len(s)):    # here is the error: Change while(i <= len(s): to while(i < len(s)):, or to while(i <= len(s)-1)\n",
    "    prev_letter = s[0]\n",
    "    letter = s[i]\n",
    "\n",
    "    if letter <= prev_letter:\n",
    "        substring += letter\n",
    "        prev_letter = letter\n",
    "    i += 1"
   ]
  },
  {
   "cell_type": "code",
   "execution_count": 78,
   "id": "44cd25f9",
   "metadata": {},
   "outputs": [
    {
     "name": "stdout",
     "output_type": "stream",
     "text": [
      "aa\n"
     ]
    }
   ],
   "source": [
    "'''\n",
    "In Python, a string is a single-dimensional array of characters. Indexes in Python programming start at 0. This means that the maximum index for any string will always \n",
    "be len(s)-1. In your code, i will eventually be equal to len(s), which is one element higher than the maximum.\n",
    "As a side note, it would probably be beneficial to use a for loop rather than a while loop in your code. Your code can be replaced with this:\n",
    "'''\n",
    "# a better solution would be :\n",
    "s = 'aba'\n",
    "letter = ''\n",
    "substring = ''\n",
    "\n",
    "i = 0\n",
    "\n",
    "for i in range(len(s)):\n",
    "    prev_letter = s[0]\n",
    "    letter = s[i]\n",
    "\n",
    "    if letter <= prev_letter:\n",
    "        substring += letter\n",
    "        prev_letter = letter\n",
    "        \n",
    "print(substring)"
   ]
  },
  {
   "cell_type": "markdown",
   "id": "21763645",
   "metadata": {},
   "source": [
    "\n",
    "# *** Logging ***"
   ]
  },
  {
   "cell_type": "code",
   "execution_count": 57,
   "id": "e874a784",
   "metadata": {},
   "outputs": [],
   "source": [
    "\"\"\"\n",
    "INFO: Confirmation that things are working as expected.\n",
    "DEBUG: Detailed information, typically of interest only when diagnosing problems.\n",
    "WARNING: An indication that something unexpected happened, or indicative of some problem in the near future\n",
    "(e.g. ‘disk space low’). The software is still working as expected.\n",
    "ERROR: Due to a more serious problem, the software has not been able to perform some function.\n",
    "CRITICAL: A serious error, indicating that the program itself may be unable to continue running.\n",
    "\n",
    "critical > error > warning > debug > info\n",
    "\"\"\"\n",
    "\n",
    "import logging\n",
    "\n",
    "# logging to the console\n",
    "logging.basicConfig(level=logging.DEBUG)\n",
    "\n",
    "# logging to a file\n",
    "logging.basicConfig(filename='test.log', level=logging.DEBUG, format='%(asctime)s:%(levelname)s:%(message)s')"
   ]
  },
  {
   "cell_type": "code",
   "execution_count": 58,
   "id": "8d932d64",
   "metadata": {},
   "outputs": [],
   "source": [
    "# more advanced logging\n",
    "\n",
    "# get name of this current file and create the logger object\n",
    "logger = logging.getLogger(__name__)\n",
    "logger.setLevel(logging.DEBUG) # set logging level\n",
    "\n",
    "# set the format how to write the text to logger\n",
    "formatter = logging.Formatter('%(asctime)s:%(name)s:%(message)s')\n",
    "\n",
    "# set the file to write logs in it and set the logging level\n",
    "file_handler = logging.FileHandler('test.log')\n",
    "\n",
    "# even though our logger is set to level DEBUG , since file is set to ERROR, it won't write to log file\n",
    "file_handler.setLevel(logging.ERROR)\n",
    "file_handler.setFormatter(formatter)"
   ]
  },
  {
   "cell_type": "code",
   "execution_count": 18,
   "id": "d5803165",
   "metadata": {},
   "outputs": [],
   "source": [
    "# stream handler shows all levels of logging to the console\n",
    "stream_handler = logging.StreamHandler()\n",
    "stream_handler.setFormatter(formatter)\n",
    "\n",
    "# add the handler to the logger object\n",
    "logger.addHandler(file_handler)\n",
    "logger.addHandler(stream_handler)"
   ]
  },
  {
   "cell_type": "code",
   "execution_count": 21,
   "id": "48e476dc",
   "metadata": {},
   "outputs": [
    {
     "name": "stderr",
     "output_type": "stream",
     "text": [
      "2023-11-17 11:00:19,204:__main__:add: 10 + 20 = 30\n",
      "DEBUG:__main__:add: 10 + 20 = 30\n",
      "2023-11-17 11:00:19,205:__main__:subtract: 10 - 20 = -10\n",
      "DEBUG:__main__:subtract: 10 - 20 = -10\n",
      "2023-11-17 11:00:19,207:__main__:Tried to divide by zero\n",
      "Traceback (most recent call last):\n",
      "  File \"C:\\Users\\Babak\\AppData\\Local\\Temp\\ipykernel_9904\\1189649869.py\", line 16, in divide\n",
      "    result = x / y\n",
      "             ~~^~~\n",
      "ZeroDivisionError: division by zero\n",
      "ERROR:__main__:Tried to divide by zero\n",
      "Traceback (most recent call last):\n",
      "  File \"C:\\Users\\Babak\\AppData\\Local\\Temp\\ipykernel_9904\\1189649869.py\", line 16, in divide\n",
      "    result = x / y\n",
      "             ~~^~~\n",
      "ZeroDivisionError: division by zero\n"
     ]
    }
   ],
   "source": [
    "def add(x, y):\n",
    "    \"\"\"Add Function\"\"\"\n",
    "    return x + y\n",
    "\n",
    "def subtract(x, y):\n",
    "    \"\"\"Subtract Function\"\"\"\n",
    "    return x - y\n",
    "\n",
    "def multiply(x, y):\n",
    "    \"\"\"Multiply Function\"\"\"\n",
    "    return x * y\n",
    "\n",
    "def divide(x, y):\n",
    "    \"\"\"Divivde Function\"\"\"\n",
    "    try:\n",
    "        result = x / y\n",
    "    except ZeroDivisionError:\n",
    "        logger.exception('Tried to divide by zero')\n",
    "    else:\n",
    "        return result\n",
    "    \n",
    "num_1, num_2 = 10, 20\n",
    "add_result = add(num_1, num_2)\n",
    "subtract_result = subtract(num_1, num_2)\n",
    "\n",
    "logger.debug(f'add: {num_1} + {num_2} = {add_result}')\n",
    "logger.debug(f'subtract: {num_1} - {num_2} = {subtract_result}')\n",
    "\n",
    "x, y = 1, 0\n",
    "div_num = divide(x , y)"
   ]
  },
  {
   "cell_type": "code",
   "execution_count": 22,
   "id": "1a7135d5",
   "metadata": {},
   "outputs": [],
   "source": [
    "# logger.py , example logger file\n",
    "\n",
    "import logging\n",
    "import os\n",
    "from datetime import datetime\n",
    "from pathlib import Path\n",
    "\n",
    "LOGGING_FORMAT = '%(asctime)s - %(levelname)s: %(message)s'\n",
    "LOGS_FOLDER_PATH = os.path.join(os.getcwd(), 'logs')\n",
    "\n",
    "if not Path(LOGS_FOLDER_PATH).is_dir():\n",
    "    os.mkdir(LOGS_FOLDER_PATH)\n",
    "\n",
    "DATE_NOW = datetime.now()\n",
    "F_PREFIX = \"{year}.{month}.{day}\".format(year=DATE_NOW.year,\n",
    "                                         month=str(DATE_NOW.month).zfill(2),\n",
    "                                         day=str(DATE_NOW.day).zfill(2))\n",
    "F_SUFFIX = 'Error.log'\n",
    "LOG_FILE_NAME = f\"{F_PREFIX}_{F_SUFFIX}\"\n",
    "LOG_FILE_PATH = os.path.join(LOGS_FOLDER_PATH, LOG_FILE_NAME)\n",
    "logging.basicConfig(filename=LOG_FILE_PATH,\n",
    "                    format=LOGGING_FORMAT, level=logging.INFO)"
   ]
  },
  {
   "cell_type": "markdown",
   "id": "9e0fef30",
   "metadata": {},
   "source": [
    "\n",
    "# *** PIP Commands ***"
   ]
  },
  {
   "cell_type": "code",
   "execution_count": null,
   "id": "64098d0e",
   "metadata": {},
   "outputs": [],
   "source": [
    "pip help  # shows all command options\n",
    "pip help install  # shows all command options for \"install\"\n",
    "pip search packageName  # tries to find if package with such name exists\n",
    "pip install packageName\n",
    "pip uninstall packageName\n",
    "pip install -U packageName   # updates the package\n",
    "pip list  # shows list of all installed packages\n",
    "pip list -o  # all outdated packages that need update\n",
    "\n",
    "pip freeze > requirements.txt  # get a list of all packages and their versions and send it to a file\n",
    "pip install -r requirements.txt  # read list of packages from a file and install them"
   ]
  },
  {
   "cell_type": "code",
   "execution_count": null,
   "id": "97e37383",
   "metadata": {},
   "outputs": [],
   "source": [
    "# How to activate an Anaconda environment?\n",
    "# create an environment called py33 by using:\n",
    "conda create -n py33 python=3.3 anaconda\n",
    "# set the PATH as:\n",
    "set PATH=C:\\Anaconda\\envs\\py33\\Scripts;C:\\Anaconda\\envs\\py33;%PATH%\n",
    "# inside the cmd:\n",
    "activate py33\n",
    "# in linux/mac:\n",
    "source activate py33"
   ]
  },
  {
   "cell_type": "code",
   "execution_count": null,
   "id": "85fb8ecb",
   "metadata": {},
   "outputs": [],
   "source": [
    "# Creating password using Python passlib\n",
    "# first install the package\n",
    "sudo pip install passlib\n",
    "# import the hash algorithm\n",
    "from passlib.hash import sha256_crypt\n",
    "hash = sha256_crypt.encrypt(\"toomanysecrets\")\n",
    "print(hash)"
   ]
  },
  {
   "cell_type": "code",
   "execution_count": null,
   "id": "a283972e",
   "metadata": {},
   "outputs": [],
   "source": [
    "# where does anaconda python install in windows?\n",
    "'''\n",
    "To find where Anaconda was installed I used the \"where\" command on the command line in Windows.\n",
    "C:\\>where anaconda\n",
    "which for me returned:\n",
    "C:\\Users\\User-Name\\AppData\\Local\\Continuum\\Anaconda2\\Scripts\\anaconda.exe\n",
    "'''\n",
    "\n",
    "# What is the meaning of “Failed building wheel for X” in pip install?\n",
    "'''\n",
    "If the package is not a wheel, pip tries to build a wheel for it (via setup.py bdist_wheel). If that fails for any\n",
    "reason, you get the \"Failed building wheel for pycparser\" message and pip falls back to installing directly\n",
    "(via setup.py install).\n",
    "Once we have a wheel, pip can install the wheel by unpacking it correctly. pip tries to install packages via wheels as\n",
    "often as it can. This is because of various advantages of using wheels (like faster installs, cache-able, not executing\n",
    " code again etc).\n",
    "'''\n",
    "\n",
    "# How to change the Jupyter start-up folder\n",
    "'''\n",
    "Use the jupyter notebook config file:\n",
    "Open cmd (or Anaconda Prompt) and run jupyter notebook --generate-config.\n",
    "This writes a file to C:\\Users\\username\\.jupyter\\jupyter_notebook_config.py.\n",
    "Browse to the file location and open it in an Editor\n",
    "Search for the following line in the file: #c.NotebookApp.notebook_dir = ''\n",
    "Replace by c.NotebookApp.notebook_dir = '/the/path/to/home/folder/'\n",
    "Make sure you use forward slashes in your path and use /home/user/ instead of ~/ for your home directory, backslashes could be used if placed in double quotes even if folder name contains spaces as such : \"D:\\yourUserName\\Any Folder\\More Folders\\\"\n",
    "Remove the # at the beginning of the line to allow the line to execute\n",
    "'''"
   ]
  },
  {
   "cell_type": "code",
   "execution_count": null,
   "id": "dcf5d028",
   "metadata": {},
   "outputs": [],
   "source": [
    "# how to specify new environment location for conda create?\n",
    "# Will create the environment named \"test-env\" which resides in /tmp/ instead of the default .conda\n",
    "conda create --prefix /tmp/test-env python=3.7"
   ]
  },
  {
   "cell_type": "markdown",
   "id": "708ee44e",
   "metadata": {},
   "source": [
    "\n",
    "# *** Map and Lambda ***"
   ]
  },
  {
   "cell_type": "code",
   "execution_count": 27,
   "id": "767fcab8",
   "metadata": {},
   "outputs": [
    {
     "name": "stdout",
     "output_type": "stream",
     "text": [
      "[1, 4, 9, 16, 25]\n"
     ]
    }
   ],
   "source": [
    "nums = [1, 2, 3, 4, 5]\n",
    "l_nums = [n*n for n in nums]\n",
    "print(l_nums)"
   ]
  },
  {
   "cell_type": "code",
   "execution_count": 28,
   "id": "d6a92d57",
   "metadata": {},
   "outputs": [
    {
     "name": "stdout",
     "output_type": "stream",
     "text": [
      "[2, 4]\n"
     ]
    }
   ],
   "source": [
    "l_2 = [n for n in nums if n % 2 == 0]\n",
    "print(l_2)"
   ]
  },
  {
   "cell_type": "code",
   "execution_count": 29,
   "id": "2e2d09e5",
   "metadata": {},
   "outputs": [
    {
     "name": "stdout",
     "output_type": "stream",
     "text": [
      "[False, True, False, True, False]\n",
      "[2, 4]\n",
      "[('a', 0), ('a', 1), ('a', 2), ('a', 3), ('b', 0), ('b', 1), ('b', 2), ('b', 3), ('c', 0), ('c', 1), ('c', 2), ('c', 3), ('d', 0), ('d', 1), ('d', 2), ('d', 3)]\n"
     ]
    }
   ],
   "source": [
    "# map applies a lambda function to list and returns result of lambda (here True / False)\n",
    "print(list(map(lambda x: x % 2 == 0, nums)))\n",
    "\n",
    "# filter applies lambda function but only returns value of elements that returned True\n",
    "print(list(filter(lambda x: x % 2 == 0, nums)))\n",
    "\n",
    "                     # outer loop         # inner loop\n",
    "print([(letter, num) for letter in 'abcd' for num in range(4)])"
   ]
  },
  {
   "cell_type": "code",
   "execution_count": 40,
   "id": "9f64e501",
   "metadata": {},
   "outputs": [
    {
     "name": "stdout",
     "output_type": "stream",
     "text": [
      "529344067295497451\n"
     ]
    }
   ],
   "source": [
    "# map function and tuples\n",
    "n = 5\n",
    "integer_list = map(int, \"1 2 3\".split(\" \"))\n",
    "print(hash(tuple(integer_list)))"
   ]
  },
  {
   "cell_type": "code",
   "execution_count": 41,
   "id": "45bc7504",
   "metadata": {},
   "outputs": [
    {
     "name": "stdout",
     "output_type": "stream",
     "text": [
      "[4, 5, 3]\n"
     ]
    }
   ],
   "source": [
    "# The map() function applies a function to every member of an iterable and returns the result.\n",
    "print(list(map(len, ['Tina', 'babak', 'Tom'])))"
   ]
  },
  {
   "cell_type": "code",
   "execution_count": 53,
   "id": "2d86d172",
   "metadata": {},
   "outputs": [
    {
     "name": "stdout",
     "output_type": "stream",
     "text": [
      "6\n",
      "8\n",
      "35\n"
     ]
    }
   ],
   "source": [
    "# Lambda is a single expression anonymous function often used as an inline function.\n",
    "sum = lambda a, b, c: a+b+c\n",
    "print(sum(1, 2, 3))\n",
    "\n",
    "cube = lambda x: x**3\n",
    "print(cube(2))\n",
    "\n",
    "# lambda function:\n",
    "answer = lambda x: print(x*7)\n",
    "answer(5)"
   ]
  },
  {
   "cell_type": "code",
   "execution_count": 54,
   "id": "3004c576",
   "metadata": {},
   "outputs": [
    {
     "name": "stdout",
     "output_type": "stream",
     "text": [
      "[0, 1, 1, 8, 27]\n"
     ]
    }
   ],
   "source": [
    "# map and lambda for fibonacci\n",
    "def fibonacci(n):\n",
    "    list = []\n",
    "    for i in range(0, n):\n",
    "        if i == 0 or i == 1:\n",
    "            list.append(i)\n",
    "        else:\n",
    "            list.append(list[i-1] + list[i-2])\n",
    "    return list\n",
    "\n",
    "n = 5\n",
    "print(list(map(cube, fibonacci(n))))"
   ]
  },
  {
   "cell_type": "code",
   "execution_count": 55,
   "id": "691765e4",
   "metadata": {},
   "outputs": [
    {
     "name": "stdout",
     "output_type": "stream",
     "text": [
      "['a', 1, 'x']\n",
      "[1, 2, 3, 4]\n"
     ]
    }
   ],
   "source": [
    "# Extract first item of each sublist\n",
    "lst = [[\"a\", \"b\", \"c\"], [1, 2, 3], [\"x\", \"y\", \"z\"]]\n",
    "lst2 = [item[0] for item in lst]\n",
    "print(lst2)\n",
    "\n",
    "# access all list elements from last to first in python list\n",
    "l = [4, 3, 2, 1]\n",
    "print([x for x in l[::-1]])"
   ]
  },
  {
   "cell_type": "code",
   "execution_count": 61,
   "id": "b7affeaa",
   "metadata": {},
   "outputs": [
    {
     "name": "stdout",
     "output_type": "stream",
     "text": [
      "['Steve Jobs', 'Mike Mo', 'Alf Zed']\n"
     ]
    }
   ],
   "source": [
    "# sort() / sorted() function with lambda expressions => using lambda to sort by last name\n",
    "names = ['Alf Zed', 'Mike Mo', 'Steve Jobs']\n",
    "names.sort(key=lambda x: x.split()[-1].lower())  # sorts based on the second part of each string\n",
    "print(names)"
   ]
  },
  {
   "cell_type": "code",
   "execution_count": 62,
   "id": "d452c1d5",
   "metadata": {},
   "outputs": [
    {
     "name": "stdout",
     "output_type": "stream",
     "text": [
      "[('C', 58), ('A', 28), ('B', 13)]\n"
     ]
    }
   ],
   "source": [
    "people = [('A', 28), ('B', 13), ('C', 58)]\n",
    "people.sort(key=lambda x: x[1], reverse=True) # this will change the original list\n",
    "print(people)"
   ]
  },
  {
   "cell_type": "code",
   "execution_count": 64,
   "id": "633563e1",
   "metadata": {},
   "outputs": [
    {
     "data": {
      "text/plain": [
       "15"
      ]
     },
     "execution_count": 64,
     "metadata": {},
     "output_type": "execute_result"
    }
   ],
   "source": [
    "# reduce()\n",
    "'''\n",
    "reduce() function accepts a function and a sequence and returns a single value calculated as follows:\n",
    "Initially, the function is called with the first two items from the sequence and the result is returned. \n",
    "The function is then called again with the result obtained in step 1 and the next value in the sequence. \n",
    "This process keeps repeating until there are items in the sequence. The syntax of the reduce() function \n",
    "is as follows:\n",
    "Syntax: reduce(function, sequence[, initial]) -> value\n",
    "'''\n",
    "from functools import reduce\n",
    "\n",
    "def do_sum(x1, x2): return x1 + x2\n",
    "reduce(do_sum, [1,2,3,4,5]) # 1+2  -> 3+3  -> 6+4 -> 10+5 => 10"
   ]
  },
  {
   "cell_type": "code",
   "execution_count": null,
   "id": "2834d4bb",
   "metadata": {},
   "outputs": [],
   "source": [
    "# slicing strings and using map function\n",
    "n = int(input())  # this only receives the first line of input\n",
    "student_marks = {}\n",
    "for _ in range(n):   # we use _ since we just want to iterate\n",
    "    line = input().split()\n",
    "    name, scores = line[0], line[1:]\n",
    "    # map function applies float to all elements of the list\n",
    "    scores = map(float, scores)\n",
    "    student_marks[name] = scores\n",
    "query_name = input()\n",
    "\n",
    "print(\"{0:.2f}\".format(\n",
    "    sum(student_marks[query_name]) / len(student_marks[query_name])))"
   ]
  },
  {
   "cell_type": "markdown",
   "id": "68120acc",
   "metadata": {},
   "source": [
    "\n",
    "# *** First Class Function , Closure, Decorator ***"
   ]
  },
  {
   "cell_type": "code",
   "execution_count": 66,
   "id": "1bdbce10",
   "metadata": {},
   "outputs": [
    {
     "name": "stdout",
     "output_type": "stream",
     "text": [
      "<function square at 0x0000027FF96A7600>\n",
      "25\n"
     ]
    }
   ],
   "source": [
    "import logging\n",
    "\n",
    "# square is a \"first class function\" because it can be passed as a 'variable' or to other functions\n",
    "def square(x):\n",
    "    return x * x\n",
    "\n",
    "# assign function to variable\n",
    "f = square\n",
    "print(f)\n",
    "print(f(5))"
   ]
  },
  {
   "cell_type": "code",
   "execution_count": 67,
   "id": "047f437f",
   "metadata": {},
   "outputs": [
    {
     "name": "stdout",
     "output_type": "stream",
     "text": [
      "[1, 4, 9, 16, 25]\n"
     ]
    }
   ],
   "source": [
    "# map() is an example of \"higher-order function\", since it accepts another function as input\n",
    "def my_map(func, arg_list):\n",
    "    result = []\n",
    "    for i in arg_list:\n",
    "        result.append(func(i))\n",
    "    return result\n",
    "\n",
    "squares = my_map(square, [1, 2, 3, 4, 5])\n",
    "print(squares)"
   ]
  },
  {
   "cell_type": "code",
   "execution_count": 68,
   "id": "3d28eb05",
   "metadata": {},
   "outputs": [
    {
     "name": "stdout",
     "output_type": "stream",
     "text": [
      "<function logger.<locals>.log_message at 0x0000027FF96A5120>\n",
      "Log: Hi!\n"
     ]
    }
   ],
   "source": [
    "# return a first class function as output of higher order function\n",
    "def logger(msg):\n",
    "    def log_message():\n",
    "        print('Log:', msg)\n",
    "    return log_message   # we return it as variable\n",
    "\n",
    "print(logger('Hi!'))\n",
    "log_hi = logger('Hi!')  # here we set the log_hi variable to be a function equal to log_message()\n",
    "log_hi()  # here we execute it"
   ]
  },
  {
   "cell_type": "code",
   "execution_count": 69,
   "id": "142f0ce6",
   "metadata": {},
   "outputs": [
    {
     "name": "stdout",
     "output_type": "stream",
     "text": [
      "h1 Test Headline\n",
      "p Test paragraph\n"
     ]
    }
   ],
   "source": [
    "# another example of return first class function as output from higher order function\n",
    "def html_tag(tag):\n",
    "    def wrap_text(msg):\n",
    "        print(tag, msg)\n",
    "    return wrap_text\n",
    "\n",
    "print_h1 = html_tag('h1')\n",
    "print_h1('Test Headline')\n",
    "\n",
    "print_p = html_tag('p')  # here we set print_p as a function equal to wrap_text()\n",
    "print_p('Test paragraph')  # here we execute it with an argument"
   ]
  },
  {
   "cell_type": "code",
   "execution_count": 70,
   "id": "0543b72d",
   "metadata": {},
   "outputs": [
    {
     "name": "stdout",
     "output_type": "stream",
     "text": [
      "<function _sum.<locals>.do_it at 0x0000027FF96A7CE0>\n",
      "4\n"
     ]
    }
   ],
   "source": [
    "# Closure\n",
    "'''\n",
    "If function A is required only by function B should A be defined inside B?\n",
    "\n",
    "def method_a(arg):\n",
    "    some_data = method_b(arg)\n",
    "\n",
    "def method_b(arg):\n",
    "    return some_data\n",
    "\n",
    "** In programming languages, a closure, (also lexical closure or function closure), is a technique for implementing \n",
    "lexically scoped name binding in a language with first-class functions. Operationally, a closure is a record storing \n",
    "a function\n",
    "'''\n",
    "\n",
    "def _sum(x, y):\n",
    "    # closure\n",
    "    def do_it():\n",
    "        return x + y\n",
    "    return do_it\n",
    "\n",
    "a = _sum(1, 3)\n",
    "print(a)\n",
    "print(a())"
   ]
  },
  {
   "cell_type": "code",
   "execution_count": 72,
   "id": "f0635afa",
   "metadata": {},
   "outputs": [
    {
     "name": "stdout",
     "output_type": "stream",
     "text": [
      "<function outer_func.<locals>.inner_func at 0x0000027FF96A6A20>\n",
      "Hi\n"
     ]
    }
   ],
   "source": [
    "def outer_func():\n",
    "    message = 'Hi'  # this is called free variable, we can access it from inner function\n",
    "    def inner_func():\n",
    "        print(message)\n",
    "    return inner_func\n",
    "\n",
    "my_func = outer_func()\n",
    "print(my_func)\n",
    "my_func()"
   ]
  },
  {
   "cell_type": "code",
   "execution_count": 73,
   "id": "73ddd865",
   "metadata": {},
   "outputs": [
    {
     "name": "stdout",
     "output_type": "stream",
     "text": [
      "Hi\n",
      "Bye\n"
     ]
    }
   ],
   "source": [
    "def outer_func(msg):\n",
    "    message = msg\n",
    "    def inner_func():\n",
    "        print(message)\n",
    "    return inner_func\n",
    "\n",
    "hi_func = outer_func('Hi')\n",
    "by_func = outer_func('Bye')\n",
    "\n",
    "hi_func()\n",
    "by_func()"
   ]
  },
  {
   "cell_type": "code",
   "execution_count": 75,
   "id": "f4071081",
   "metadata": {},
   "outputs": [
    {
     "name": "stderr",
     "output_type": "stream",
     "text": [
      "INFO:root:running 'add' with arguments '(3, 3)'\n",
      "INFO:root:running 'sub' with arguments '(5, 2)'\n"
     ]
    },
    {
     "name": "stdout",
     "output_type": "stream",
     "text": [
      "<function logger.<locals>.log_func at 0x0000027FF96A5440>\n",
      "6\n",
      "3\n"
     ]
    }
   ],
   "source": [
    "logging.basicConfig(filename='example.log', level=logging.INFO)\n",
    "\n",
    "# get another function as an input\n",
    "def logger(func):\n",
    "    # gets argument related to that function\n",
    "    def log_func(*args):\n",
    "        logging.info(\"running '{}' with arguments '{}'\".format(func.__name__, args))\n",
    "        # run input function with input arguments\n",
    "        print(func(*args))\n",
    "    return log_func\n",
    "\n",
    "def add(x, y):\n",
    "    return x+y\n",
    "\n",
    "def sub(x, y):\n",
    "    return x-y\n",
    "\n",
    "add_logger = logger(add)  # initialize outer function\n",
    "sub_logger = logger(sub)\n",
    "print(add_logger)\n",
    "\n",
    "add_logger(3, 3)  # run the inner function => creates log and also executes add function\n",
    "sub_logger(5, 2)"
   ]
  },
  {
   "cell_type": "code",
   "execution_count": 80,
   "id": "a54e4f62",
   "metadata": {},
   "outputs": [
    {
     "name": "stdout",
     "output_type": "stream",
     "text": [
      "<function decorator_function.<locals>.wrapper_function at 0x0000027FF96A7740>\n",
      "wrapper executed before display\n",
      "display function ran\n"
     ]
    }
   ],
   "source": [
    "# Decorator\n",
    "\"\"\"\n",
    "Decorators, in the general sense, are functions or classes that wrap around another object, that extend, or decorate \n",
    "the object. The decorator supports the same interface as the wrapped function or object, so the receiver doesn't even \n",
    "know the object has been decorated.\n",
    "A Closure is an anonymous function that refers to its parameters or other variables outside its scope.\n",
    "So basically, decorators uses closures.\n",
    "\"\"\"\n",
    "\n",
    "# we give *args, **kwargs argument to the decorator function, so we will be able to add arguments to wrapper function\n",
    "# without raising errors\n",
    "from functools import wraps\n",
    "\n",
    "def decorator_function(original_function):\n",
    "    def wrapper_function(*args, **kwargs):\n",
    "        print(\"wrapper executed before\", original_function.__name__)\n",
    "        return original_function(*args, **kwargs)\n",
    "    return wrapper_function\n",
    "\n",
    "def display():\n",
    "    print('display function ran')\n",
    "    \n",
    "decorated_display = decorator_function(display)\n",
    "print(decorated_display)\n",
    "decorated_display()"
   ]
  },
  {
   "cell_type": "code",
   "execution_count": 82,
   "id": "ea1aa05a",
   "metadata": {},
   "outputs": [
    {
     "name": "stdout",
     "output_type": "stream",
     "text": [
      "wrapper executed before show\n",
      "show something executed\n",
      "wrapper executed before display_info\n",
      "bob 27\n"
     ]
    }
   ],
   "source": [
    "'''\n",
    "@decorator_function \n",
    "\n",
    "# the line above is same as two lines below\n",
    "decorated_display = decorator_function(display)\n",
    "decorated_display()\n",
    "'''\n",
    "\n",
    "# this @decoratorfuncName will feed the below function to another function and that one will execute this\n",
    "@decorator_function\n",
    "def show():\n",
    "    print(\"show something executed\")\n",
    "\n",
    "show()\n",
    "\n",
    "@decorator_function\n",
    "def display_info(name, age):\n",
    "    print(name, age)\n",
    "\n",
    "display_info(\"bob\", 27)"
   ]
  },
  {
   "cell_type": "code",
   "execution_count": 83,
   "id": "16c71ef8",
   "metadata": {},
   "outputs": [
    {
     "name": "stdout",
     "output_type": "stream",
     "text": [
      "wrapper executed before display_inf\n",
      "Alex 45\n"
     ]
    }
   ],
   "source": [
    "# decorator class, this way we can easily check the arguments before feeding them to the function\n",
    "class decorator_class(object):\n",
    "    # get the method\n",
    "    def __init__(self, original_function):\n",
    "        self.original_function = original_function\n",
    "\n",
    "    # get its arguments and run it with the args\n",
    "    def __call__(self, *args, **kwargs):\n",
    "        print('wrapper executed before', self.original_function.__name__)\n",
    "        return self.original_function(*args, **kwargs)\n",
    "    \n",
    "@decorator_class\n",
    "def display_inf(name, age):\n",
    "    print(name, age)\n",
    "    \n",
    "display_inf('Alex', 45)"
   ]
  },
  {
   "cell_type": "code",
   "execution_count": 88,
   "id": "22e00b23",
   "metadata": {},
   "outputs": [
    {
     "name": "stderr",
     "output_type": "stream",
     "text": [
      "INFO:root:running 'display_inf' with arguments '('bob', 27)'\n"
     ]
    },
    {
     "name": "stdout",
     "output_type": "stream",
     "text": [
      "bob 27\n"
     ]
    }
   ],
   "source": [
    "def my_logger(orig_func):\n",
    "    # import it inside the function, since we only need it here\n",
    "    import logging\n",
    "    logging.basicConfig(filename=orig_func.__name__+'.log', level=logging.INFO)\n",
    "\n",
    "    @wraps(orig_func)  # @wraps allows this to be one of several decorator of a target function\n",
    "    def wrapper(*args, **kwargs):\n",
    "        logging.info(\"running '{}' with arguments '{}'\".format(orig_func.__name__, args))\n",
    "        return orig_func(*args, **kwargs)\n",
    "    return wrapper\n",
    "\n",
    "@my_logger\n",
    "def display_inf(name, age):\n",
    "    print(name, age)\n",
    "\n",
    "display_inf(\"bob\", 27)"
   ]
  },
  {
   "cell_type": "code",
   "execution_count": 90,
   "id": "dc9d8fc6",
   "metadata": {},
   "outputs": [
    {
     "name": "stdout",
     "output_type": "stream",
     "text": [
      "bob 27\n",
      "0.0  seconds took\n"
     ]
    }
   ],
   "source": [
    "def my_timer(orig_func):\n",
    "    import time\n",
    "    # we wrap this inside a logger, because we want to feed this decorator method, to another decorator later\n",
    "    @wraps(orig_func)\n",
    "    def wrapper(*args, **kwargs):\n",
    "        t1 = time.time()\n",
    "        result = orig_func(*args, **kwargs)\n",
    "        t2 = time.time() - t1\n",
    "        print(t2, \" seconds took\")\n",
    "        return result\n",
    "    return wrapper\n",
    "\n",
    "\n",
    "@my_timer\n",
    "def display_inf(name, age):\n",
    "    print(name, age)\n",
    "\n",
    "display_inf(\"bob\", 27)"
   ]
  },
  {
   "cell_type": "code",
   "execution_count": 91,
   "id": "4d8d67ac",
   "metadata": {},
   "outputs": [
    {
     "name": "stderr",
     "output_type": "stream",
     "text": [
      "INFO:root:running 'wrapper' with arguments '('John', 19)'\n"
     ]
    },
    {
     "name": "stdout",
     "output_type": "stream",
     "text": [
      "John 19\n",
      "0.0  seconds took\n"
     ]
    }
   ],
   "source": [
    "# one function with two decorators\n",
    "'''\n",
    "Here how it works when you stack two decorators together:\n",
    "        display_variable = my_logger(my_timer(display_inf))\n",
    "        display_variable(\"Bob\", 27)\n",
    "so basically it chains the decorators together from top to bottom, since we want to use decorators in a chain we wrap \n",
    "the inner function inside a @wraps() function so it will preserve the original function\n",
    "'''\n",
    "@my_logger\n",
    "@my_timer\n",
    "def display_info(name, age):\n",
    "    print(name, age)\n",
    "    \n",
    "display_info(\"John\", 19)"
   ]
  },
  {
   "cell_type": "code",
   "execution_count": 92,
   "id": "b418296a",
   "metadata": {},
   "outputs": [
    {
     "ename": "TypeError",
     "evalue": "Can't instantiate abstract class ConcreteClass with abstract method abstractMethod",
     "output_type": "error",
     "traceback": [
      "\u001b[1;31m---------------------------------------------------------------------------\u001b[0m",
      "\u001b[1;31mTypeError\u001b[0m                                 Traceback (most recent call last)",
      "Cell \u001b[1;32mIn[92], line 21\u001b[0m\n\u001b[0;32m     16\u001b[0m         \u001b[38;5;28mself\u001b[39m\u001b[38;5;241m.\u001b[39mme \u001b[38;5;241m=\u001b[39m \u001b[38;5;124m\"\u001b[39m\u001b[38;5;124mme\u001b[39m\u001b[38;5;124m\"\u001b[39m\n\u001b[0;32m     18\u001b[0m \u001b[38;5;66;03m# Will get a TypeError without the following two lines:\u001b[39;00m\n\u001b[0;32m     19\u001b[0m \u001b[38;5;66;03m#   def abstractMethod(self):\u001b[39;00m\n\u001b[0;32m     20\u001b[0m \u001b[38;5;66;03m#       return 0\u001b[39;00m\n\u001b[1;32m---> 21\u001b[0m c \u001b[38;5;241m=\u001b[39m ConcreteClass()\n\u001b[0;32m     22\u001b[0m c\u001b[38;5;241m.\u001b[39mabstractMethod()\n",
      "\u001b[1;31mTypeError\u001b[0m: Can't instantiate abstract class ConcreteClass with abstract method abstractMethod"
     ]
    }
   ],
   "source": [
    "# python @abstractmethod decorator\n",
    "'''\n",
    "You can apply the @abstractmethod decorator to methods such as draw() that must be implemented; Python will then raise \n",
    "an exception for classes that don’t define the method. Note that the exception is only raised when you actually try to \n",
    "create an instance of a subclass lacking the method.\n",
    "'''\n",
    "import abc\n",
    "\n",
    "class AbstractClass(metaclass=abc.ABCMeta):\n",
    "    @abc.abstractmethod\n",
    "    def abstractMethod(self):\n",
    "        return\n",
    "\n",
    "class ConcreteClass(AbstractClass):\n",
    "    def __init__(self):\n",
    "        self.me = \"me\"\n",
    "\n",
    "# Will get a TypeError without the following two lines:\n",
    "#   def abstractMethod(self):\n",
    "#       return 0\n",
    "c = ConcreteClass()\n",
    "c.abstractMethod()"
   ]
  },
  {
   "cell_type": "code",
   "execution_count": null,
   "id": "55833615",
   "metadata": {},
   "outputs": [],
   "source": [
    "'''\n",
    "If abstractMethod is not defined for ConcreteClass, the following exception will be raised when running the above code: \n",
    "   TypeError: Can't instantiate abstract class ConcreteClass with abstract methods abstractMethod\n",
    "'''"
   ]
  },
  {
   "cell_type": "code",
   "execution_count": 66,
   "id": "42bf3e27",
   "metadata": {},
   "outputs": [
    {
     "name": "stdout",
     "output_type": "stream",
     "text": [
      "Before calling wrap: English\n",
      "After calling inside: German\n",
      "Language in global scope: German\n"
     ]
    }
   ],
   "source": [
    "def wrap():\n",
    "    def inside():\n",
    "        global lang  # this means that the variable below it is global\n",
    "        lang = \"German\"\n",
    "\n",
    "    print(\"Before calling wrap: \" + lang)\n",
    "    inside()\n",
    "    print(\"After calling inside: \" + lang)\n",
    "\n",
    "\n",
    "lang = \"English\"\n",
    "wrap()\n",
    "# Before calling wrap: English\n",
    "# After calling inside: German\n",
    "\n",
    "print(\"Language in global scope: \" + lang)  # Language in global scope: German"
   ]
  },
  {
   "cell_type": "code",
   "execution_count": 67,
   "id": "a8d71dd4",
   "metadata": {},
   "outputs": [
    {
     "name": "stdout",
     "output_type": "stream",
     "text": [
      "Before calling wrap: Polish\n",
      "After calling inside: German\n",
      "Language in global scope: English\n"
     ]
    }
   ],
   "source": [
    "def wrap():\n",
    "    lang = \"Polish\"\n",
    "\n",
    "    def inside():\n",
    "        nonlocal lang  # this will refer to closest non-local variable, which is the one inside wrap\n",
    "        lang = \"German\"\n",
    "\n",
    "    print(\"Before calling wrap: \" + lang)\n",
    "    inside()\n",
    "    print(\"After calling inside: \" + lang)\n",
    "\n",
    "\n",
    "lang = \"English\"\n",
    "wrap()\n",
    "# Before calling wrap: Polish\n",
    "# After calling inside: German\n",
    "print(\"Language in global scope: \" + lang)"
   ]
  },
  {
   "cell_type": "code",
   "execution_count": 82,
   "id": "f4e989ef",
   "metadata": {},
   "outputs": [
    {
     "name": "stdout",
     "output_type": "stream",
     "text": [
      "<b><u><i>Python 3 is superb</i></u></b>\n"
     ]
    }
   ],
   "source": [
    "def make_bold(fn):\n",
    "    def wrapped():\n",
    "        return \"<b>\" + fn() + \"</b>\"\n",
    "    return wrapped\n",
    "\n",
    "def make_italic(fn):\n",
    "    def wrapped():\n",
    "        return \"<i>\" + fn() + \"</i>\"\n",
    "    return wrapped\n",
    "\n",
    "def make_underline(fn):\n",
    "    def wrapped():\n",
    "        return \"<u>\" + fn() + \"</u>\"\n",
    "    return wrapped\n",
    "\n",
    "\n",
    "@make_bold\n",
    "@make_underline\n",
    "@make_italic\n",
    "def hello():\n",
    "    return \"Python 3 is superb\"\n",
    "\n",
    "print(hello())"
   ]
  },
  {
   "cell_type": "markdown",
   "id": "151ff5d6",
   "metadata": {},
   "source": [
    "\n",
    "# *** Object Oriented Programming ***"
   ]
  },
  {
   "cell_type": "code",
   "execution_count": 95,
   "id": "51577594",
   "metadata": {},
   "outputs": [],
   "source": [
    "\"\"\"\n",
    "method => function that is associated with a class (difference between method and function)\n",
    "attribute => variable that is associated with a class\n",
    "\n",
    "when you create methods within class they receive the instance as \"first argument\" automatically, by convention we call\n",
    "it \"self\"\n",
    "\"\"\"\n",
    "import datetime\n",
    "\n",
    "\n",
    "class Employee:\n",
    "    # class attributes\n",
    "    raise_amount = 1.04\n",
    "    num_of_emps = 0\n",
    "\n",
    "# __init__(self) => is the constructor (initializer) for python classes, each time you create new instance it will run\n",
    "    def __init__(self, first, last, pay):\n",
    "        self.first = first\n",
    "        self.last = last\n",
    "        self.pay = pay\n",
    "        # this is class variable, won't be initialized via class instances (objects)\n",
    "        Employee.num_of_emps += 1\n",
    "\n",
    "    # you need to pass the \"self\" argument to the method to be able to access class properties inside it\n",
    "    def fullname(self):\n",
    "        return '{} {}'.format(self.first, self.last)\n",
    "\n",
    "    def apply_raise(self):\n",
    "        self.pay = int(self.pay * Employee.raise_amount)\n",
    "\n",
    "    # this is a class method, cls is similar to self, but here we feed the actual class to this method\n",
    "    # you can also use class methods from instances, but it is not recommended\n",
    "    @classmethod\n",
    "    def set_raise_amount(cls, amount):\n",
    "        cls.raise_amount = amount\n",
    "\n",
    "    # here we use the class method as an alternative constructor, to make instances from string\n",
    "    @classmethod\n",
    "    def from_string(cls, emp_str):\n",
    "        first, last, pay = emp_str.split('-')\n",
    "        return cls(first, last, pay)  # this is same as \"Employee(first, last, pay)\"\n",
    "\n",
    "    # static method doesn't access instance (self) or the class (cls). it is used just to do some operation related\n",
    "    # to this class\n",
    "    @staticmethod\n",
    "    def is_workday(day):\n",
    "        if day.weekday() == 5 or day.weekday() == 6:\n",
    "            return False\n",
    "        return True"
   ]
  },
  {
   "cell_type": "code",
   "execution_count": 96,
   "id": "fb23718d",
   "metadata": {},
   "outputs": [
    {
     "name": "stdout",
     "output_type": "stream",
     "text": [
      "<__main__.Employee object at 0x0000027FF919E150>\n",
      "<__main__.Employee object at 0x0000027FF919F950>\n",
      "Corey Schafer\n",
      "Corey Schafer\n"
     ]
    }
   ],
   "source": [
    "emp_1 = Employee(\"Corey\", \"Schafer\", 50000)\n",
    "emp_2 = Employee(\"User\", \"Test\", 60000)\n",
    "\n",
    "print(emp_1)\n",
    "print(emp_2)\n",
    "\n",
    "# you can use both of these ways below\n",
    "print(emp_1.fullname())\n",
    "print(Employee.fullname(emp_1))"
   ]
  },
  {
   "cell_type": "code",
   "execution_count": 99,
   "id": "e397b78a",
   "metadata": {},
   "outputs": [
    {
     "name": "stdout",
     "output_type": "stream",
     "text": [
      "55125\n",
      "1.05\n",
      "{'first': 'Corey', 'last': 'Schafer', 'pay': 57881}\n",
      "2\n",
      "False\n"
     ]
    }
   ],
   "source": [
    "'''\n",
    "Employee.raise_amount => this is a class variable, if we change it, it will change for all instances\n",
    "self.raise_amount => this is a instance variable, it will only change it for this instance of class\n",
    "\n",
    "python will first check if an instance variable exists, if not it will proceed to find class variable\n",
    "'''\n",
    "\n",
    "# this is same as \"Employee.raise_amount = 1.05\"\n",
    "Employee.set_raise_amount(1.05)\n",
    "\n",
    "print(emp_1.pay)\n",
    "emp_1.apply_raise()\n",
    "print(emp_1.raise_amount)\n",
    "\n",
    "# since raise_amount is class variable we can't see it in properties of instance\n",
    "print(emp_1.__dict__)\n",
    "\n",
    "print(Employee.num_of_emps)\n",
    "\n",
    "emp_str_1 = 'John-Doe-70000'\n",
    "emp_str_2 = 'Steven-Smith-30000'\n",
    "\n",
    "emp_3 = Employee.from_string(emp_str_1)\n",
    "emp_4 = Employee.from_string(emp_str_2)\n",
    "\n",
    "# using static method from class\n",
    "my_date = datetime.date(2019, 7, 13)\n",
    "print(Employee.is_workday(my_date))"
   ]
  },
  {
   "cell_type": "code",
   "execution_count": 102,
   "id": "7908923b",
   "metadata": {},
   "outputs": [
    {
     "name": "stdout",
     "output_type": "stream",
     "text": [
      "23\n"
     ]
    },
    {
     "ename": "AttributeError",
     "evalue": "'Test' object has no attribute '__baz'",
     "output_type": "error",
     "traceback": [
      "\u001b[1;31m---------------------------------------------------------------------------\u001b[0m",
      "\u001b[1;31mAttributeError\u001b[0m                            Traceback (most recent call last)",
      "Cell \u001b[1;32mIn[102], line 18\u001b[0m\n\u001b[0;32m     16\u001b[0m t \u001b[38;5;241m=\u001b[39m Test()\n\u001b[0;32m     17\u001b[0m \u001b[38;5;28mprint\u001b[39m(t\u001b[38;5;241m.\u001b[39m_bar)\n\u001b[1;32m---> 18\u001b[0m \u001b[38;5;28mprint\u001b[39m(t\u001b[38;5;241m.\u001b[39m__baz)\n",
      "\u001b[1;31mAttributeError\u001b[0m: 'Test' object has no attribute '__baz'"
     ]
    }
   ],
   "source": [
    "# python Protected and Private methods\n",
    "class Test:\n",
    "    def __init__(self):\n",
    "        self.foo = 11\n",
    "        # variable with _ means it is better to be private _bar (similar to protected in c#), you still can access this\n",
    "        # from instances\n",
    "        self._bar = 23\n",
    "        # variable with __ means it is actually private, can't be accessed from class instances nor can be accessed by\n",
    "        # class itself from outside\n",
    "        self.__baz = 42\n",
    "\n",
    "    @staticmethod\n",
    "    def show(self):\n",
    "        print(\"1\")\n",
    "\n",
    "t = Test()\n",
    "print(t._bar)\n",
    "print(t.__baz)  # throws an error"
   ]
  },
  {
   "cell_type": "code",
   "execution_count": 105,
   "id": "005cdd14",
   "metadata": {},
   "outputs": [
    {
     "name": "stdout",
     "output_type": "stream",
     "text": [
      "Help on class Developer in module __main__:\n",
      "\n",
      "class Developer(Employee)\n",
      " |  Developer(first, last, pay, prog_lang)\n",
      " |  \n",
      " |  Method resolution order:\n",
      " |      Developer\n",
      " |      Employee\n",
      " |      builtins.object\n",
      " |  \n",
      " |  Methods defined here:\n",
      " |  \n",
      " |  __init__(self, first, last, pay, prog_lang)\n",
      " |      Initialize self.  See help(type(self)) for accurate signature.\n",
      " |  \n",
      " |  ----------------------------------------------------------------------\n",
      " |  Data and other attributes defined here:\n",
      " |  \n",
      " |  raise_amount = 1.1\n",
      " |  \n",
      " |  ----------------------------------------------------------------------\n",
      " |  Methods inherited from Employee:\n",
      " |  \n",
      " |  apply_raise(self)\n",
      " |  \n",
      " |  fullname(self)\n",
      " |      # you need to pass the \"self\" argument to the method to be able to access class properties inside it\n",
      " |  \n",
      " |  ----------------------------------------------------------------------\n",
      " |  Class methods inherited from Employee:\n",
      " |  \n",
      " |  from_string(emp_str) from builtins.type\n",
      " |      # here we use the class method as an alternative constructor, to make instances from string\n",
      " |  \n",
      " |  set_raise_amount(amount) from builtins.type\n",
      " |      # this is a class method, cls is similar to self, but here we feed the actual class to this method\n",
      " |      # you can also use class methods from instances, but it is not recommended\n",
      " |  \n",
      " |  ----------------------------------------------------------------------\n",
      " |  Static methods inherited from Employee:\n",
      " |  \n",
      " |  is_workday(day)\n",
      " |      # static method doesn't access instance (self) or the class (cls). it is used just to do some operation related\n",
      " |      # to this class\n",
      " |  \n",
      " |  ----------------------------------------------------------------------\n",
      " |  Data descriptors inherited from Employee:\n",
      " |  \n",
      " |  __dict__\n",
      " |      dictionary for instance variables (if defined)\n",
      " |  \n",
      " |  __weakref__\n",
      " |      list of weak references to the object (if defined)\n",
      " |  \n",
      " |  ----------------------------------------------------------------------\n",
      " |  Data and other attributes inherited from Employee:\n",
      " |  \n",
      " |  num_of_emps = 8\n",
      "\n",
      "None\n",
      "Python\n",
      "User\n",
      "1.1 1.05\n"
     ]
    }
   ],
   "source": [
    "# inheritance => when you put argument after name of a class it means its another class that we want to inherit from\n",
    "class Developer(Employee):\n",
    "    # when you apply a parent method/property in child class, it doesn't affect instances of parent class\n",
    "    raise_amount = 1.10\n",
    "\n",
    "    def __init__(self, first, last, pay, prog_lang):\n",
    "        super().__init__(first, last, pay)\n",
    "        self.prog_lang = prog_lang\n",
    "\n",
    "\n",
    "print(help(Developer))\n",
    "dev_1 = Developer(\"Corey\", \"Schafer\", 50000, \"Python\")\n",
    "dev_2 = Developer(\"User\", \"Test\", 60000, \"Java\")\n",
    "\n",
    "print(dev_1.prog_lang)\n",
    "print(dev_2.first)\n",
    "print(Developer.raise_amount, Employee.raise_amount)"
   ]
  },
  {
   "cell_type": "code",
   "execution_count": 109,
   "id": "446c2d3c",
   "metadata": {},
   "outputs": [
    {
     "name": "stdout",
     "output_type": "stream",
     "text": [
      "name of manager :  Smith\n",
      "[<__main__.Developer object at 0x0000027FF9373E90>]\n",
      "True\n",
      "True\n"
     ]
    }
   ],
   "source": [
    "class Manager(Employee):\n",
    "    # here we are overriding the method from Employee class\n",
    "    def __init__(self, first, last, pay, employees=None):\n",
    "        super().__init__(first, last, pay)\n",
    "        if employees is None:\n",
    "            self.employees = []\n",
    "        else:\n",
    "            self.employees = employees\n",
    "\n",
    "    def add_employee(self, emp: Employee):\n",
    "        if emp not in self.employees:\n",
    "            self.employees.append(emp)\n",
    "\n",
    "    def rmv_employee(self, emp: Employee):\n",
    "        if emp in self.employees:\n",
    "            self.employees.remove(emp)\n",
    "\n",
    "mgr_1 = Manager(\"Sue\", \"Smith\", 90000, [dev_1])\n",
    "print(\"name of manager : \", mgr_1.last)\n",
    "\n",
    "mgr_1.add_employee(dev_2)\n",
    "mgr_1.rmv_employee(dev_1)\n",
    "print(mgr_1.employees)\n",
    "\n",
    "# check if object is instance of class :\n",
    "print(isinstance(mgr_1, Manager))\n",
    "print(isinstance(mgr_1, Employee))"
   ]
  },
  {
   "cell_type": "code",
   "execution_count": 110,
   "id": "3af9be62",
   "metadata": {},
   "outputs": [
    {
     "name": "stdout",
     "output_type": "stream",
     "text": [
      "Corey-Schafer\n",
      "Employee('Corey', 'Schafer', 50000)\n",
      "<__main__.Employee object at 0x0000027FF9AEF990>\n"
     ]
    }
   ],
   "source": [
    "# Magic / special Methods and overloading\n",
    "class EmployeeX:\n",
    "    # all these 3 methods are magic methods\n",
    "    def __init__(self, first, last, pay):\n",
    "        self.first = first\n",
    "        self.last = last\n",
    "        self.pay = pay\n",
    "\n",
    "    # here we are overloading the default repr method of this class\n",
    "    def __repr__(self):\n",
    "        return \"Employee('{}', '{}', {})\".format(self.first, self.last, self.pay)\n",
    "\n",
    "    # here we are overloading the default str method of this class\n",
    "    def __str__(self):\n",
    "        return '{}-{}'.format(self.first, self.last)\n",
    "\n",
    "    # this special method adds two objects of this class together (returns their combined pay)\n",
    "    def __add__(self, other):\n",
    "        return self.pay + other.pay\n",
    "\n",
    "    \n",
    "emp_1 = EmployeeX(\"Corey\", \"Schafer\", 50000)\n",
    "emp_2 = Employee(\"User\", \"Test\", 60000)\n",
    "\n",
    "print(emp_1)  # when we print this object this is calling emp_1.__str__(self)\n",
    "print(repr(emp_1))  # when we print this object this is calling emp_1.__repr__(self)\n",
    "print(emp_2)"
   ]
  },
  {
   "cell_type": "code",
   "execution_count": 112,
   "id": "9b5928a9",
   "metadata": {},
   "outputs": [
    {
     "name": "stdout",
     "output_type": "stream",
     "text": [
      "3\n",
      "3\n",
      "4\n",
      "4\n",
      "110000\n",
      "True\n",
      "False\n"
     ]
    }
   ],
   "source": [
    "# both do same operation\n",
    "print(1 + 2)\n",
    "print(int.__add__(1, 2))\n",
    "\n",
    "print(len('test'))\n",
    "print('test'.__len__())\n",
    "\n",
    "print(emp_1 + emp_2)\n",
    "\n",
    "# check if class inherits from another class:\n",
    "print(issubclass(Developer, Employee))\n",
    "print(issubclass(Developer, Manager))"
   ]
  },
  {
   "cell_type": "code",
   "execution_count": 115,
   "id": "c8dc6497",
   "metadata": {},
   "outputs": [
    {
     "name": "stdout",
     "output_type": "stream",
     "text": [
      "John Smith\n",
      "John.Smith@gmail.com\n",
      "Corey\n",
      "Delete!\n",
      "None\n"
     ]
    }
   ],
   "source": [
    "# Getters, Setters, Deleters\n",
    "class EmployeeY:\n",
    "    def __init__(self, first, last, pay):\n",
    "        self.first = first\n",
    "        self.last = last\n",
    "        self.pay = pay\n",
    "\n",
    "    # property decorators allow us to use the method like a property of the class | getter\n",
    "    @property\n",
    "    def fullname(self):\n",
    "        return '{} {}'.format(self.first, self.last)\n",
    "\n",
    "    @property\n",
    "    def email(self):\n",
    "        return '{}.{}@gmail.com'.format(self.first, self.last)\n",
    "\n",
    "    # with setter decorator you can overload the method and use it to set properties of the instance\n",
    "    @fullname.setter\n",
    "    def fullname(self, name):\n",
    "        first, last = name.split(\" \")\n",
    "        self.first = first\n",
    "        self.last = last\n",
    "\n",
    "    # with deleter decorator you can overload the method and use it to set properties of the instance\n",
    "    @fullname.deleter\n",
    "    def fullname(self):\n",
    "        print(\"Delete!\")\n",
    "        self.first = None\n",
    "        self.last = None\n",
    "\n",
    "\n",
    "emp_1 = EmployeeY('John', 'Smith', 40000)\n",
    "\n",
    "print(emp_1.fullname)  # getter\n",
    "print(emp_1.email)  # getter\n",
    "\n",
    "emp_1.fullname = \"Corey Schaefer\"  # setter\n",
    "print(emp_1.first)\n",
    "\n",
    "del emp_1.fullname  # deleter\n",
    "print(emp_1.first)"
   ]
  },
  {
   "cell_type": "code",
   "execution_count": 116,
   "id": "01e069e6",
   "metadata": {},
   "outputs": [
    {
     "name": "stdout",
     "output_type": "stream",
     "text": [
      "__main__\n",
      "running directly\n"
     ]
    }
   ],
   "source": [
    "'''\n",
    "whenever python runs a file, it first sets a few special variables, and one of those variables is __name__ and it\n",
    "sets it to __main__, but if we import this module (file) in other file, it will be different.\n",
    "therefore, we can use this idea to check if we are running it directly or running it by importing in another module\n",
    "'''\n",
    "print(__name__)\n",
    "\n",
    "def main():\n",
    "    print(\"running directly\")\n",
    "\n",
    "if __name__ == \"__main__\":\n",
    "    main()\n",
    "else:\n",
    "    print(\"running from import\")"
   ]
  },
  {
   "cell_type": "code",
   "execution_count": null,
   "id": "bcf1c2f6",
   "metadata": {},
   "outputs": [],
   "source": [
    "# Are multiple classes in a single file recommended?\n",
    "'''\n",
    "Python is not exclusively class-based - the natural unit of code decomposition in Python is the module. Modules are just\n",
    "as likely to contain functions (which are first-class objects in Python) as classes. In Java, the unit of decomposition \n",
    "is the class. Hence, Python has one module=one file, and Java has one (public) class=one file.\n",
    "\n",
    "Python is much more expressive than Java, and if you restrict yourself to one class per file (which Python does not \n",
    "prevent you from doing) you will end up with lots of very small files - more to keep track of with very little benefit.\n",
    "even more important is that in Python, you don't use classes for every- thing; if you need factories, singletons, \n",
    "multiple ways to create objects, polymorphic helpers, etc, you use plain functions, not classes or static methods.\n",
    "\n",
    "once you've gotten over the \"it's all classes\", use modules to organize things in a way that makes sense to the code \n",
    "that uses your components. make the import statements look good.\n",
    "'''"
   ]
  },
  {
   "cell_type": "code",
   "execution_count": 117,
   "id": "8b41b9ee",
   "metadata": {},
   "outputs": [],
   "source": [
    "# class with logging\n",
    "\n",
    "import logging\n",
    "\n",
    "logger = logging.getLogger(__name__)\n",
    "logger.setLevel(logging.INFO)\n",
    "formatter = logging.Formatter('%(asctime)s:%(levelname)s:%(message)s')\n",
    "file_handler = logging.FileHandler('employee.log')\n",
    "file_handler.setFormatter(formatter)\n",
    "logger.addHandler(file_handler)\n",
    "\n",
    "\n",
    "class Employee:\n",
    "    def __init__(self, first, last):\n",
    "        self.first = first\n",
    "        self.last = last\n",
    "\n",
    "        # log the user creation to the log file\n",
    "        logger.info('Created Employee: {} - {}'.format(self.fullname, self.email))\n",
    "\n",
    "    # getter functions\n",
    "    @property\n",
    "    def email(self):\n",
    "        return '{}.{}@gmail.com'.format(self.first, self.last)\n",
    "\n",
    "    @property\n",
    "    def fullname(self):\n",
    "        return '{} {}'.format(self.first, self.last)"
   ]
  },
  {
   "cell_type": "code",
   "execution_count": 118,
   "id": "7505d1a5",
   "metadata": {},
   "outputs": [
    {
     "name": "stderr",
     "output_type": "stream",
     "text": [
      "2023-11-17 16:20:14,328:__main__:Created Employee: John Smith - John.Smith@gmail.com\n",
      "INFO:__main__:Created Employee: John Smith - John.Smith@gmail.com\n",
      "2023-11-17 16:20:14,330:__main__:Created Employee: Corey Schafer - Corey.Schafer@gmail.com\n",
      "INFO:__main__:Created Employee: Corey Schafer - Corey.Schafer@gmail.com\n",
      "2023-11-17 16:20:14,331:__main__:Created Employee: Jane Doe - Jane.Doe@gmail.com\n",
      "INFO:__main__:Created Employee: Jane Doe - Jane.Doe@gmail.com\n"
     ]
    }
   ],
   "source": [
    "emp_1 = Employee('John', 'Smith')\n",
    "emp_2 = Employee('Corey', 'Schafer')\n",
    "emp_3 = Employee('Jane', 'Doe')"
   ]
  },
  {
   "cell_type": "code",
   "execution_count": 119,
   "id": "189c1601",
   "metadata": {},
   "outputs": [],
   "source": [
    "\n",
    "# *** PEP 8  coding style ***"
   ]
  },
  {
   "cell_type": "code",
   "execution_count": 128,
   "id": "14172e57",
   "metadata": {},
   "outputs": [
    {
     "name": "stdout",
     "output_type": "stream",
     "text": [
      "Astor Piazzolla\n",
      "Aníbal Troilo\n"
     ]
    }
   ],
   "source": [
    "'''\n",
    "Write user-friendly code with pep-8 naming conventions\n",
    "What is PEP 8?\n",
    "* PEP => a python enhancement Proposal\n",
    "* PEP 8 => a set of style guidlines for python\n",
    "\n",
    "https://www.python.org/dev/peps/pep-0008/\n",
    "\n",
    "Why follow PEP 8?\n",
    "\n",
    "Readable Code :\n",
    "* mostly for yourself (and other developers)\n",
    "\n",
    "User-friendly Code:\n",
    "* following naming conventions is a way to document your code\n",
    "* mostly useful for users (which can be developers too)\n",
    "'''\n",
    "\n",
    "# The most important naming conventions\n",
    "\n",
    "# regular variables => variable names should be lowercase, where necessary separating words by underscore\n",
    "import random\n",
    "a_tango_artist = 'Astor Piazzolla'\n",
    "\n",
    "\n",
    "# Constants => in Python all variables can be modiefied, therefore, real constants don't exisit. but to indicate that a variable should\n",
    "# be treated as if it were a constant, names should be uppercase, where necessary separating words by underscore\n",
    "TANGO_ARTISTS = [\n",
    "    'Astor Piazzolla',\n",
    "    'Hugo Díaz',\n",
    "    'Aníbal Troilo'\n",
    "]\n",
    "\n",
    "\n",
    "# function_names()  => names of functions and class methods should be lowercase, where necessary separating words by underscore\n",
    "def random_tango_artist():\n",
    "    return random.choice(TANGO_ARTISTS)\n",
    "\n",
    "\n",
    "print(random_tango_artist())\n",
    "\n",
    "\n",
    "# ClassNames  => class names should be capitalized the first letter of each word\n",
    "class TangoArtist:\n",
    "    def __init__(self, name) -> None:\n",
    "        self.name = name\n",
    "\n",
    "    def __str__(self):\n",
    "        return self.name\n",
    "\n",
    "\n",
    "anibal_trolio = TangoArtist(name='Aníbal Troilo')\n",
    "print(anibal_trolio)"
   ]
  },
  {
   "cell_type": "code",
   "execution_count": 130,
   "id": "871d3b92",
   "metadata": {},
   "outputs": [
    {
     "name": "stdout",
     "output_type": "stream",
     "text": [
      "Astor Piazzolla\n"
     ]
    }
   ],
   "source": [
    "# FactoryFunctionNames()  => factory functions return an object, therefore to users of your code, factory functions act like class\n",
    "# definitions. to reflect this, factory-function names should also capitalize the first letter of each word.\n",
    "def AstroPiazzolla():\n",
    "    return TangoArtist(name='Astor Piazzolla')\n",
    "\n",
    "\n",
    "astro_piazzolla = AstroPiazzolla()\n",
    "print(astro_piazzolla)  # this will call __str__ method from TangoArtist class"
   ]
  },
  {
   "cell_type": "code",
   "execution_count": 136,
   "id": "18aed96e",
   "metadata": {},
   "outputs": [
    {
     "name": "stdout",
     "output_type": "stream",
     "text": [
      "Harmonica\n"
     ]
    }
   ],
   "source": [
    "# _non_public_properties => in python, properties can be accessed from anywhere, therefore private class properties don't exist,\n",
    "# to indicate that a property should be treated as private, it should be fixed with an underscore\n",
    "class HugoDiaz(TangoArtist):\n",
    "    def __init__(self):\n",
    "        TangoArtist.__init__(self, name='Hugo Diaz')\n",
    "        self._instrument = 'Harmonica'\n",
    "\n",
    "    # getter\n",
    "    @property\n",
    "    def instrument(self):\n",
    "        return self._instrument\n",
    "    \n",
    "\n",
    "hugo_diaz = HugoDiaz()\n",
    "print(hugo_diaz.instrument)\n",
    "\n",
    "\n",
    "# conflicting_names_  => if a name is already taken, suffix it with underscore _\n",
    "in_ = 'Tango'"
   ]
  },
  {
   "cell_type": "code",
   "execution_count": 83,
   "id": "70131b09",
   "metadata": {},
   "outputs": [],
   "source": [
    "class BetterDate:\n",
    "    # Constructor\n",
    "    def __init__(self, year, month, day):\n",
    "        # Recall that Python allows multiple variable assignments in one line\n",
    "        self.year, self.month, self.day = year, month, day"
   ]
  },
  {
   "cell_type": "code",
   "execution_count": 88,
   "id": "ab37f7b1",
   "metadata": {},
   "outputs": [
    {
     "ename": "TypeError",
     "evalue": "Counter.__init__() missing 1 required positional argument: 'count'",
     "output_type": "error",
     "traceback": [
      "\u001b[1;31m---------------------------------------------------------------------------\u001b[0m",
      "\u001b[1;31mTypeError\u001b[0m                                 Traceback (most recent call last)",
      "Cell \u001b[1;32mIn[88], line 13\u001b[0m\n\u001b[0;32m     10\u001b[0m     \u001b[38;5;28;01mpass\u001b[39;00m\n\u001b[0;32m     12\u001b[0m i \u001b[38;5;241m=\u001b[39m Indexer(\u001b[38;5;241m12\u001b[39m)\n\u001b[1;32m---> 13\u001b[0m i_1 \u001b[38;5;241m=\u001b[39m Indexer()\n",
      "\u001b[1;31mTypeError\u001b[0m: Counter.__init__() missing 1 required positional argument: 'count'"
     ]
    }
   ],
   "source": [
    "class Counter:\n",
    "    def __init__(self, count):\n",
    "        self.count = count\n",
    "\n",
    "    def add_counts(self, n):\n",
    "        self.count += n\n",
    "\n",
    "\n",
    "class Indexer(Counter):  # this will cause an error as we don't pass anything to default constructor\n",
    "    pass\n",
    "\n",
    "i = Indexer(12)\n",
    "i_1 = Indexer()"
   ]
  },
  {
   "cell_type": "code",
   "execution_count": 86,
   "id": "281377e4",
   "metadata": {},
   "outputs": [
    {
     "name": "stdout",
     "output_type": "stream",
     "text": [
      "True\n",
      "False\n"
     ]
    }
   ],
   "source": [
    "class BankAccount:\n",
    "    # MODIFY to initialize a number attribute\n",
    "    def __init__(self, number, balance=0):\n",
    "        self.balance = balance\n",
    "        self.number = number\n",
    "\n",
    "    def withdraw(self, amount):\n",
    "        self.balance -= amount\n",
    "\n",
    "    # Define __eq__ that returns True if the number attributes are equal\n",
    "    # MODIFY to add a check for the type()\n",
    "    def __eq__(self, other):\n",
    "        if type(self) == type(other):\n",
    "            return (self.number == other.number)\n",
    "        else:\n",
    "            return False\n",
    "\n",
    "\n",
    "# Create accounts and compare them\n",
    "acct1 = BankAccount(123, 1000)\n",
    "acct2 = BankAccount(123, 1000)\n",
    "acct3 = BankAccount(456, 1000)\n",
    "print(acct1 == acct2)\n",
    "print(acct1 == acct3)"
   ]
  },
  {
   "cell_type": "code",
   "execution_count": 89,
   "id": "907561f5",
   "metadata": {},
   "outputs": [
    {
     "name": "stdout",
     "output_type": "stream",
     "text": [
      "Child's __eq__() called\n"
     ]
    },
    {
     "data": {
      "text/plain": [
       "True"
      ]
     },
     "execution_count": 89,
     "metadata": {},
     "output_type": "execute_result"
    }
   ],
   "source": [
    "class Parent:\n",
    "    def __eq__(self, other):\n",
    "        print(\"Parent's __eq__() called\")\n",
    "        return True\n",
    "\n",
    "class Child(Parent):\n",
    "    def __eq__(self, other):\n",
    "        print(\"Child's __eq__() called\")\n",
    "        return True\n",
    "\n",
    "\n",
    "p = Parent()\n",
    "c = Child()\n",
    "\n",
    "p == c  # Child's __eq__() called"
   ]
  },
  {
   "cell_type": "code",
   "execution_count": 91,
   "id": "afea850c",
   "metadata": {},
   "outputs": [
    {
     "name": "stdout",
     "output_type": "stream",
     "text": [
      "SalaryError caught\n",
      "BonusError caught\n"
     ]
    }
   ],
   "source": [
    "# custom Exception class\n",
    "class SalaryError(ValueError):\n",
    "    pass  # the Error class of parent will catch errors for the child error class too\n",
    "\n",
    "\n",
    "class BonusError(SalaryError):\n",
    "    pass\n",
    "\n",
    "\n",
    "class Employee:\n",
    "    MIN_SALARY = 30000\n",
    "    MAX_BONUS = 5000\n",
    "\n",
    "    def __init__(self, name, salary=30000):\n",
    "        self.name = name\n",
    "        if salary < Employee.MIN_SALARY:\n",
    "            raise SalaryError(\"Salary is too low!\")\n",
    "        self.salary = salary\n",
    "\n",
    "    # Rewrite using exceptions\n",
    "    def give_bonus(self, amount):\n",
    "        if amount > Employee.MAX_BONUS:\n",
    "            raise BonusError(\"The bonus amount is too high!\")\n",
    "        elif self.salary + amount < Employee.MIN_SALARY:\n",
    "            raise SalaryError(\"The salary after bonus is too low!\")\n",
    "        else:\n",
    "            self.salary += amount\n",
    "            \n",
    "            \n",
    "# It's better to list the except blocks in the increasing order of specificity, i.e. children before parents, otherwise\n",
    "# the child exception will be called in the parent except block.\n",
    "\n",
    "emp = Employee(\"Katze Rik\", 50000)\n",
    "try:\n",
    "    emp.give_bonus(7000)\n",
    "except SalaryError:\n",
    "    print(\"SalaryError caught\")  # this will be executed, the Error class of parent will catch errors for the child error class too\n",
    "except BonusError:\n",
    "    print(\"BonusError caught\")\n",
    "\n",
    "\n",
    "emp = Employee(\"Katze Rik\", 50000)\n",
    "try:\n",
    "    emp.give_bonus(7000)\n",
    "except BonusError:\n",
    "    print(\"BonusError caught\")  # this will be executed\n",
    "except SalaryError:\n",
    "    print(\"SalaryError caught\")\n"
   ]
  },
  {
   "cell_type": "code",
   "execution_count": 92,
   "id": "24dbb406",
   "metadata": {},
   "outputs": [
    {
     "name": "stdout",
     "output_type": "stream",
     "text": [
      "True\n",
      "False\n"
     ]
    }
   ],
   "source": [
    "class BetterDate:\n",
    "    _MAX_DAYS = 30\n",
    "    _MAX_MONTHS = 12\n",
    "\n",
    "    def __init__(self, year, month, day):\n",
    "        self.year, self.month, self.day = year, month, day\n",
    "\n",
    "    # alternative to the __init__ method\n",
    "    @classmethod\n",
    "    def from_str(cls, datestr):\n",
    "        year, month, day = map(int, datestr.split(\"-\"))\n",
    "        return cls(year, month, day)\n",
    "\n",
    "    # Add _is_valid() checking day and month values\n",
    "    def _is_valid(self):\n",
    "        if (self.day <= BetterDate._MAX_DAYS) and (self.month <= BetterDate._MAX_MONTHS):\n",
    "            return True\n",
    "        else:\n",
    "            return False\n",
    "        \n",
    "\n",
    "bd1 = BetterDate(2020, 4, 30)\n",
    "print(bd1._is_valid())\n",
    "\n",
    "bd2 = BetterDate(2020, 6, 45)\n",
    "print(bd2._is_valid())"
   ]
  },
  {
   "cell_type": "code",
   "execution_count": 95,
   "id": "f67f6239",
   "metadata": {},
   "outputs": [
    {
     "name": "stdout",
     "output_type": "stream",
     "text": [
      "Setter method called\n",
      "3000\n",
      "Invalid balance!\n"
     ]
    }
   ],
   "source": [
    "class Customer:\n",
    "    def __init__(self, name, new_bal):\n",
    "        self.name = name\n",
    "        if new_bal < 0:\n",
    "            raise ValueError(\"Invalid balance!\")\n",
    "        self._balance = new_bal\n",
    "\n",
    "    # Add a decorated getter balance() method returning _balance\n",
    "    @property\n",
    "    def balance(self):\n",
    "        return self._balance\n",
    "\n",
    "    # Add a setter balance() method\n",
    "    @balance.setter\n",
    "    def balance(self, new_bal):\n",
    "        # Validate the parameter value\n",
    "        if new_bal < 0:\n",
    "            raise ValueError(\"Invalid balance!\")\n",
    "        self._balance = new_bal\n",
    "        print(\"Setter method called\")\n",
    "\n",
    "        \n",
    "# Create a Customer\n",
    "cust = Customer(\"Belinda Lutz\", 2000)\n",
    "cust.balance = 3000\n",
    "print(cust.balance)\n",
    "\n",
    "try:\n",
    "    cust_0 = Customer(\"Belinda Lutz\", -2)\n",
    "except ValueError as e:\n",
    "    print(e)"
   ]
  },
  {
   "cell_type": "code",
   "execution_count": 98,
   "id": "b0d0b7aa",
   "metadata": {},
   "outputs": [
    {
     "name": "stdout",
     "output_type": "stream",
     "text": [
      "arg {'col1': [1, 2], 'col2': [3, 4]}\n",
      "kwarg\n",
      "2023-11-21 17:18:40.700382\n"
     ]
    },
    {
     "ename": "AttributeError",
     "evalue": "property 'created_at' of 'LoggedDF' object has no setter",
     "output_type": "error",
     "traceback": [
      "\u001b[1;31m---------------------------------------------------------------------------\u001b[0m",
      "\u001b[1;31mAttributeError\u001b[0m                            Traceback (most recent call last)",
      "\u001b[1;32m~\\anaconda3\\Lib\\site-packages\\pandas\\core\\generic.py\u001b[0m in \u001b[0;36m?\u001b[1;34m(self, name, value)\u001b[0m\n\u001b[0;32m   6028\u001b[0m                         \u001b[0mstacklevel\u001b[0m\u001b[1;33m=\u001b[0m\u001b[0mfind_stack_level\u001b[0m\u001b[1;33m(\u001b[0m\u001b[1;33m)\u001b[0m\u001b[1;33m,\u001b[0m\u001b[1;33m\u001b[0m\u001b[1;33m\u001b[0m\u001b[0m\n\u001b[0;32m   6029\u001b[0m                     )\n\u001b[1;32m-> 6030\u001b[1;33m                 \u001b[0mobject\u001b[0m\u001b[1;33m.\u001b[0m\u001b[0m__setattr__\u001b[0m\u001b[1;33m(\u001b[0m\u001b[0mself\u001b[0m\u001b[1;33m,\u001b[0m \u001b[0mname\u001b[0m\u001b[1;33m,\u001b[0m \u001b[0mvalue\u001b[0m\u001b[1;33m)\u001b[0m\u001b[1;33m\u001b[0m\u001b[1;33m\u001b[0m\u001b[0m\n\u001b[0m",
      "\u001b[1;31mAttributeError\u001b[0m: property 'created_at' of 'LoggedDF' object has no setter",
      "\nDuring handling of the above exception, another exception occurred:\n",
      "\u001b[1;31mAttributeError\u001b[0m                            Traceback (most recent call last)",
      "\u001b[1;32m~\\AppData\\Local\\Temp\\ipykernel_26388\\77189438.py\u001b[0m in \u001b[0;36m?\u001b[1;34m()\u001b[0m\n\u001b[0;32m     25\u001b[0m \u001b[0mldf\u001b[0m \u001b[1;33m=\u001b[0m \u001b[0mLoggedDF\u001b[0m\u001b[1;33m(\u001b[0m\u001b[1;33m{\u001b[0m\u001b[1;34m\"col1\"\u001b[0m\u001b[1;33m:\u001b[0m \u001b[1;33m[\u001b[0m\u001b[1;36m1\u001b[0m\u001b[1;33m,\u001b[0m \u001b[1;36m2\u001b[0m\u001b[1;33m]\u001b[0m\u001b[1;33m,\u001b[0m \u001b[1;34m\"col2\"\u001b[0m\u001b[1;33m:\u001b[0m \u001b[1;33m[\u001b[0m\u001b[1;36m3\u001b[0m\u001b[1;33m,\u001b[0m \u001b[1;36m4\u001b[0m\u001b[1;33m]\u001b[0m\u001b[1;33m}\u001b[0m\u001b[1;33m)\u001b[0m\u001b[1;33m\u001b[0m\u001b[1;33m\u001b[0m\u001b[0m\n\u001b[0;32m     26\u001b[0m \u001b[0mprint\u001b[0m\u001b[1;33m(\u001b[0m\u001b[0mldf\u001b[0m\u001b[1;33m.\u001b[0m\u001b[0mcreated_at\u001b[0m\u001b[1;33m)\u001b[0m\u001b[1;33m\u001b[0m\u001b[1;33m\u001b[0m\u001b[0m\n\u001b[0;32m     27\u001b[0m \u001b[1;33m\u001b[0m\u001b[0m\n\u001b[0;32m     28\u001b[0m \u001b[1;31m# this will throw an AttributeError as we haven't asigned setter method to _created_at\u001b[0m\u001b[1;33m\u001b[0m\u001b[1;33m\u001b[0m\u001b[0m\n\u001b[1;32m---> 29\u001b[1;33m \u001b[0mldf\u001b[0m\u001b[1;33m.\u001b[0m\u001b[0mcreated_at\u001b[0m \u001b[1;33m=\u001b[0m \u001b[1;34m'2035-07-13'\u001b[0m\u001b[1;33m\u001b[0m\u001b[1;33m\u001b[0m\u001b[0m\n\u001b[0m",
      "\u001b[1;32m~\\anaconda3\\Lib\\site-packages\\pandas\\core\\generic.py\u001b[0m in \u001b[0;36m?\u001b[1;34m(self, name, value)\u001b[0m\n\u001b[0;32m   6026\u001b[0m                         \u001b[1;34m\"https://pandas.pydata.org/pandas-docs/\"\u001b[0m\u001b[1;33m\u001b[0m\u001b[1;33m\u001b[0m\u001b[0m\n\u001b[0;32m   6027\u001b[0m                         \u001b[1;34m\"stable/indexing.html#attribute-access\"\u001b[0m\u001b[1;33m,\u001b[0m\u001b[1;33m\u001b[0m\u001b[1;33m\u001b[0m\u001b[0m\n\u001b[0;32m   6028\u001b[0m                         \u001b[0mstacklevel\u001b[0m\u001b[1;33m=\u001b[0m\u001b[0mfind_stack_level\u001b[0m\u001b[1;33m(\u001b[0m\u001b[1;33m)\u001b[0m\u001b[1;33m,\u001b[0m\u001b[1;33m\u001b[0m\u001b[1;33m\u001b[0m\u001b[0m\n\u001b[0;32m   6029\u001b[0m                     )\n\u001b[1;32m-> 6030\u001b[1;33m                 \u001b[0mobject\u001b[0m\u001b[1;33m.\u001b[0m\u001b[0m__setattr__\u001b[0m\u001b[1;33m(\u001b[0m\u001b[0mself\u001b[0m\u001b[1;33m,\u001b[0m \u001b[0mname\u001b[0m\u001b[1;33m,\u001b[0m \u001b[0mvalue\u001b[0m\u001b[1;33m)\u001b[0m\u001b[1;33m\u001b[0m\u001b[1;33m\u001b[0m\u001b[0m\n\u001b[0m",
      "\u001b[1;31mAttributeError\u001b[0m: property 'created_at' of 'LoggedDF' object has no setter"
     ]
    }
   ],
   "source": [
    "import pandas as pd\n",
    "from datetime import datetime\n",
    "\n",
    "# MODIFY the class to use _created_at instead of created_at of original DataFrame c;ass from Pandas\n",
    "class LoggedDF(pd.DataFrame):\n",
    "    \n",
    "    def __init__(self, *args, **kwargs):\n",
    "        print(\"arg\", *args)\n",
    "        print(\"kwarg\", **kwargs)\n",
    "        pd.DataFrame.__init__(self, *args, **kwargs)\n",
    "        self._created_at = datetime.today()\n",
    "\n",
    "    def to_csv(self, *args, **kwargs):\n",
    "        temp = self.copy()\n",
    "        temp[\"created_at\"] = self._created_at\n",
    "        pd.DataFrame.to_csv(temp, *args, **kwargs)\n",
    "\n",
    "    # Add a read-only property: _created_at\n",
    "    @property\n",
    "    def created_at(self):\n",
    "        return self._created_at\n",
    "\n",
    "\n",
    "# Instantiate a LoggedDF called ldf\n",
    "ldf = LoggedDF({\"col1\": [1, 2], \"col2\": [3, 4]})\n",
    "print(ldf.created_at)\n",
    "\n",
    "# this will throw an AttributeError as we haven't asigned setter method to _created_at\n",
    "ldf.created_at = '2035-07-13'"
   ]
  },
  {
   "cell_type": "markdown",
   "id": "2a972e1b",
   "metadata": {},
   "source": [
    "\n",
    "# *** Pythonic Coding ***"
   ]
  },
  {
   "cell_type": "code",
   "execution_count": 2,
   "id": "cf111c85",
   "metadata": {},
   "outputs": [],
   "source": [
    "\"\"\"\n",
    "Duck typing : if it behaves like a duck when asked to do so, it is a duck!\n",
    "Asking Forgiveness, Not Permission : try doing something if it works, great. if not then handle the error\n",
    "(instead of doing several check ups before)\n",
    "\"\"\"\n",
    "\n",
    "class Duck():\n",
    "    def quack(self):\n",
    "        print(\"Quak\")\n",
    "        \n",
    "    def fly(self):\n",
    "        print(\"flap\")\n",
    "    \n",
    "\n",
    "class Person():\n",
    "    def quack(self):\n",
    "        print('Quack like a duck')\n",
    "\n",
    "    def fly(self):\n",
    "        print('flap like a duck')\n",
    "\n",
    "# not Duck-typed(Non-Pythonic)\n",
    "def quack_and_fly(thing):\n",
    "    if isinstance(thing, Duck):\n",
    "        if hasattr(thing, 'quack'):\n",
    "            if callable(thing.quack):\n",
    "                thing.quack()\n",
    "                \n",
    "        thing.fly()\n",
    "    else:\n",
    "        print(\"not a duck!\")"
   ]
  },
  {
   "cell_type": "code",
   "execution_count": 3,
   "id": "d33f94cb",
   "metadata": {},
   "outputs": [
    {
     "name": "stdout",
     "output_type": "stream",
     "text": [
      "Quak\n",
      "flap\n",
      "not a duck!\n"
     ]
    }
   ],
   "source": [
    "d = Duck()\n",
    "quack_and_fly(d)\n",
    "\n",
    "p = Person()\n",
    "quack_and_fly(p)"
   ]
  },
  {
   "cell_type": "code",
   "execution_count": 4,
   "id": "b9a7acef",
   "metadata": {},
   "outputs": [
    {
     "name": "stdout",
     "output_type": "stream",
     "text": [
      "Quak\n",
      "flap\n",
      "'Duck' object has no attribute 'bark'\n",
      "Quack like a duck\n",
      "flap like a duck\n",
      "'Person' object has no attribute 'bark'\n"
     ]
    }
   ],
   "source": [
    "# Pythonic way\n",
    "def quack_and_fly_fixed(thing):\n",
    "    # Asking Forgiveness, Not Permission (much more readable)\n",
    "    try:\n",
    "        thing.quack()\n",
    "        thing.fly()\n",
    "        thing.bark()\n",
    "    except AttributeError as e:\n",
    "        print(e)\n",
    "        \n",
    "quack_and_fly_fixed(d)\n",
    "quack_and_fly_fixed(p)"
   ]
  },
  {
   "cell_type": "code",
   "execution_count": 7,
   "id": "6a2380ae",
   "metadata": {},
   "outputs": [
    {
     "name": "stdout",
     "output_type": "stream",
     "text": [
      "Jess 23 Programmer\n",
      "Jess 23 Programmer\n"
     ]
    }
   ],
   "source": [
    "person = { 'name': 'Jess', 'age': 23, 'job': 'Programmer'}\n",
    "\n",
    "# non-pythonic way\n",
    "if 'name' in person and 'age' in person and 'job' in person:\n",
    "    print(person['name'], person['age'], person['job'])\n",
    "else:\n",
    "    print(\"missing some keys\")\n",
    "    \n",
    "# pythonic way (Asking Forgiveness, Not Permission)\n",
    "try:\n",
    "    print(person['name'], person['age'], person['job'])\n",
    "except KeyError as e:\n",
    "    print(\"Missing {} key\".format(e))"
   ]
  },
  {
   "cell_type": "code",
   "execution_count": 9,
   "id": "07c0a80d",
   "metadata": {},
   "outputs": [
    {
     "name": "stdout",
     "output_type": "stream",
     "text": [
      "6\n",
      "index not in the list\n"
     ]
    }
   ],
   "source": [
    "my_list = [1, 2, 3, 4, 5, 6]\n",
    "\n",
    "# non-Pythonic\n",
    "if len(my_list) >= 6:\n",
    "    print(my_list[5])\n",
    "    \n",
    "# Pythonic way\n",
    "try:\n",
    "    print(my_list[7])\n",
    "except IndexError:\n",
    "    print(\"index not in the list\")"
   ]
  },
  {
   "cell_type": "markdown",
   "id": "69e7fe2a",
   "metadata": {},
   "source": [
    "\n",
    "# *** SubProcess Module ***"
   ]
  },
  {
   "cell_type": "code",
   "execution_count": 13,
   "id": "83946355",
   "metadata": {},
   "outputs": [
    {
     "name": "stdout",
     "output_type": "stream",
     "text": [
      "CompletedProcess(args='ls', returncode=1)\n"
     ]
    },
    {
     "data": {
      "text/plain": [
       "CompletedProcess(args='ls -la', returncode=1)"
      ]
     },
     "execution_count": 13,
     "metadata": {},
     "output_type": "execute_result"
    }
   ],
   "source": [
    "# Subprocess\n",
    "# we can use subprocess module to run external commands via python, it is very easy to handle shell scripting code\n",
    "# and linux command line via subprocess\n",
    "\n",
    "import sys\n",
    "import subprocess\n",
    "\n",
    "print(subprocess.run(\"ls\", shell=True))\n",
    "subprocess.run(\"ls -la\", shell=True)  # show all files\n",
    "subprocess.run(['ls', '-la']) # withput shell command"
   ]
  },
  {
   "cell_type": "code",
   "execution_count": 16,
   "id": "26cc50a0",
   "metadata": {},
   "outputs": [
    {
     "name": "stdout",
     "output_type": "stream",
     "text": [
      "ls -la\n",
      "1\n"
     ]
    }
   ],
   "source": [
    "p1 = subprocess.run(\"ls -la\", shell=True)\n",
    "print(p1.args)\n",
    "print(p1.returncode)   # return code 0 means ran successfully | return 1 means there was some error"
   ]
  },
  {
   "cell_type": "code",
   "execution_count": 18,
   "id": "6735a297",
   "metadata": {},
   "outputs": [
    {
     "name": "stdout",
     "output_type": "stream",
     "text": [
      "\n"
     ]
    }
   ],
   "source": [
    "p1 = subprocess.run(['ls', '-la'], capture_output=True) # capture output of subprocess to the variable p1\n",
    "print(p1.stdout.decode()) # since p1 output is in bytes we use .decode() to convert it to utf-8"
   ]
  },
  {
   "cell_type": "code",
   "execution_count": 20,
   "id": "399c10aa",
   "metadata": {},
   "outputs": [],
   "source": [
    "p1 = subprocess.run(['ls', '-la'], capture_output=True, text=True)  # capture it as text instead of bytes\n",
    "print(p1.stdout())"
   ]
  },
  {
   "cell_type": "code",
   "execution_count": null,
   "id": "27f4549d",
   "metadata": {},
   "outputs": [],
   "source": [
    "p1 = subprocess.run(['ls', '-la'], stdout=subprocess.PIPE, text=True) # does same thing as above code\n",
    "print(p1.stdout)"
   ]
  },
  {
   "cell_type": "code",
   "execution_count": 22,
   "id": "dd1e7171",
   "metadata": {},
   "outputs": [],
   "source": [
    "# write to text file the result of the command\n",
    "with open('output.txt', 'w') as f:\n",
    "    p1 = subprocess.run(['ls', '-la'], stdout=f, text=True)"
   ]
  },
  {
   "cell_type": "code",
   "execution_count": null,
   "id": "cab0f3a7",
   "metadata": {},
   "outputs": [],
   "source": [
    "# handling errors\n",
    "# this stands for name of the folder\n",
    "p1 = subprocess.run(['ls', '-la', 'dne'], capture_output=True, text=True)\n",
    "print(p1.stderr) # show the error that we get\n",
    "if p1.returncode != 0:\n",
    "    sys.exit()"
   ]
  },
  {
   "cell_type": "code",
   "execution_count": 27,
   "id": "ba937058",
   "metadata": {},
   "outputs": [
    {
     "ename": "CalledProcessError",
     "evalue": "Command 'ls -la' returned non-zero exit status 1.",
     "output_type": "error",
     "traceback": [
      "\u001b[1;31m---------------------------------------------------------------------------\u001b[0m",
      "\u001b[1;31mCalledProcessError\u001b[0m                        Traceback (most recent call last)",
      "Cell \u001b[1;32mIn[27], line 2\u001b[0m\n\u001b[0;32m      1\u001b[0m \u001b[38;5;66;03m# check=True : throws an exception if we get an error\u001b[39;00m\n\u001b[1;32m----> 2\u001b[0m p1 \u001b[38;5;241m=\u001b[39m subprocess\u001b[38;5;241m.\u001b[39mrun(\u001b[38;5;124m\"\u001b[39m\u001b[38;5;124mls -la\u001b[39m\u001b[38;5;124m\"\u001b[39m, shell\u001b[38;5;241m=\u001b[39m\u001b[38;5;28;01mTrue\u001b[39;00m, capture_output\u001b[38;5;241m=\u001b[39m\u001b[38;5;28;01mTrue\u001b[39;00m, text\u001b[38;5;241m=\u001b[39m\u001b[38;5;28;01mTrue\u001b[39;00m, check\u001b[38;5;241m=\u001b[39m\u001b[38;5;28;01mTrue\u001b[39;00m)\n",
      "File \u001b[1;32m~\\anaconda3\\Lib\\subprocess.py:571\u001b[0m, in \u001b[0;36mrun\u001b[1;34m(input, capture_output, timeout, check, *popenargs, **kwargs)\u001b[0m\n\u001b[0;32m    569\u001b[0m     retcode \u001b[38;5;241m=\u001b[39m process\u001b[38;5;241m.\u001b[39mpoll()\n\u001b[0;32m    570\u001b[0m     \u001b[38;5;28;01mif\u001b[39;00m check \u001b[38;5;129;01mand\u001b[39;00m retcode:\n\u001b[1;32m--> 571\u001b[0m         \u001b[38;5;28;01mraise\u001b[39;00m CalledProcessError(retcode, process\u001b[38;5;241m.\u001b[39margs,\n\u001b[0;32m    572\u001b[0m                                  output\u001b[38;5;241m=\u001b[39mstdout, stderr\u001b[38;5;241m=\u001b[39mstderr)\n\u001b[0;32m    573\u001b[0m \u001b[38;5;28;01mreturn\u001b[39;00m CompletedProcess(process\u001b[38;5;241m.\u001b[39margs, retcode, stdout, stderr)\n",
      "\u001b[1;31mCalledProcessError\u001b[0m: Command 'ls -la' returned non-zero exit status 1."
     ]
    }
   ],
   "source": [
    "# check=True : throws an exception if we get an error\n",
    "p1 = subprocess.run(\"ls -la\", shell=True, capture_output=True, text=True, check=True)"
   ]
  },
  {
   "cell_type": "code",
   "execution_count": null,
   "id": "81b8e13f",
   "metadata": {},
   "outputs": [],
   "source": [
    "# make output of one command input of another command\n",
    "# cat command in linux looks at files\n",
    "p1 = subprocess.run(['cat', 'test.txt'], capture_output=True, text=True)\n",
    "# grep command in linux searches the files\n",
    "p2 = subprocess.run(['grep', '-n', 'test'], capture_output=True, text=True, input=p1.stdout)\n",
    "print(p2.stdout)"
   ]
  },
  {
   "cell_type": "code",
   "execution_count": 28,
   "id": "5b7cd27d",
   "metadata": {},
   "outputs": [],
   "source": [
    "# same as above but in one line\n",
    "p1 = subprocess.run('cat test.txt | grep -n test', capture_output=True, text=True, shell=True)"
   ]
  },
  {
   "cell_type": "markdown",
   "id": "5c6e3a81",
   "metadata": {},
   "source": [
    "\n",
    "# *** Interview Questions ***"
   ]
  },
  {
   "cell_type": "code",
   "execution_count": null,
   "id": "81d5a502",
   "metadata": {},
   "outputs": [],
   "source": [
    "*** What is Python?\n",
    "\n",
    "Python is a programming language with objects, modules, threads, exceptions, and automatic memory management. The\n",
    "benefits of pythons are that it is simple and easy, portable, extensible, build-in data structure, and it is open-source.\n",
    "\n",
    "*** What is PEP8?\n",
    "\n",
    "PEP 8 is a coding convention, a set of recommendation, about how to write your Python code more readable.\n",
    "\n",
    "*** What is pickling and unpickling?\n",
    "\n",
    "Pickle module accepts any Python object and converts it into a string representation and dumps it into a file by using dump function. \n",
    "This process is called pickling. While the process of retrieving original Python objects from the stored \n",
    "string representation is called unpickling.\n",
    "\n",
    "*** How is Python interpreted?\n",
    "\n",
    "Python language is an interpreted language. Python program runs directly from the source code. It converts the source code\n",
    "that is written by the programmer into an intermediate language, which is again translated into machine language that \n",
    "has to be executed.\n",
    "\n",
    "*** How is memory managed in python?\n",
    "\n",
    "Python memory is managed by Python private heap space. All Python objects and data structures are located in a private \n",
    "heap. The programmer does not have an access to this private heap, and the interpreter takes care of this Python private heap.\n",
    "The allocation of Python heap space for Python objects is done by the Python memory manager. The core API gives access to\n",
    "some tools for the programmer to code.\n",
    "Python also has an inbuilt garbage collector, which recycles all the unused memory and frees the memory and makes it \n",
    "available to the heap space.\n",
    "\n",
    "*** How are arguments passed by value or by reference?\n",
    "\n",
    "Everything in Python is an object, and all variables hold references to the objects. The reference values are according to the functions. \n",
    "Therefore, you cannot change the value of the references. However, you can change the objects if it is mutable.\n",
    "\n",
    "*** Explain namespace in Python\n",
    "\n",
    "In Python, every name introduced has a place where it lives and can be looked for. This is known as a namespace. It is like a box where a \n",
    "variable name is mapped to the object placed. Whenever the variable is searched out, this box will be searched to get the corresponding \n",
    "object.\n",
    "local => enclosed => global => built-in\n",
    "\n",
    "*** Python Scopes?\n",
    "\n",
    "- local scope refers to the local objects available in the current function.\n",
    "- global scope refers to the objects available throught the code execution since their inception.\n",
    "- module-level scope refers to the global objects of the current module accessible in the program.\n",
    "- outermost scope refers to all the built-in names callable in the program. The objects in this scope are searched last to find the \n",
    "name referenced.\n",
    "\n",
    "*** In Python what are iterators?\n",
    "\n",
    "In Python, iterators are used to iterate a group of elements, containers like a list.\n",
    "\n",
    "*** What is docstring in Python?\n",
    "\n",
    "A Python documentation string is known as docstring, it is a way of documenting Python functions, modules, and classes.\n",
    "\n",
    "*** What is negative index in Python?\n",
    "\n",
    "Python sequences can be index in positive and negative numbers. For positive index, 0 is the first index, 1 is the second index, \n",
    "and so forth. For the negative index, (-1) is the last index, and (-2) is the second last index, and so forth.\n",
    "\n",
    "*** What is module and package in Python?\n",
    "\n",
    "In Python, module is the way to structure a program. Each Python program file is a module, which imports other modules like objects \n",
    "and attributes.\n",
    "The folder of Python program is a package of modules. A package can have modules or subfolders.\n",
    "\n",
    "*** What are the common examples of exceptions in Python?\n",
    "\n",
    "- Division by Zero\n",
    "- Accessing a file that does not exist.\n",
    "- Addition of two incompatible types\n",
    "- Trying to access a nonexistent index of a sequence\n",
    "- Removing the table from the disconnected database server.\n",
    "\n",
    "*** Python Package vs Module?\n",
    "\n",
    "Modules, in general, are simply Python files with a .py extension and can have a set of functions, classes or variables defined and \n",
    "implemented. They can be imported and initialized once using the import statement. If partial functionality is needed, import the \n",
    "requisite classes or functions using from foo import bar.\n",
    "Packages allow for hierarchial structuring of the module namespace using dot notation. As, modules help avoid clashes between global \n",
    "variable names, in a similary manner, packages help avoid clashes between module names.\n",
    "\n",
    "*** What is self in Python?\n",
    "\n",
    "Self is a keyword in Python used to define an instance or an object of a class. In Python, it is explicity used as the first paramter, \n",
    "unlike in Java where it is optional. It helps in disinguishing between the methods and attributes of a class from its local variables.\n",
    "\n",
    "*** Python Break, Continue, Pass?\n",
    "\n",
    "break => The break statement terminates the loop immediately and the control flows to the statement after the body of the loop.\n",
    "continue => The continue statement terminates the current iteration of the statement,skips the rest of the code in the current \n",
    "iteration and the control flows to the next iteration of the loop.\n",
    "pass => pass keyword in Python is generally used to fill-up empty block\n",
    "\n",
    "*** help() and dir() ?\n",
    "\n",
    "help => help() function in Python is used to display the documentation of modules, classes, functions, keywords, etc. If no parameter is \n",
    "passed to the help() function, then an interactive help utility is launched on the console.\n",
    "dir => dir() function tries to return a valid list of attributes and methods of the object it is called upon. It behaves differently \n",
    "with different objects, as it aims to produce the most relevant data, rather than the complete information.\n",
    "\n",
    "*** .py vs .pyc ?\n",
    "\n",
    ".py files contain the source code of a program. Whereas, .pyc file contains the bytecode of your program. We get bytecode after \n",
    "compilation of .py file (source code). .pyc files are not created for all the files that you run. \n",
    "It is only created for the files that you import."
   ]
  },
  {
   "cell_type": "code",
   "execution_count": null,
   "id": "43204a2f",
   "metadata": {},
   "outputs": [],
   "source": [
    "*** Explain membership operators with example?\n",
    "\n",
    "These operators test for membership in a sequence such as lists, strings, or tuples. Two membership operators are used in Python. \n",
    "(in, not in). It gives the result based on the variable present in a specified sequence or string.\n",
    "x = 4\n",
    "list = [1, 2, 3, 4, 5]\n",
    "if (x in list):\n",
    "   print(\"Line 1 - x is available in the given list\")"
   ]
  },
  {
   "cell_type": "code",
   "execution_count": 30,
   "id": "503cc151",
   "metadata": {},
   "outputs": [],
   "source": [
    "# *** Explain arrays in Pythons with example?\n",
    "\n",
    "# A Python Array is a collection of a common type of data structures having elements with the same data type. It is used to store collections \n",
    "# of data. In Python programming, arrays are handled by the \"array\" module. If you create arrays using the array module, elements of the \n",
    "# array must be of the same numeric type.\n",
    "\n",
    "import array as myarray\n",
    "\n",
    "abc = myarray.array('d', [2.5, 4.9, 6.7])\n",
    "balance = array.array('i', [300, 200, 100])\n",
    "print(abc[0])"
   ]
  },
  {
   "cell_type": "code",
   "execution_count": null,
   "id": "66efe70a",
   "metadata": {},
   "outputs": [],
   "source": [
    "*** What are the common examples of exceptions in Python?\n",
    "\n",
    "- Division by Zero\n",
    "- Accessing a file that does not exist.\n",
    "- Addition of two incompatible types\n",
    "- Trying to access a nonexistent index of a sequence\n",
    "- Removing the table from the disconnected database server."
   ]
  },
  {
   "cell_type": "code",
   "execution_count": 31,
   "id": "08ae9131",
   "metadata": {},
   "outputs": [
    {
     "name": "stdout",
     "output_type": "stream",
     "text": [
      "{2: 4, 3: 9, 5: 25, 7: 49, 11: 121}\n",
      "{3: 9, 5: 25, 7: 49, 11: 121}\n"
     ]
    }
   ],
   "source": [
    "# *** Dictionary Comprehension ?\n",
    "\n",
    "my_list = [2, 3, 5, 7, 11]\n",
    "squared_dict = {x : x**2 for x in my_list} \n",
    "print(squared_dict)\n",
    "\n",
    "my_list = [2, 3, 5, 7, 11]\n",
    "squared_dict = {x : x**2 for x in my_list if x%2 != 0} \n",
    "print(squared_dict)"
   ]
  },
  {
   "cell_type": "code",
   "execution_count": 32,
   "id": "402962b7",
   "metadata": {},
   "outputs": [
    {
     "name": "stdout",
     "output_type": "stream",
     "text": [
      "[10, 20, 30, 40, 50, 60, 70, 80, 90]\n"
     ]
    }
   ],
   "source": [
    "# *** Flatten multi-dimensional list?\n",
    "\n",
    "my_list = [[10,20,30],[40,50,60],[70,80,90]]\n",
    "flattened = [x for temp in my_list for x in temp]\n",
    "print(flattened)"
   ]
  }
 ],
 "metadata": {
  "kernelspec": {
   "display_name": "Python 3 (ipykernel)",
   "language": "python",
   "name": "python3"
  },
  "language_info": {
   "codemirror_mode": {
    "name": "ipython",
    "version": 3
   },
   "file_extension": ".py",
   "mimetype": "text/x-python",
   "name": "python",
   "nbconvert_exporter": "python",
   "pygments_lexer": "ipython3",
   "version": "3.11.5"
  }
 },
 "nbformat": 4,
 "nbformat_minor": 5
}
